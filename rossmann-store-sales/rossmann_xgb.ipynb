{
 "cells": [
  {
   "cell_type": "code",
   "execution_count": 1,
   "metadata": {
    "collapsed": true
   },
   "outputs": [],
   "source": [
    "# import libs\n",
    "import numpy as np\n",
    "import pandas as pd\n",
    "from pandas import Series, DataFrame\n",
    "import matplotlib.pyplot as plt"
   ]
  },
  {
   "cell_type": "code",
   "execution_count": 2,
   "metadata": {
    "collapsed": true
   },
   "outputs": [],
   "source": [
    "# loading data\n",
    "field_types = {\n",
    "    'StateHoliday': np.dtype(str),\n",
    "    'PromoInterval': np.dtype(str)\n",
    "}\n",
    "\n",
    "train_df = pd.read_csv(\"train.csv\", dtype = field_types, parse_dates = [2])\n",
    "test_df = pd.read_csv(\"test.csv\", dtype = field_types, parse_dates = [3])\n",
    "store_df = pd.read_csv(\"store.csv\", dtype = field_types)"
   ]
  },
  {
   "cell_type": "code",
   "execution_count": 3,
   "metadata": {},
   "outputs": [
    {
     "data": {
      "image/png": "[encoded data removed]",
      "text/plain": [
       "<matplotlib.figure.Figure at 0x1929e4891d0>"
      ]
     },
     "metadata": {},
     "output_type": "display_data"
    }
   ],
   "source": [
    "# now check and deal with null values for test_df.Open\n",
    "count_open = train_df.loc[train_df['Open'] == 1].groupby('DayOfWeek')['Sales'].count()\n",
    "count_close = train_df.loc[train_df['Open'] == 0].groupby('DayOfWeek')['Sales'].count()\n",
    "index = count_open.index.values\n",
    "bar_width = 0.35\n",
    "opacity = 0.6\n",
    "\n",
    "plt.subplot(1, 2, 1)\n",
    "plt.bar(index, count_open, bar_width,\n",
    "                 alpha=opacity, color='b')\n",
    "plt.xlabel('Open = 1')\n",
    "plt.ylabel('Counts')\n",
    "plt.title('Sales count by open week days')\n",
    "plt.xticks(index, index)\n",
    "\n",
    "plt.subplot(1, 2, 2)\n",
    "plt.bar(index, count_close, bar_width,\n",
    "                 alpha=opacity, color='r')\n",
    "plt.xlabel('Open = 0')\n",
    "plt.ylabel('Counts')\n",
    "plt.title('Sales count by closed week days')\n",
    "plt.xticks(index, index)\n",
    "fig = plt.gcf()\n",
    "fig.set_size_inches(15, 4)\n",
    "plt.show()"
   ]
  },
  {
   "cell_type": "markdown",
   "metadata": {},
   "source": [
    "Looks like normally store closed on Sunday. That should be the rule to fill Null values for test_df['Open']. \n",
    "\n",
    "However..."
   ]
  },
  {
   "cell_type": "code",
   "execution_count": 4,
   "metadata": {},
   "outputs": [
    {
     "name": "stdout",
     "output_type": "stream",
     "text": [
      "Weekdays in test data when Open is null:  [4 3 2 1 6 5]\n",
      "Number of open/closed data in test set:  Open\n",
      "0.0     5984\n",
      "1.0    35093\n",
      "Name: Store, dtype: int64\n"
     ]
    }
   ],
   "source": [
    "print(\"Weekdays in test data when Open is null: \", test_df.loc[test_df['Open'].isnull()]['DayOfWeek'].unique())\n",
    "print(\"Number of open/closed data in test set: \", test_df.groupby('Open')['Store'].count())"
   ]
  },
  {
   "cell_type": "markdown",
   "metadata": {},
   "source": [
    "There is no Sunday when Open is null in test data. So it's safe we just set the Open = 1 for those cases for this specific challenge. In general we should by default set Open = 0 for Sunday."
   ]
  },
  {
   "cell_type": "code",
   "execution_count": 5,
   "metadata": {
    "scrolled": true
   },
   "outputs": [
    {
     "name": "stdout",
     "output_type": "stream",
     "text": [
      "Are all test['Open'] non-null?  True\n",
      "Number of open/closed data in test set after fillna:  Open\n",
      "0.0     5984\n",
      "1.0    35104\n",
      "Name: Store, dtype: int64\n"
     ]
    }
   ],
   "source": [
    "test_df['Open'].fillna(1, inplace = True)\n",
    "print(\"Are all test['Open'] non-null? \", test_df['Open'].notnull().all())\n",
    "print(\"Number of open/closed data in test set after fillna: \", test_df.groupby('Open')['Store'].count()) "
   ]
  },
  {
   "cell_type": "code",
   "execution_count": 6,
   "metadata": {},
   "outputs": [
    {
     "data": {
      "text/plain": [
       "array([0], dtype=int64)"
      ]
     },
     "execution_count": 6,
     "metadata": {},
     "output_type": "execute_result"
    }
   ],
   "source": [
    "# check sales for closed stores\n",
    "train_df.loc[train_df['Open'] == 0]['Sales'].unique()"
   ]
  },
  {
   "cell_type": "markdown",
   "metadata": {},
   "source": [
    "Closed store has zero sales. We don't need to predict them by model. So just remember all closed stores in test set and predict them all zero after model prediction."
   ]
  },
  {
   "cell_type": "code",
   "execution_count": 7,
   "metadata": {},
   "outputs": [
    {
     "name": "stdout",
     "output_type": "stream",
     "text": [
      "Closed data in test set:  5984\n"
     ]
    }
   ],
   "source": [
    "closed_test_ids = test_df.loc[test_df['Open'] == 0]['Id']\n",
    "train_df = train_df[train_df['Open'] != 0]\n",
    "test_df = test_df[test_df['Open'] != 0]\n",
    "print(\"Closed data in test set: \", closed_test_ids.count())"
   ]
  },
  {
   "cell_type": "code",
   "execution_count": 8,
   "metadata": {},
   "outputs": [
    {
     "name": "stdout",
     "output_type": "stream",
     "text": [
      "Zero sales when store is open in training set:  54\n"
     ]
    }
   ],
   "source": [
    "print(\"Zero sales when store is open in training set: \", train_df.loc[(train_df['Open'] == 1) & (train_df['Sales'] == 0)]['Sales'].count())"
   ]
  },
  {
   "cell_type": "markdown",
   "metadata": {},
   "source": [
    "So there are 54 cases of zero Sales even if Store is open. Don't know why, maybe some missing information...we will exclude them from training set. "
   ]
  },
  {
   "cell_type": "code",
   "execution_count": 9,
   "metadata": {
    "collapsed": true
   },
   "outputs": [],
   "source": [
    "train_df = train_df[train_df['Sales'] > 0]"
   ]
  },
  {
   "cell_type": "code",
   "execution_count": 10,
   "metadata": {},
   "outputs": [
    {
     "name": "stdout",
     "output_type": "stream",
     "text": [
      "Training data start from 2013-01-01 to 2015-07-31\n",
      "Test data start from 2015-08-01 to 2015-09-17\n"
     ]
    }
   ],
   "source": [
    "# check the time span in train and test\n",
    "print(\"Training data start from {} to {}\".format(train_df['Date'].min().strftime('%Y-%m-%d'), train_df['Date'].max().strftime('%Y-%m-%d')))\n",
    "print(\"Test data start from {} to {}\".format(test_df['Date'].min().strftime('%Y-%m-%d'), test_df['Date'].max().strftime('%Y-%m-%d')))"
   ]
  },
  {
   "cell_type": "markdown",
   "metadata": {},
   "source": [
    "So we use 4 years data to traing and to predict 2 months data.\n",
    "\n",
    "Next we will merge train/test with store data and start handling null values in store data."
   ]
  },
  {
   "cell_type": "code",
   "execution_count": 11,
   "metadata": {
    "collapsed": true
   },
   "outputs": [],
   "source": [
    "train_df['SpendPerCustomer'] = train_df.Sales/train_df.Customers\n",
    "spend_per_customer = train_df.groupby('Store')['SpendPerCustomer'].mean()\n",
    "average_customers = train_df.groupby('Store')['Customers'].mean()\n",
    "\n",
    "spend_per_customer.index = np.arange(len(spend_per_customer))\n",
    "average_customers.index = np.arange(len(average_customers))\n",
    "store_df['GeneralSpendPerCustomer'] = spend_per_customer\n",
    "store_df['GeneralAverageCustomers'] = average_customers\n",
    "\n",
    "train_df = pd.merge(train_df, store_df, on = 'Store')\n",
    "test_df = pd.merge(test_df, store_df, on = 'Store')"
   ]
  },
  {
   "cell_type": "markdown",
   "metadata": {},
   "source": [
    "Translate date into Year, Month, Day, WeekDay, WeeOfYear, then remove date column\n",
    "\n",
    "TODO: since the test data only has 2 months data, we may consider remove Year or even Month feature later."
   ]
  },
  {
   "cell_type": "code",
   "execution_count": 12,
   "metadata": {
    "collapsed": true
   },
   "outputs": [],
   "source": [
    "train_df['Year'] = train_df.Date.dt.year\n",
    "train_df['Month'] = train_df.Date.dt.month\n",
    "train_df['Day'] = train_df.Date.dt.day\n",
    "train_df['DayOfWeek'] = train_df.Date.dt.dayofweek\n",
    "train_df['WeekOfYear'] = train_df.Date.dt.weekofyear\n",
    "\n",
    "train_df.drop(['Date'], axis = 1, inplace = True)\n",
    "\n",
    "test_df['Year'] = test_df.Date.dt.year\n",
    "test_df['Month'] = test_df.Date.dt.month\n",
    "test_df['Day'] = test_df.Date.dt.day\n",
    "test_df['DayOfWeek'] = test_df.Date.dt.dayofweek\n",
    "test_df['WeekOfYear'] = test_df.Date.dt.weekofyear\n",
    "\n",
    "test_df.drop(['Date'], axis = 1, inplace = True)"
   ]
  },
  {
   "cell_type": "markdown",
   "metadata": {},
   "source": [
    "Now handle null values:"
   ]
  },
  {
   "cell_type": "code",
   "execution_count": 13,
   "metadata": {},
   "outputs": [
    {
     "name": "stdout",
     "output_type": "stream",
     "text": [
      "Train['CompetitionDistance'] still has null value.\n",
      "Train['CompetitionOpenSinceMonth'] still has null value.\n",
      "Train['CompetitionOpenSinceYear'] still has null value.\n",
      "Train['Promo2SinceWeek'] still has null value.\n",
      "Train['Promo2SinceYear'] still has null value.\n",
      "Train['PromoInterval'] still has null value.\n"
     ]
    }
   ],
   "source": [
    "for column in train_df.columns:\n",
    "    if not train_df[column].notnull().all():\n",
    "        print(\"Train['{}'] still has null value.\".format(column))"
   ]
  },
  {
   "cell_type": "markdown",
   "metadata": {},
   "source": [
    "Plan for these:\n",
    "* null values in CompetitionDistance will be set to a big number >> max(competitionOpen), which means no competition nearby\n",
    "* CompetitionOpenSinceYear/Month will be translatted into number of months, null values will be set to zero which means no competition\n",
    "* Promo2SinceYear/Week will be translated into number of months. null values will be set to zero which means no Promo2\n",
    "* PromoInterval is confusing. From the description it just say this is \"month to start Promo2 anew\", but how long for each round of Promo2 last is not provided. It can be translated into a boolean flag say if current date is in Promo2 or not. \n",
    "\n",
    "Next code cell will do as described."
   ]
  },
  {
   "cell_type": "code",
   "execution_count": 14,
   "metadata": {
    "collapsed": true
   },
   "outputs": [],
   "source": [
    "train_df['CompetitionDistance'].fillna(store_df['CompetitionDistance'].max() * 2, inplace = True)\n",
    "train_df['CompetitionOpenSinceYear'].fillna(0, inplace=True)\n",
    "train_df['CompetitionOpenSinceMonth'].fillna(0, inplace=True)\n",
    "\n",
    "train_df['MonthsOfCompetition'] = (train_df['Year'] - train_df['CompetitionOpenSinceYear']) * 12 + \\\n",
    "                train_df['Month'] - train_df['CompetitionOpenSinceMonth']\n",
    "\n",
    "train_df.loc[train_df.CompetitionOpenSinceYear == 0, 'MonthsOfCompetition'] = 0   \n",
    "train_df.drop(['CompetitionOpenSinceYear'], axis = 1, inplace = True)\n",
    "train_df.drop(['CompetitionOpenSinceMonth'], axis = 1, inplace = True)\n",
    "\n",
    "test_df['CompetitionDistance'].fillna(store_df['CompetitionDistance'].max() * 2, inplace=True)\n",
    "test_df['CompetitionOpenSinceYear'].fillna(0, inplace=True)\n",
    "test_df['CompetitionOpenSinceMonth'].fillna(0, inplace=True)\n",
    "\n",
    "test_df['MonthsOfCompetition'] = (test_df['Year'] - test_df['CompetitionOpenSinceYear']) * 12 + \\\n",
    "                test_df['Month'] - test_df['CompetitionOpenSinceMonth']\n",
    "\n",
    "test_df.loc[test_df.CompetitionOpenSinceYear == 0, 'MonthsOfCompetition'] = 0   \n",
    "test_df.drop(['CompetitionOpenSinceYear'], axis = 1, inplace = True)\n",
    "test_df.drop(['CompetitionOpenSinceMonth'], axis = 1, inplace = True)\n",
    "\n",
    "train_df['Promo2SinceYear'].fillna(0, inplace=True)\n",
    "train_df['Promo2SinceWeek'].fillna(0, inplace=True)\n",
    "\n",
    "train_df['MonthsOfPromo2'] = (train_df['Year'] - train_df['Promo2SinceYear']) * 12 + \\\n",
    "        (train_df['WeekOfYear'] - train_df['Promo2SinceWeek'])/4\n",
    "\n",
    "train_df.loc[train_df.Promo2SinceWeek==0, 'MonthsOfPromo2'] = 0\n",
    "train_df.drop(['Promo2SinceYear'], axis = 1, inplace = True)\n",
    "train_df.drop(['Promo2SinceWeek'], axis = 1, inplace = True)\n",
    "\n",
    "test_df['Promo2SinceYear'].fillna(0, inplace=True)\n",
    "test_df['Promo2SinceWeek'].fillna(0, inplace=True)\n",
    "\n",
    "test_df['MonthsOfPromo2'] = (test_df['Year'] - test_df['Promo2SinceYear']) * 12 + \\\n",
    "        (test_df['WeekOfYear'] - test_df['Promo2SinceWeek'])/4\n",
    "\n",
    "test_df.loc[test_df.Promo2SinceWeek==0, 'MonthsOfPromo2'] = 0\n",
    "test_df.drop(['Promo2SinceYear'], axis = 1, inplace = True)\n",
    "test_df.drop(['Promo2SinceWeek'], axis = 1, inplace = True)"
   ]
  },
  {
   "cell_type": "code",
   "execution_count": 15,
   "metadata": {
    "collapsed": true
   },
   "outputs": [],
   "source": [
    "# translate 'PromoInterval' into a boolean 'isPromo2Month' to say if\n",
    "# current month is Promo2 start month or not\n",
    "\n",
    "train_df['PromoInterval'].fillna('', inplace=True)\n",
    "\n",
    "month2str = {1:'Jan', 2:'Feb', 3:'Mar', 4:'Apr', 5:'May', 6:'Jun', \\\n",
    "         7:'Jul', 8:'Aug', 9:'Sept', 10:'Oct', 11:'Nov', 12:'Dec'}\n",
    "train_df['monthStr'] = train_df.Month.map(month2str)\n",
    "train_df['IsPromo2Month'] = 0\n",
    "for interval in train_df.PromoInterval.unique():\n",
    "    if interval != '':\n",
    "        for month in interval.split(','):\n",
    "            train_df.loc[(train_df.monthStr == month) & (train_df.PromoInterval == interval), 'IsPromo2Month'] = 1\n",
    "            \n",
    "\n",
    "test_df['PromoInterval'].fillna('', inplace=True)\n",
    "\n",
    "month2str = {1:'Jan', 2:'Feb', 3:'Mar', 4:'Apr', 5:'May', 6:'Jun', \\\n",
    "         7:'Jul', 8:'Aug', 9:'Sept', 10:'Oct', 11:'Nov', 12:'Dec'}\n",
    "test_df['monthStr'] = test_df.Month.map(month2str)\n",
    "test_df['IsPromo2Month'] = 0\n",
    "for interval in test_df.PromoInterval.unique():\n",
    "    if interval != '':\n",
    "        for month in interval.split(','):\n",
    "            test_df.loc[(test_df.monthStr == month) & (test_df.PromoInterval == interval), 'IsPromo2Month'] = 1\n",
    "\n",
    "train_df.drop(['monthStr'], axis = 1, inplace = True)\n",
    "train_df.drop(['PromoInterval'], axis = 1, inplace = True)\n",
    "test_df.drop(['monthStr'], axis = 1, inplace = True)\n",
    "test_df.drop(['PromoInterval'], axis = 1, inplace = True)"
   ]
  },
  {
   "cell_type": "markdown",
   "metadata": {},
   "source": [
    "Now change categorical data into numbers: "
   ]
  },
  {
   "cell_type": "code",
   "execution_count": 16,
   "metadata": {
    "collapsed": true
   },
   "outputs": [],
   "source": [
    "map = {'0':0, 'a':1, 'b':2, 'c':3, 'd':4}\n",
    "train_df['StateHoliday'].replace(map, inplace = True)\n",
    "train_df['StoreType'].replace(map, inplace = True)\n",
    "train_df['Assortment'].replace(map, inplace = True)\n",
    "\n",
    "test_df['StateHoliday'].replace(map, inplace = True)\n",
    "test_df['StoreType'].replace(map, inplace = True)\n",
    "test_df['Assortment'].replace(map, inplace = True)"
   ]
  },
  {
   "cell_type": "code",
   "execution_count": 17,
   "metadata": {
    "collapsed": true
   },
   "outputs": [],
   "source": [
    "# calculate the AverageSales per customer by DayofWeek, Promo and StateHoliday for each store\n",
    "\n",
    "store_sales = train_df.groupby(['Store', 'DayOfWeek', 'Promo', 'StateHoliday'])['Store', 'DayOfWeek', 'Promo', 'StateHoliday', 'SpendPerCustomer'].mean()\n",
    "store_sales = pd.DataFrame(store_sales.values, columns = ['Store', 'DayOfWeek', 'Promo', 'StateHoliday', 'SalesPerCustomer'])\n",
    "\n",
    "store_customers = train_df.groupby(['Store', 'DayOfWeek', 'Promo', 'StateHoliday'])['Store', 'DayOfWeek', 'Promo', 'StateHoliday', 'Customers'].mean()\n",
    "store_customers = pd.DataFrame(store_customers.values, columns = ['Store', 'DayOfWeek', 'Promo', 'StateHoliday', 'AverageCustomer'])\n",
    "\n",
    "train_df = pd.merge(train_df, store_sales, on = ['Store', 'DayOfWeek', 'Promo', 'StateHoliday'], how='left')\n",
    "train_df = pd.merge(train_df, store_customers, on = ['Store', 'DayOfWeek', 'Promo', 'StateHoliday'], how='left')\n",
    "test_df = pd.merge(test_df, store_sales, on = ['Store', 'DayOfWeek', 'Promo', 'StateHoliday'], how='left')\n",
    "test_df = pd.merge(test_df, store_customers, on = ['Store', 'DayOfWeek', 'Promo', 'StateHoliday'], how='left')\n",
    "\n",
    "null_spc = test_df.SalesPerCustomer.notnull()\n",
    "null_spc[null_spc == False].index\n",
    "#test_df.iloc[1780, :]\n",
    "test_df.iloc[null_spc[null_spc == False].index, [-2]] = test_df.iloc[null_spc[null_spc == False].index, :].GeneralSpendPerCustomer\n",
    "test_df.iloc[null_spc[null_spc == False].index, [-1]] = test_df.iloc[null_spc[null_spc == False].index, :].GeneralAverageCustomers"
   ]
  },
  {
   "cell_type": "code",
   "execution_count": 18,
   "metadata": {},
   "outputs": [
    {
     "data": {
      "text/html": [
       "<div>\n",
       "<style>\n",
       "    .dataframe thead tr:only-child th {\n",
       "        text-align: right;\n",
       "    }\n",
       "\n",
       "    .dataframe thead th {\n",
       "        text-align: left;\n",
       "    }\n",
       "\n",
       "    .dataframe tbody tr th {\n",
       "        vertical-align: top;\n",
       "    }\n",
       "</style>\n",
       "<table border=\"1\" class=\"dataframe\">\n",
       "  <thead>\n",
       "    <tr style=\"text-align: right;\">\n",
       "      <th></th>\n",
       "      <th>Store</th>\n",
       "      <th>DayOfWeek</th>\n",
       "      <th>Sales</th>\n",
       "      <th>Customers</th>\n",
       "      <th>Open</th>\n",
       "      <th>Promo</th>\n",
       "      <th>StateHoliday</th>\n",
       "      <th>SchoolHoliday</th>\n",
       "      <th>SpendPerCustomer</th>\n",
       "      <th>StoreType</th>\n",
       "      <th>...</th>\n",
       "      <th>GeneralAverageCustomers</th>\n",
       "      <th>Year</th>\n",
       "      <th>Month</th>\n",
       "      <th>Day</th>\n",
       "      <th>WeekOfYear</th>\n",
       "      <th>MonthsOfCompetition</th>\n",
       "      <th>MonthsOfPromo2</th>\n",
       "      <th>IsPromo2Month</th>\n",
       "      <th>SalesPerCustomer</th>\n",
       "      <th>AverageCustomer</th>\n",
       "    </tr>\n",
       "  </thead>\n",
       "  <tbody>\n",
       "    <tr>\n",
       "      <th>0</th>\n",
       "      <td>1</td>\n",
       "      <td>4</td>\n",
       "      <td>5263</td>\n",
       "      <td>555</td>\n",
       "      <td>1</td>\n",
       "      <td>1</td>\n",
       "      <td>0</td>\n",
       "      <td>1</td>\n",
       "      <td>9.482883</td>\n",
       "      <td>3</td>\n",
       "      <td>...</td>\n",
       "      <td>564.049936</td>\n",
       "      <td>2015</td>\n",
       "      <td>7</td>\n",
       "      <td>31</td>\n",
       "      <td>31</td>\n",
       "      <td>82.0</td>\n",
       "      <td>0.0</td>\n",
       "      <td>0</td>\n",
       "      <td>8.730890</td>\n",
       "      <td>588.194030</td>\n",
       "    </tr>\n",
       "    <tr>\n",
       "      <th>1</th>\n",
       "      <td>1</td>\n",
       "      <td>3</td>\n",
       "      <td>5020</td>\n",
       "      <td>546</td>\n",
       "      <td>1</td>\n",
       "      <td>1</td>\n",
       "      <td>0</td>\n",
       "      <td>1</td>\n",
       "      <td>9.194139</td>\n",
       "      <td>3</td>\n",
       "      <td>...</td>\n",
       "      <td>564.049936</td>\n",
       "      <td>2015</td>\n",
       "      <td>7</td>\n",
       "      <td>30</td>\n",
       "      <td>31</td>\n",
       "      <td>82.0</td>\n",
       "      <td>0.0</td>\n",
       "      <td>0</td>\n",
       "      <td>8.668448</td>\n",
       "      <td>571.735294</td>\n",
       "    </tr>\n",
       "    <tr>\n",
       "      <th>2</th>\n",
       "      <td>1</td>\n",
       "      <td>2</td>\n",
       "      <td>4782</td>\n",
       "      <td>523</td>\n",
       "      <td>1</td>\n",
       "      <td>1</td>\n",
       "      <td>0</td>\n",
       "      <td>1</td>\n",
       "      <td>9.143403</td>\n",
       "      <td>3</td>\n",
       "      <td>...</td>\n",
       "      <td>564.049936</td>\n",
       "      <td>2015</td>\n",
       "      <td>7</td>\n",
       "      <td>29</td>\n",
       "      <td>31</td>\n",
       "      <td>82.0</td>\n",
       "      <td>0.0</td>\n",
       "      <td>0</td>\n",
       "      <td>8.822692</td>\n",
       "      <td>582.112676</td>\n",
       "    </tr>\n",
       "    <tr>\n",
       "      <th>3</th>\n",
       "      <td>1</td>\n",
       "      <td>1</td>\n",
       "      <td>5011</td>\n",
       "      <td>560</td>\n",
       "      <td>1</td>\n",
       "      <td>1</td>\n",
       "      <td>0</td>\n",
       "      <td>1</td>\n",
       "      <td>8.948214</td>\n",
       "      <td>3</td>\n",
       "      <td>...</td>\n",
       "      <td>564.049936</td>\n",
       "      <td>2015</td>\n",
       "      <td>7</td>\n",
       "      <td>28</td>\n",
       "      <td>31</td>\n",
       "      <td>82.0</td>\n",
       "      <td>0.0</td>\n",
       "      <td>0</td>\n",
       "      <td>9.045536</td>\n",
       "      <td>593.069444</td>\n",
       "    </tr>\n",
       "    <tr>\n",
       "      <th>4</th>\n",
       "      <td>1</td>\n",
       "      <td>0</td>\n",
       "      <td>6102</td>\n",
       "      <td>612</td>\n",
       "      <td>1</td>\n",
       "      <td>1</td>\n",
       "      <td>0</td>\n",
       "      <td>1</td>\n",
       "      <td>9.970588</td>\n",
       "      <td>3</td>\n",
       "      <td>...</td>\n",
       "      <td>564.049936</td>\n",
       "      <td>2015</td>\n",
       "      <td>7</td>\n",
       "      <td>27</td>\n",
       "      <td>31</td>\n",
       "      <td>82.0</td>\n",
       "      <td>0.0</td>\n",
       "      <td>0</td>\n",
       "      <td>9.239066</td>\n",
       "      <td>633.194444</td>\n",
       "    </tr>\n",
       "  </tbody>\n",
       "</table>\n",
       "<p>5 rows × 24 columns</p>\n",
       "</div>"
      ],
      "text/plain": [
       "  Store DayOfWeek  Sales  Customers  Open Promo StateHoliday  SchoolHoliday  \\\n",
       "0     1         4   5263        555     1     1            0              1   \n",
       "1     1         3   5020        546     1     1            0              1   \n",
       "2     1         2   4782        523     1     1            0              1   \n",
       "3     1         1   5011        560     1     1            0              1   \n",
       "4     1         0   6102        612     1     1            0              1   \n",
       "\n",
       "   SpendPerCustomer  StoreType       ...         GeneralAverageCustomers  \\\n",
       "0          9.482883          3       ...                      564.049936   \n",
       "1          9.194139          3       ...                      564.049936   \n",
       "2          9.143403          3       ...                      564.049936   \n",
       "3          8.948214          3       ...                      564.049936   \n",
       "4          9.970588          3       ...                      564.049936   \n",
       "\n",
       "   Year  Month  Day  WeekOfYear  MonthsOfCompetition  MonthsOfPromo2  \\\n",
       "0  2015      7   31          31                 82.0             0.0   \n",
       "1  2015      7   30          31                 82.0             0.0   \n",
       "2  2015      7   29          31                 82.0             0.0   \n",
       "3  2015      7   28          31                 82.0             0.0   \n",
       "4  2015      7   27          31                 82.0             0.0   \n",
       "\n",
       "   IsPromo2Month  SalesPerCustomer  AverageCustomer  \n",
       "0              0          8.730890       588.194030  \n",
       "1              0          8.668448       571.735294  \n",
       "2              0          8.822692       582.112676  \n",
       "3              0          9.045536       593.069444  \n",
       "4              0          9.239066       633.194444  \n",
       "\n",
       "[5 rows x 24 columns]"
      ]
     },
     "execution_count": 18,
     "metadata": {},
     "output_type": "execute_result"
    }
   ],
   "source": [
    "train_df.head()"
   ]
  },
  {
   "cell_type": "code",
   "execution_count": 19,
   "metadata": {
    "collapsed": true
   },
   "outputs": [],
   "source": [
    "# now calculate the SalesLastQuarter for each line\n",
    "\n",
    "train_df['LastQuarterStartMonth'] = train_df.Month.apply(lambda month: month - 3 if month > 3 else 9 + month)\n",
    "def last_quater_year(row):\n",
    "    if row['Month'] > 3:\n",
    "        return row['Year']\n",
    "    else:\n",
    "        return row['Year'] - 1\n",
    "\n",
    "train_df['LastQuarterStartYear'] = train_df.apply(last_quater_year, 1)\n",
    "#test_df['LastQuarterStartYear'] = test_df.apply(last_quater_year, 1)\n",
    "\n",
    "sales_last_quater = train_df.groupby(['Store', 'Year', 'Month', 'LastQuarterStartYear', 'LastQuarterStartMonth'], as_index=False)['Sales'].mean()\n",
    "sales_last_quater = sales_last_quater.rename(columns = {'Sales': 'SalesLastQuarter', \n",
    "                                                        'Year': 'LastQuarterEndYear', \n",
    "                                                        'Month': 'LastQuarterEndMonth'})\n",
    "\n",
    "train_df['LastQuarterEndYear'] = train_df['Year']\n",
    "train_df['LastQuarterEndMonth'] = train_df['Month']\n",
    "\n",
    "test_df['LastQuarterStartYear'] = 2015\n",
    "test_df['LastQuarterStartMonth'] = 4\n",
    "test_df['LastQuarterEndYear'] = 2015\n",
    "test_df['LastQuarterEndMonth'] = 7\n",
    "#train_df[(train_df.Year == 2013) & (train_df.Month == 1)]\n",
    "\n",
    "train_df = pd.merge(train_df, sales_last_quater, on = ['Store', 'LastQuarterStartYear', 'LastQuarterStartMonth', \n",
    "                                                       'LastQuarterEndYear', 'LastQuarterEndMonth'], how='left')\n",
    "\n",
    "test_df = pd.merge(test_df, sales_last_quater, on = ['Store', 'LastQuarterStartYear', 'LastQuarterStartMonth', \n",
    "                                                     'LastQuarterEndYear', 'LastQuarterEndMonth'], how='left')\n",
    "\n",
    "train_df_copy = train_df.copy()\n",
    "test_df_copy = test_df.copy()"
   ]
  },
  {
   "cell_type": "code",
   "execution_count": 20,
   "metadata": {},
   "outputs": [
    {
     "data": {
      "text/plain": [
       "Index(['Store', 'DayOfWeek', 'Sales', 'Customers', 'Open', 'Promo',\n",
       "       'StateHoliday', 'SchoolHoliday', 'SpendPerCustomer', 'StoreType',\n",
       "       'Assortment', 'CompetitionDistance', 'Promo2',\n",
       "       'GeneralSpendPerCustomer', 'GeneralAverageCustomers', 'Year', 'Month',\n",
       "       'Day', 'WeekOfYear', 'MonthsOfCompetition', 'MonthsOfPromo2',\n",
       "       'IsPromo2Month', 'SalesPerCustomer', 'AverageCustomer',\n",
       "       'LastQuarterStartMonth', 'LastQuarterStartYear', 'LastQuarterEndYear',\n",
       "       'LastQuarterEndMonth', 'SalesLastQuarter'],\n",
       "      dtype='object')"
      ]
     },
     "execution_count": 20,
     "metadata": {},
     "output_type": "execute_result"
    }
   ],
   "source": [
    "train_df.columns"
   ]
  },
  {
   "cell_type": "code",
   "execution_count": 21,
   "metadata": {
    "collapsed": true
   },
   "outputs": [],
   "source": [
    "# do log transformation to Sales values\n",
    "\n",
    "y = np.log(train_df['Sales'].values + 1)\n",
    "\n",
    "# remove unneccesary features\n",
    "\n",
    "train_df.drop(['Sales'], axis = 1, inplace = True)\n",
    "train_df.drop(['SpendPerCustomer'], axis = 1, inplace = True)\n",
    "train_df.drop(['GeneralSpendPerCustomer'], axis = 1, inplace = True)\n",
    "train_df.drop(['GeneralAverageCustomers'], axis = 1, inplace = True)\n",
    "train_df.drop(['LastQuarterStartMonth'], axis = 1, inplace = True)\n",
    "train_df.drop(['LastQuarterStartYear'], axis = 1, inplace = True)\n",
    "train_df.drop(['LastQuarterEndMonth'], axis = 1, inplace = True)\n",
    "train_df.drop(['LastQuarterEndYear'], axis = 1, inplace = True)\n",
    "train_df.drop(['Customers'], axis = 1, inplace = True)\n",
    "train_df.drop(['Store'], axis = 1, inplace = True)\n",
    "\n",
    "test_df.drop(['Store'], axis = 1, inplace = True)\n",
    "test_df.drop(['GeneralSpendPerCustomer'], axis = 1, inplace = True)\n",
    "test_df.drop(['GeneralAverageCustomers'], axis = 1, inplace = True)\n",
    "test_df.drop(['LastQuarterStartMonth'], axis = 1, inplace = True)\n",
    "test_df.drop(['LastQuarterStartYear'], axis = 1, inplace = True)\n",
    "test_df.drop(['LastQuarterEndMonth'], axis = 1, inplace = True)\n",
    "test_df.drop(['LastQuarterEndYear'], axis = 1, inplace = True)\n",
    "\n",
    "# Let's remove Year first\n",
    "train_df.drop(['Year'], axis = 1, inplace = True)\n",
    "test_df.drop(['Year'], axis = 1, inplace = True)\n",
    "\n",
    "X = train_df.values"
   ]
  },
  {
   "cell_type": "code",
   "execution_count": 22,
   "metadata": {},
   "outputs": [
    {
     "data": {
      "text/plain": [
       "Index(['DayOfWeek', 'Open', 'Promo', 'StateHoliday', 'SchoolHoliday',\n",
       "       'StoreType', 'Assortment', 'CompetitionDistance', 'Promo2', 'Month',\n",
       "       'Day', 'WeekOfYear', 'MonthsOfCompetition', 'MonthsOfPromo2',\n",
       "       'IsPromo2Month', 'SalesPerCustomer', 'AverageCustomer',\n",
       "       'SalesLastQuarter'],\n",
       "      dtype='object')"
      ]
     },
     "execution_count": 22,
     "metadata": {},
     "output_type": "execute_result"
    }
   ],
   "source": [
    "train_df.columns"
   ]
  },
  {
   "cell_type": "markdown",
   "metadata": {},
   "source": [
    "Let's do one-hot encoding for categorical data."
   ]
  },
  {
   "cell_type": "code",
   "execution_count": 23,
   "metadata": {},
   "outputs": [
    {
     "name": "stdout",
     "output_type": "stream",
     "text": [
      "X.shape:  (844338, 26)\n"
     ]
    }
   ],
   "source": [
    "from sklearn.preprocessing import OneHotEncoder\n",
    "\n",
    "onehotencoder = OneHotEncoder(categorical_features = [3, 5, 6])\n",
    "X = onehotencoder.fit_transform(X).toarray()\n",
    "print(\"X.shape: \", X.shape)\n",
    "X = X[:, 1:]"
   ]
  },
  {
   "cell_type": "code",
   "execution_count": 24,
   "metadata": {
    "collapsed": true
   },
   "outputs": [],
   "source": [
    "from sklearn.model_selection import train_test_split\n",
    "X_train, X_valid, y_train, y_valid = train_test_split(X, y, test_size = 0.012, random_state = 888)\n",
    "#X_valid_1, X_valid_2, y_valid_1, y_valid_2 = train_test_split(X_valid, y_valid, test_size = 0.5, random_state = 1024)"
   ]
  },
  {
   "cell_type": "code",
   "execution_count": 25,
   "metadata": {
    "collapsed": true
   },
   "outputs": [],
   "source": [
    "def rmspe(yhat, dtrain):\n",
    "    y = np.exp(dtrain.get_label()) - 1\n",
    "    yhat = np.exp(yhat) - 1\n",
    "    return \"rmspe\", np.sqrt(np.mean((yhat/y-1)) ** 2)"
   ]
  },
  {
   "cell_type": "code",
   "execution_count": 26,
   "metadata": {},
   "outputs": [
    {
     "name": "stdout",
     "output_type": "stream",
     "text": [
      "[0]\ttrain-rmse:5.78958\tvalid-rmse:5.79132\ttrain-rmspe:0.996915\tvalid-rmspe:0.996925\n",
      "Multiple eval metrics have been passed: 'valid-rmspe' will be used for early stopping.\n",
      "\n",
      "Will train until valid-rmspe hasn't improved in 100 rounds.\n",
      "[25]\ttrain-rmse:0.099557\tvalid-rmse:0.099649\ttrain-rmspe:0.004539\tvalid-rmspe:0.00185\n",
      "[50]\ttrain-rmse:0.09236\tvalid-rmse:0.094784\ttrain-rmspe:0.004559\tvalid-rmspe:0.002354\n",
      "[75]\ttrain-rmse:0.08834\tvalid-rmse:0.092534\ttrain-rmspe:0.004148\tvalid-rmspe:0.002139\n",
      "[100]\ttrain-rmse:0.084862\tvalid-rmse:0.090879\ttrain-rmspe:0.00387\tvalid-rmspe:0.002017\n",
      "Stopping. Best iteration:\n",
      "[22]\ttrain-rmse:0.101152\tvalid-rmse:0.101034\ttrain-rmspe:0.003188\tvalid-rmspe:0.000474\n",
      "\n",
      "time spent:  203.585598\n"
     ]
    }
   ],
   "source": [
    "# start training\n",
    "import xgboost as xgb\n",
    "\n",
    "params = {\n",
    "    'objective': \"reg:linear\",\n",
    "    'booster': 'gbtree',\n",
    "    'n_estimators': 20,\n",
    "    'max_depth': 10,\n",
    "    'subsample': 0.9,\n",
    "    'colsample_bytree': 0.7,\n",
    "    'slient' : 1.0,\n",
    "    'n_jobs' : 16,\n",
    "    #'min_child_weight' : 0.1,\n",
    "    #'reg_lambda' : 3,\n",
    "    #'gamma' : 1,\n",
    "    'eta' : 0.3,\n",
    "    'seed': 0\n",
    "    #'eval_metric' : 'rmspe'\n",
    "}\n",
    "\n",
    "num_rounds = 2000\n",
    "dtrain = xgb.DMatrix(X_train, label = y_train)\n",
    "dvalid = xgb.DMatrix(X_valid, label = y_valid)\n",
    "watchlist = [(dtrain, 'train'), (dvalid, 'valid')]\n",
    "evals_result = {}\n",
    "\n",
    "from datetime import datetime\n",
    "\n",
    "start_time = datetime.now()\n",
    "    \n",
    "predictor = xgb.train(params, dtrain, num_rounds, watchlist, verbose_eval = 25, \n",
    "                      evals_result = evals_result, \n",
    "                      feval = rmspe, \n",
    "                      early_stopping_rounds=100)\n",
    "\n",
    "end_time = datetime.now()\n",
    "diff = end_time - start_time\n",
    "print(\"time spent: \", diff.total_seconds())    "
   ]
  },
  {
   "cell_type": "code",
   "execution_count": 27,
   "metadata": {},
   "outputs": [
    {
     "name": "stdout",
     "output_type": "stream",
     "text": [
      "Validation set rmspe score: 0.00207\n"
     ]
    }
   ],
   "source": [
    "valid_pred = predictor.predict(xgb.DMatrix(X_valid))\n",
    "yhat = np.exp(valid_pred) - 1\n",
    "y = np.exp(y_valid) - 1\n",
    "valid_score = np.sqrt(np.mean((1 - yhat/y)) ** 2)\n",
    "#valid_score = np.sqrt(np.mean((1 - valid_pred/y_valid)) ** 2)\n",
    "print(\"Validation set rmspe score: {:.5f}\".format(valid_score))"
   ]
  },
  {
   "cell_type": "code",
   "execution_count": 28,
   "metadata": {
    "collapsed": true
   },
   "outputs": [],
   "source": [
    "# now make the first round prediction\n",
    "\n",
    "test_ids = test_df['Id'].values\n",
    "test_df.drop(['Id'], axis = 1, inplace = True)\n",
    "test_set = test_df.values\n",
    "test_set = onehotencoder.transform(test_set).toarray()\n",
    "test_set = test_set[:, 1:]\n",
    "\n",
    "dtest = xgb.DMatrix(test_set)\n",
    "test_pred = predictor.predict(dtest)\n",
    "test_pred = np.exp(test_pred) - 1"
   ]
  },
  {
   "cell_type": "code",
   "execution_count": 29,
   "metadata": {
    "collapsed": true
   },
   "outputs": [],
   "source": [
    "# use the first round prediction to calculate the SalesLastQuarter for test data\n",
    "\n",
    "test_df_copy['Sales'] = test_pred\n",
    "test_df_copy['LastQuarterStartMonth'] = test_df_copy['Month'] - 3\n",
    "test_df_copy['LastQuarterEndMonth'] = test_df_copy['Month']\n",
    "train_df_copy = train_df_copy.append(test_df_copy)\n",
    "\n",
    "test_df_copy.drop(['Sales'], axis = 1, inplace = True)\n",
    "test_df_copy.drop(['SalesLastQuarter'], axis = 1, inplace = True)\n",
    "\n",
    "sales_last_quarter = train_df_copy.groupby(['Store', 'LastQuarterStartYear',  'LastQuarterStartMonth',\n",
    "                                     'LastQuarterEndYear',  'LastQuarterEndMonth',], as_index=False)['Sales'].mean()\n",
    "sales_last_quarter = sales_last_quarter.rename(columns = {'Sales': 'SalesLastQuarter'})\n",
    "\n",
    "test_df = pd.merge(test_df_copy, sales_last_quarter, on = ['Store', 'LastQuarterStartYear', 'LastQuarterStartMonth', \n",
    "                                                     'LastQuarterEndYear', 'LastQuarterEndMonth'], how='left')"
   ]
  },
  {
   "cell_type": "code",
   "execution_count": 30,
   "metadata": {
    "collapsed": true
   },
   "outputs": [],
   "source": [
    "test_df.drop(['Store'], axis = 1, inplace = True)\n",
    "test_df.drop(['GeneralSpendPerCustomer'], axis = 1, inplace = True)\n",
    "test_df.drop(['GeneralAverageCustomers'], axis = 1, inplace = True)\n",
    "test_df.drop(['LastQuarterStartMonth'], axis = 1, inplace = True)\n",
    "test_df.drop(['LastQuarterStartYear'], axis = 1, inplace = True)\n",
    "test_df.drop(['LastQuarterEndMonth'], axis = 1, inplace = True)\n",
    "test_df.drop(['LastQuarterEndYear'], axis = 1, inplace = True)\n",
    "test_df.drop(['Year'], axis = 1, inplace = True)\n",
    "\n",
    "test_ids = test_df['Id'].values\n",
    "test_df.drop(['Id'], axis = 1, inplace = True)\n",
    "\n",
    "test_set = test_df.values\n",
    "test_set = onehotencoder.transform(test_set).toarray()\n",
    "test_set = test_set[:, 1:]\n",
    "\n",
    "# make prediction again as the final result\n",
    "\n",
    "dtest = xgb.DMatrix(test_set)\n",
    "test_pred = predictor.predict(dtest)\n",
    "test_pred = np.exp(test_pred) - 1"
   ]
  },
  {
   "cell_type": "code",
   "execution_count": 31,
   "metadata": {
    "collapsed": true
   },
   "outputs": [],
   "source": [
    "# add id column, add closed data, sort and write to result file\n",
    "result_open = pd.DataFrame({'Id': test_ids, 'Sales': test_pred})\n",
    "result_closed = pd.DataFrame({'Id': closed_test_ids, 'Sales': 0})\n",
    "result = result_open.append(result_closed).sort_values(['Id'])\n",
    "result.to_csv('rossmann_result.csv', index = False)"
   ]
  },
  {
   "cell_type": "code",
   "execution_count": 32,
   "metadata": {
    "scrolled": true
   },
   "outputs": [
    {
     "data": {
      "image/png": "[encoded data removed]",
      "text/plain": [
       "<matplotlib.figure.Figure at 0x1929eb0a5f8>"
      ]
     },
     "metadata": {},
     "output_type": "display_data"
    }
   ],
   "source": [
    "ax = xgb.plot_importance(predictor, max_num_features = 10)\n",
    "fig = ax.figure\n",
    "fig.set_size_inches(20, 10)\n",
    "plt.show()"
   ]
  },
  {
   "cell_type": "code",
   "execution_count": null,
   "metadata": {
    "collapsed": true
   },
   "outputs": [],
   "source": []
  }
 ],
 "metadata": {
  "kernelspec": {
   "display_name": "Python 3",
   "language": "python",
   "name": "python3"
  },
  "language_info": {
   "codemirror_mode": {
    "name": "ipython",
    "version": 3
   },
   "file_extension": ".py",
   "mimetype": "text/x-python",
   "name": "python",
   "nbconvert_exporter": "python",
   "pygments_lexer": "ipython3",
   "version": "3.6.1"
  }
 },
 "nbformat": 4,
 "nbformat_minor": 2
}
