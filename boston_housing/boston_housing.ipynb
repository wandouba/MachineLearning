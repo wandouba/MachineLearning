{
 "cells": [
  {
   "cell_type": "markdown",
   "metadata": {},
   "source": [
    "# 机器学习工程师纳米学位\n",
    "## 模型评价与验证\n",
    "## 项目 1: 预测波士顿房价\n",
    "\n",
    "\n",
    "欢迎来到机器学习工程师纳米学位的第一个项目！在此文件中，有些示例代码已经提供给你，但你还需要实现更多的功能来让项目成功运行。除非有明确要求，你无须修改任何已给出的代码。以**编程练习**开始的标题表示接下来的内容中有需要你必须实现的功能。每一部分都会有详细的指导，需要实现的部分也会在注释中以**TODO**标出。请仔细阅读所有的提示！\n",
    "\n",
    "除了实现代码外，你还**必须**回答一些与项目和实现有关的问题。每一个需要你回答的问题都会以**'问题 X'**为标题。请仔细阅读每个问题，并且在问题后的**'回答'**文字框中写出完整的答案。你的项目将会根据你对问题的回答和撰写代码所实现的功能来进行评分。\n",
    "\n",
    ">**提示：**Code 和 Markdown 区域可通过 **Shift + Enter** 快捷键运行。此外，Markdown可以通过双击进入编辑模式。"
   ]
  },
  {
   "cell_type": "markdown",
   "metadata": {},
   "source": [
    "---\n",
    "## 第一步. 导入数据\n",
    "在这个项目中，你将利用马萨诸塞州波士顿郊区的房屋信息数据训练和测试一个模型，并对模型的性能和预测能力进行测试。通过该数据训练后的好的模型可以被用来对房屋做特定预测---尤其是对房屋的价值。对于房地产经纪等人的日常工作来说，这样的预测模型被证明非常有价值。\n",
    "\n",
    "此项目的数据集来自[UCI机器学习知识库(数据集已下线)](https://archive.ics.uci.edu/ml/datasets.html)。波士顿房屋这些数据于1978年开始统计，共506个数据点，涵盖了麻省波士顿不同郊区房屋14种特征的信息。本项目对原始数据集做了以下处理：\n",
    "- 有16个`'MEDV'` 值为50.0的数据点被移除。 这很可能是由于这些数据点包含**遗失**或**看不到的值**。\n",
    "- 有1个数据点的 `'RM'` 值为8.78. 这是一个异常值，已经被移除。\n",
    "- 对于本项目，房屋的`'RM'`， `'LSTAT'`，`'PTRATIO'`以及`'MEDV'`特征是必要的，其余不相关特征已经被移除。\n",
    "- `'MEDV'`特征的值已经过必要的数学转换，可以反映35年来市场的通货膨胀效应。\n",
    "\n",
    "运行下面区域的代码以载入波士顿房屋数据集，以及一些此项目所需的Python库。如果成功返回数据集的大小，表示数据集已载入成功。"
   ]
  },
  {
   "cell_type": "code",
   "execution_count": 1,
   "metadata": {
    "collapsed": true
   },
   "outputs": [],
   "source": [
    "# 载入此项目所需要的库\n",
    "import numpy as np\n",
    "import pandas as pd\n",
    "import visuals as vs # Supplementary code\n",
    "\n",
    "# 检查你的Python版本\n",
    "from sys import version_info\n",
    "if version_info.major != 2 and version_info.minor != 7:\n",
    "    raise Exception('请使用Python 2.7来完成此项目')\n",
    "    \n",
    "# 让结果在notebook中显示\n",
    "%matplotlib inline"
   ]
  },
  {
   "cell_type": "code",
   "execution_count": 2,
   "metadata": {},
   "outputs": [
    {
     "name": "stdout",
     "output_type": "stream",
     "text": [
      "Boston housing dataset has 489 data points with 4 variables each.\n"
     ]
    }
   ],
   "source": [
    "# 载入波士顿房屋的数据集\n",
    "data = pd.read_csv('housing.csv')\n",
    "prices = data['MEDV']\n",
    "features = data.drop('MEDV', axis = 1)\n",
    "    \n",
    "# 完成\n",
    "print \"Boston housing dataset has {} data points with {} variables each.\".format(*data.shape)"
   ]
  },
  {
   "cell_type": "markdown",
   "metadata": {},
   "source": [
    "---\n",
    "## 第二步. 分析数据\n",
    "在项目的第一个部分，你会对波士顿房地产数据进行初步的观察并给出你的分析。通过对数据的探索来熟悉数据可以让你更好地理解和解释你的结果。\n",
    "\n",
    "由于这个项目的最终目标是建立一个预测房屋价值的模型，我们需要将数据集分为**特征(features)**和**目标变量(target variable)**。\n",
    "- **特征** `'RM'`， `'LSTAT'`，和 `'PTRATIO'`，给我们提供了每个数据点的数量相关的信息。\n",
    "- **目标变量**：` 'MEDV'`，是我们希望预测的变量。\n",
    "\n",
    "他们分别被存在`features`和`prices`两个变量名中。"
   ]
  },
  {
   "cell_type": "markdown",
   "metadata": {},
   "source": [
    "### 编程练习 1：基础统计运算\n",
    "你的第一个编程练习是计算有关波士顿房价的描述统计数据。我们已为你导入了` numpy `，你需要使用这个库来执行必要的计算。这些统计数据对于分析模型的预测结果非常重要的。\n",
    "在下面的代码中，你要做的是：\n",
    "- 计算`prices`中的`'MEDV'`的最小值、最大值、均值、中值和标准差；\n",
    "- 将运算结果储存在相应的变量中。"
   ]
  },
  {
   "cell_type": "code",
   "execution_count": 3,
   "metadata": {},
   "outputs": [
    {
     "name": "stdout",
     "output_type": "stream",
     "text": [
      "Statistics for Boston housing dataset:\n",
      "\n",
      "Minimum price: $105,000.00\n",
      "Maximum price: $1,024,800.00\n",
      "Mean price: $454,342.94\n",
      "Median price $438,900.00\n",
      "Standard deviation of prices: $165,171.13\n"
     ]
    }
   ],
   "source": [
    "#TODO 1\n",
    "\n",
    "#目标：计算价值的最小值\n",
    "minimum_price = np.min(prices)\n",
    "\n",
    "#目标：计算价值的最大值\n",
    "maximum_price = np.max(prices)\n",
    "\n",
    "#目标：计算价值的平均值\n",
    "mean_price = np.mean(prices)\n",
    "\n",
    "#目标：计算价值的中值\n",
    "median_price = np.median(prices)\n",
    "\n",
    "#目标：计算价值的标准差\n",
    "std_price = np.std(prices)\n",
    "\n",
    "#目标：输出计算的结果\n",
    "print \"Statistics for Boston housing dataset:\\n\"\n",
    "print \"Minimum price: ${:,.2f}\".format(minimum_price)\n",
    "print \"Maximum price: ${:,.2f}\".format(maximum_price)\n",
    "print \"Mean price: ${:,.2f}\".format(mean_price)\n",
    "print \"Median price ${:,.2f}\".format(median_price)\n",
    "print \"Standard deviation of prices: ${:,.2f}\".format(std_price)"
   ]
  },
  {
   "cell_type": "markdown",
   "metadata": {},
   "source": [
    "### 问题 1 - 特征观察\n",
    "\n",
    "如前文所述，本项目中我们关注的是其中三个值:`'RM'`、`'LSTAT'` 和`'PTRATIO'`，对每一个数据点:\n",
    "- `'RM'` 是该地区中每个房屋的平均房间数量；\n",
    "- `'LSTAT'` 是指该地区有多少百分比的房东属于是低收入阶层（有工作但收入微薄）；\n",
    "- `'PTRATIO'` 是该地区的中学和小学里，学生和老师的数目比（`学生/老师`）。\n",
    "\n",
    "_凭直觉，上述三个特征中对每一个来说，你认为增大该特征的数值，`'MEDV'`的值会是**增大**还是**减小**呢？每一个答案都需要你给出理由。_\n",
    "\n",
    "**提示：**你预期一个`'RM'` 值是6的房屋跟`'RM'` 值是7的房屋相比，价值更高还是更低呢？"
   ]
  },
  {
   "cell_type": "markdown",
   "metadata": {},
   "source": [
    "### 问题 1 - 回答：\n",
    "\n",
    "- RM: 与房价正相关。房间越多房价越高，也或许表示此地区是否为富人区\n",
    "- LSTAT: 与房价负相关。低收入房东比例越高，则此地区本身房屋质量和面积以及针对客户都将随之降低。低收入房东本身就比较难购置高价房产\n",
    "- PTRATIO: 与房价负相关。该值越高表示单个老师教的学生越多，可以反映该地区教育资源比较匮乏，则房屋价值将降低。"
   ]
  },
  {
   "cell_type": "markdown",
   "metadata": {},
   "source": [
    "### 编程练习 2: 数据分割与重排\n",
    "接下来，你需要把波士顿房屋数据集分成训练和测试两个子集。通常在这个过程中，数据也会被重排列，以消除数据集中由于顺序而产生的偏差。\n",
    "在下面的代码中，你需要\n",
    "\n",
    "使用 `sklearn.model_selection` 中的 `train_test_split`， 将`features`和`prices`的数据都分成用于训练的数据子集和用于测试的数据子集。\n",
    "  - 分割比例为：80%的数据用于训练，20%用于测试；\n",
    "  - 选定一个数值以设定 `train_test_split` 中的 `random_state` ，这会确保结果的一致性；"
   ]
  },
  {
   "cell_type": "code",
   "execution_count": 4,
   "metadata": {},
   "outputs": [],
   "source": [
    "# TODO 2\n",
    "\n",
    "# 提示： 导入train_test_split\n",
    "from sklearn.model_selection import train_test_split\n",
    "X_train, X_test, y_train, y_test = train_test_split(features, prices, test_size = 0.2, random_state = 0)"
   ]
  },
  {
   "cell_type": "markdown",
   "metadata": {},
   "source": [
    "### 问题 2 - 训练及测试\n",
    "*将数据集按一定比例分为训练用的数据集和测试用的数据集对学习算法有什么好处？*\n",
    "\n",
    "*如果用模型已经见过的数据，例如部分训练集数据进行测试，又有什么坏处？*\n",
    "\n",
    "**提示：** 如果没有数据来对模型进行测试，会出现什么问题？"
   ]
  },
  {
   "cell_type": "markdown",
   "metadata": {},
   "source": [
    "### 问题 2 - 回答:\n",
    "- 训练集用于训练，独立的测试集合用于验证训练模型的强壮性——对于“未见过的”数据的预测效果。实际上很多专家建议除了测试集之外再分一个开发集（Dev set，有的叫交叉验证集），用于验证不同模型的效果，而测试集仅仅用于最终的实际预测验证。\n",
    "- 如果用模型已经见过的数据进行测试，我们就无法知道模型对于未知数据的表现。但是虽然不建议用训练数据进行测试，但是通常建议训练数据和测试数据来源相同或类似，否则会引入数据本身导致的偏差。"
   ]
  },
  {
   "cell_type": "markdown",
   "metadata": {},
   "source": [
    "---\n",
    "## 第三步. 模型衡量标准\n",
    "在项目的第三步中，你需要了解必要的工具和技巧来让你的模型进行预测。用这些工具和技巧对每一个模型的表现做精确的衡量可以极大地增强你预测的信心。"
   ]
  },
  {
   "cell_type": "markdown",
   "metadata": {},
   "source": [
    "### 编程练习3：定义衡量标准\n",
    "如果不能对模型的训练和测试的表现进行量化地评估，我们就很难衡量模型的好坏。通常我们会定义一些衡量标准，这些标准可以通过对某些误差或者拟合程度的计算来得到。在这个项目中，你将通过运算[*决定系数*](http://stattrek.com/statistics/dictionary.aspx?definition=coefficient_of_determination) R<sup>2</sup> 来量化模型的表现。模型的决定系数是回归分析中十分常用的统计信息，经常被当作衡量模型预测能力好坏的标准。\n",
    "\n",
    "R<sup>2</sup>的数值范围从0至1，表示**目标变量**的预测值和实际值之间的相关程度平方的百分比。一个模型的R<sup>2</sup> 值为0还不如直接用**平均值**来预测效果好；而一个R<sup>2</sup> 值为1的模型则可以对目标变量进行完美的预测。从0至1之间的数值，则表示该模型中目标变量中有百分之多少能够用**特征**来解释。_模型也可能出现负值的R<sup>2</sup>，这种情况下模型所做预测有时会比直接计算目标变量的平均值差很多。_\n",
    "\n",
    "在下方代码的 `performance_metric` 函数中，你要实现：\n",
    "- 使用 `sklearn.metrics` 中的 [`r2_score`](http://scikit-learn.org/stable/modules/generated/sklearn.metrics.r2_score.html) 来计算 `y_true` 和 `y_predict`的R<sup>2</sup>值，作为对其表现的评判。\n",
    "- 将他们的表现评分储存到`score`变量中。\n",
    "\n",
    "或 \n",
    "\n",
    "- (可选) 不使用任何外部库，参考[决定系数的定义](https://en.wikipedia.org/wiki/Coefficient_of_determination)进行计算，这也可以帮助你更好的理解决定系数在什么情况下等于0或等于1。"
   ]
  },
  {
   "cell_type": "code",
   "execution_count": 5,
   "metadata": {
    "collapsed": true
   },
   "outputs": [],
   "source": [
    "# TODO 3\n",
    "\n",
    "# 提示： 导入r2_score\n",
    "from sklearn.metrics import r2_score\n",
    "\n",
    "def performance_metric(y_true, y_predict):\n",
    "    \"\"\"计算并返回预测值相比于预测值的分数\"\"\"\n",
    "    \n",
    "    score = r2_score(y_true, y_predict)\n",
    "\n",
    "    return score"
   ]
  },
  {
   "cell_type": "code",
   "execution_count": 6,
   "metadata": {
    "collapsed": true
   },
   "outputs": [],
   "source": [
    "# TODO 3 可选\n",
    "\n",
    "# 不允许导入任何计算决定系数的库\n",
    "\n",
    "def performance_metric2(y_true, y_predict):\n",
    "    \"\"\"计算并返回预测值相比于预测值的分数\"\"\"\n",
    "    y_true_mean = np.mean(y_true)\n",
    "    ss_tot = np.sum(np.square(y_true - y_true_mean))\n",
    "    ss_res = np.sum(np.square(np.subtract(y_true, y_predict)))\n",
    "    score = 1 - (ss_res/ss_tot)\n",
    "\n",
    "    return score"
   ]
  },
  {
   "cell_type": "markdown",
   "metadata": {},
   "source": [
    "### 问题 3 - 拟合程度\n",
    "\n",
    "假设一个数据集有五个数据且一个模型做出下列目标变量的预测：\n",
    "\n",
    "| 真实数值 | 预测数值 |\n",
    "| :-------------: | :--------: |\n",
    "| 3.0 | 2.5 |\n",
    "| -0.5 | 0.0 |\n",
    "| 2.0 | 2.1 |\n",
    "| 7.0 | 7.8 |\n",
    "| 4.2 | 5.3 |\n",
    "*你觉得这个模型已成功地描述了目标变量的变化吗？如果成功，请解释为什么，如果没有，也请给出原因。*  \n",
    "\n",
    "**提示**：运行下方的代码，使用`performance_metric`函数来计算模型的决定系数。"
   ]
  },
  {
   "cell_type": "code",
   "execution_count": 7,
   "metadata": {},
   "outputs": [
    {
     "name": "stdout",
     "output_type": "stream",
     "text": [
      "Model has a coefficient of determination, R^2, of 0.923.\n"
     ]
    }
   ],
   "source": [
    "# 计算这个模型的预测结果的决定系数\n",
    "score = performance_metric2([3, -0.5, 2, 7, 4.2], [2.5, 0.0, 2.1, 7.8, 5.3])\n",
    "print \"Model has a coefficient of determination, R^2, of {:.3f}.\".format(score)"
   ]
  },
  {
   "cell_type": "markdown",
   "metadata": {},
   "source": [
    "### 问题 3 - 回答:\n",
    "- R2得分为0.923，非常接近于完美值1，大概的含义是该模型预测的偏差不到方差的1/10，应该说是成功描述了目标量的变化。"
   ]
  },
  {
   "cell_type": "markdown",
   "metadata": {},
   "source": [
    "---\n",
    "## 第四步. 分析模型的表现\n",
    "在项目的第四步，我们来看一下不同参数下，模型在训练集和验证集上的表现。这里，我们专注于一个特定的算法（带剪枝的决策树，但这并不是这个项目的重点），和这个算法的一个参数 `'max_depth'`。用全部训练集训练，选择不同`'max_depth'` 参数，观察这一参数的变化如何影响模型的表现。画出模型的表现来对于分析过程十分有益，这可以让我们看到一些单看结果看不到的行为。"
   ]
  },
  {
   "cell_type": "markdown",
   "metadata": {},
   "source": [
    "### 学习曲线\n",
    "下方区域内的代码会输出四幅图像，它们是一个决策树模型在不同最大深度下的表现。每一条曲线都直观得显示了随着训练数据量的增加，模型学习曲线的在训练集评分和验证集评分的变化，评分使用决定系数R<sup>2</sup>。曲线的阴影区域代表的是该曲线的不确定性（用标准差衡量）。\n",
    "\n",
    "运行下方区域中的代码，并利用输出的图形回答下面的问题。"
   ]
  },
  {
   "cell_type": "code",
   "execution_count": 8,
   "metadata": {
    "scrolled": false
   },
   "outputs": [
    {
     "data": {
      "image/png": "[encoded data removed]",
      "text/plain": [
       "<matplotlib.figure.Figure at 0x6bc7f98>"
      ]
     },
     "metadata": {},
     "output_type": "display_data"
    }
   ],
   "source": [
    "# 根据不同的训练集大小，和最大深度，生成学习曲线\n",
    "vs.ModelLearning(X_train, y_train)"
   ]
  },
  {
   "cell_type": "markdown",
   "metadata": {},
   "source": [
    "### 问题 4 - 学习曲线\n",
    "*选择上述图像中的其中一个，并给出其最大深度。随着训练数据量的增加，训练集曲线的评分有怎样的变化？验证集曲线呢？如果有更多的训练数据，是否能有效提升模型的表现呢？*\n",
    "\n",
    "**提示：**学习曲线的评分是否最终会收敛到特定的值？"
   ]
  },
  {
   "cell_type": "markdown",
   "metadata": {},
   "source": [
    "### 问题 4 - 回答:\n",
    "- 右上的图max_depth = 3 应该是表现最好的一个。随着训练数据的增加，训练集曲线平稳缓慢下降，验证集曲线稳定上升并且收敛，最终二者的差别也不大，说明较好的避免了过度拟合的问题。从验证集曲线斜率来看已经很平缓但是仍然逐渐上升，因此如果有更多的训练数据，预计模型表现还能略有提升但空间已经不明显。"
   ]
  },
  {
   "cell_type": "markdown",
   "metadata": {},
   "source": [
    "### 复杂度曲线\n",
    "下列代码内的区域会输出一幅图像，它展示了一个已经经过训练和验证的决策树模型在不同最大深度条件下的表现。这个图形将包含两条曲线，一个是训练集的变化，一个是验证集的变化。跟**学习曲线**相似，阴影区域代表该曲线的不确定性，模型训练和测试部分的评分都用的 `performance_metric` 函数。\n",
    "\n",
    "运行下方区域中的代码，并利用输出的图形并回答下面的两个问题。"
   ]
  },
  {
   "cell_type": "code",
   "execution_count": 9,
   "metadata": {},
   "outputs": [
    {
     "data": {
      "image/png": "[encoded data removed]",
      "text/plain": [
       "<matplotlib.figure.Figure at 0xcc74780>"
      ]
     },
     "metadata": {},
     "output_type": "display_data"
    }
   ],
   "source": [
    "# 根据不同的最大深度参数，生成复杂度曲线\n",
    "vs.ModelComplexity(X_train, y_train)"
   ]
  },
  {
   "cell_type": "markdown",
   "metadata": {},
   "source": [
    "### 问题 5 - 偏差（bias）与方差（variance）之间的权衡取舍\n",
    "*当模型以最大深度 1训练时，模型的预测是出现很大的偏差还是出现了很大的方差？当模型以最大深度10训练时，情形又如何呢？图形中的哪些特征能够支持你的结论？*\n",
    "  \n",
    "**提示：** 你如何得知模型是否出现了偏差很大或者方差很大的问题？"
   ]
  },
  {
   "cell_type": "markdown",
   "metadata": {},
   "source": [
    "### 问题 5 - 回答:\n",
    "- 以最大深度1训练时主要是很大偏差。因为训练集曲线的r2_score得分不到0.5很低；当以最大深度10训练时出现了很大方差，因为此时训练集和验证集的得分差别已经很大了，训练集很高验证集很低，是典型的过度拟合。"
   ]
  },
  {
   "cell_type": "markdown",
   "metadata": {},
   "source": [
    "### 问题 6- 最优模型的猜测\n",
    "*结合问题 5 中的图，你认为最大深度是多少的模型能够最好地对未见过的数据进行预测？你得出这个答案的依据是什么？*"
   ]
  },
  {
   "cell_type": "markdown",
   "metadata": {},
   "source": [
    "### 问题 6 - 回答:\n",
    "- 最优深度参数为4。此时验证集的得分最高，此外从4之后就开始过度拟合了。"
   ]
  },
  {
   "cell_type": "markdown",
   "metadata": {},
   "source": [
    "---\n",
    "## 第五步. 选择最优参数"
   ]
  },
  {
   "cell_type": "markdown",
   "metadata": {},
   "source": [
    "### 问题 7- 网格搜索（Grid Search）\n",
    "*什么是网格搜索法？如何用它来优化模型？*\n"
   ]
  },
  {
   "cell_type": "markdown",
   "metadata": {},
   "source": [
    "### 问题 7 - 回答:\n",
    "- 网格搜索主要是用来在一组hyperparamter的不同取值中间进行排列组合然后自动跑出模型并且选出表现最优的一组参数，并且将这个力气活交给机器自动去做。"
   ]
  },
  {
   "cell_type": "markdown",
   "metadata": {},
   "source": [
    "### 问题 8 - 交叉验证\n",
    "- 什么是K折交叉验证法（k-fold cross-validation）？\n",
    "- [GridSearchCV](http://scikit-learn.org/stable/modules/generated/sklearn.model_selection.GridSearchCV.html)是如何结合交叉验证来完成对最佳参数组合的选择的？\n",
    "- [GridSearchCV](http://scikit-learn.org/stable/modules/generated/sklearn.model_selection.GridSearchCV.html)中的`'cv_results_'`属性能告诉我们什么？\n",
    "- 网格搜索时如果不使用交叉验证会有什么问题？交叉验证又是如何解决这个问题的？\n",
    "\n",
    "**提示：** 在下面 fit_model函数最后加入 `print pd.DataFrame(grid.cv_results_)` 可以帮你查看更多信息。"
   ]
  },
  {
   "cell_type": "markdown",
   "metadata": {},
   "source": [
    "### 问题 8 - 回答：\n",
    "- K折交叉验证法是把训练集分为K份，称为K折；然后把K-1折作为训练集，K折作为验证集，得到一个验证结果；这个验证集依次更换为K折里的每一折，这样一共验证K次。这样可以检验模型的通用性，避免由于偶然的数据因素使得在部分验证集上“碰巧”结果很好但在其他一些数据上表现差别很大。\n",
    "- GridSearchCV中的cv参数用来指定交叉验证的策略。默认或者为int时，都将使用KFold交叉验证法来进行模型验证\n",
    "- GridSearchCV中的 'cv_results_' 中存储了每个参数组合在每个fold上的得分和总体上模型在各项检验指标上的得分和综合各个fold上的平均得分，并依次给出最终综合得分最高的模型参数\n",
    "- 如前所述，不用交叉验证可能导致由于偶然的因素在某些验证集数据上刚好表现很好，但在其他一些数据上差别很大。交叉验证通过抽取不同测试数据集中的各个部分进行相互检验，在现有数据下最大限度避免了这种偶然性。"
   ]
  },
  {
   "cell_type": "markdown",
   "metadata": {},
   "source": [
    "### 编程练习 4：训练最优模型\n",
    "在这个练习中，你将需要将所学到的内容整合，使用**决策树算法**训练一个模型。为了得出的是一个最优模型，你需要使用网格搜索法训练模型，以找到最佳的 `'max_depth'` 参数。你可以把`'max_depth'` 参数理解为决策树算法在做出预测前，允许其对数据提出问题的数量。决策树是**监督学习算法**中的一种。\n",
    "\n",
    "在下方 `fit_model` 函数中，你需要做的是：\n",
    "1. **定义 `'cross_validator'` 变量**: 使用 `sklearn.model_selection` 中的 [`KFold`](http://scikit-learn.org/stable/modules/generated/sklearn.model_selection.KFold.html) 创建一个交叉验证生成器对象;\n",
    "2. **定义 `'regressor'` 变量**: 使用  `sklearn.tree` 中的 [`DecisionTreeRegressor`](http://scikit-learn.org/stable/modules/generated/sklearn.tree.DecisionTreeRegressor.html) 创建一个决策树的回归函数;\n",
    "3. **定义 `'params'` 变量**: 为 `'max_depth'` 参数创造一个字典，它的值是从1至10的数组;\n",
    "4. **定义 `'scoring_fnc'` 变量**: 使用 `sklearn.metrics` 中的 [`make_scorer`](http://scikit-learn.org/stable/modules/generated/sklearn.metrics.make_scorer.html)  创建一个评分函数；\n",
    " 将 `‘performance_metric’` 作为参数传至这个函数中；\n",
    "5. **定义 `'grid'` 变量**: 使用 `sklearn.model_selection` 中的 [`GridSearchCV`](http://scikit-learn.org/stable/modules/generated/sklearn.model_selection.GridSearchCV.html) 创建一个网格搜索对象；将变量`'regressor'`, `'params'`, `'scoring_fnc'`和 `'cross_validator'` 作为参数传至这个对象构造函数中；\n",
    "  \n",
    "如果你对python函数的默认参数定义和传递不熟悉，可以参考这个MIT课程的[视频](http://cn-static.udacity.com/mlnd/videos/MIT600XXT114-V004200_DTH.mp4)。"
   ]
  },
  {
   "cell_type": "code",
   "execution_count": 10,
   "metadata": {},
   "outputs": [],
   "source": [
    "# TODO 4\n",
    "\n",
    "#提示: 导入 'KFold' 'DecisionTreeRegressor' 'make_scorer' 'GridSearchCV' \n",
    "from sklearn.model_selection import KFold\n",
    "from sklearn.tree import DecisionTreeRegressor\n",
    "from sklearn.metrics import make_scorer\n",
    "from sklearn.model_selection import GridSearchCV\n",
    "\n",
    "def fit_model(X, y):\n",
    "    \"\"\" 基于输入数据 [X,y]，利于网格搜索找到最优的决策树模型\"\"\"\n",
    "    \n",
    "    cross_validator = KFold(shuffle = True, random_state = 0)\n",
    "    \n",
    "    regressor = DecisionTreeRegressor(random_state = 0)\n",
    "\n",
    "    params = {'max_depth' : range(1, 11)}\n",
    "\n",
    "    scoring_fnc = make_scorer(performance_metric)\n",
    "\n",
    "    grid = GridSearchCV(estimator = regressor, param_grid = params, \n",
    "                        scoring = scoring_fnc, cv = cross_validator)\n",
    "\n",
    "    # 基于输入数据 [X,y]，进行网格搜索\n",
    "    grid = grid.fit(X, y)\n",
    "\n",
    "    #print pd.DataFrame(grid.cv_results_)\n",
    "    \n",
    "    # 返回网格搜索后的最优模型\n",
    "    return grid.best_estimator_\n"
   ]
  },
  {
   "cell_type": "markdown",
   "metadata": {},
   "source": [
    "### 编程练习 4：训练最优模型 （可选）\n",
    "在这个练习中，你将需要将所学到的内容整合，使用**决策树算法**训练一个模型。为了得出的是一个最优模型，你需要使用网格搜索法训练模型，以找到最佳的 `'max_depth'` 参数。你可以把`'max_depth'` 参数理解为决策树算法在做出预测前，允许其对数据提出问题的数量。决策树是**监督学习算法**中的一种。\n",
    "\n",
    "在下方 `fit_model` 函数中，你需要做的是：\n",
    "\n",
    "- 遍历参数`‘max_depth’`的可选值 1～10，构造对应模型\n",
    "- 计算当前模型的交叉验证分数\n",
    "- 返回最优交叉验证分数对应的模型"
   ]
  },
  {
   "cell_type": "code",
   "execution_count": 11,
   "metadata": {
    "collapsed": true
   },
   "outputs": [],
   "source": [
    "# TODO 4 可选\n",
    "\n",
    "'''\n",
    "不允许使用 DecisionTreeRegressor 以外的任何 sklearn 库\n",
    "\n",
    "提示: 你可能需要实现下面的 cross_val_score 函数\n",
    "\n",
    "def cross_val_score(estimator, X, y, scoring = performance_metric, cv=3):\n",
    "    \"\"\" 返回每组交叉验证的模型分数的数组 \"\"\"\n",
    "    scores = [0,0,0]\n",
    "    return scores\n",
    "'''\n",
    "\n",
    "def fit_model2(X, y):\n",
    "    \"\"\" 基于输入数据 [X,y]，利于网格搜索找到最优的决策树模型\"\"\"\n",
    "    \n",
    "    #最优交叉验证分数对应的最优模型\n",
    "    best_estimator = None\n",
    "    \n",
    "    return best_estimator"
   ]
  },
  {
   "cell_type": "markdown",
   "metadata": {},
   "source": [
    "### 问题 9 - 最优模型\n",
    "*最优模型的最大深度（maximum depth）是多少？此答案与你在**问题 6**所做的猜测是否相同？*\n",
    "\n",
    "运行下方区域内的代码，将决策树回归函数代入训练数据的集合，以得到最优化的模型。"
   ]
  },
  {
   "cell_type": "code",
   "execution_count": 12,
   "metadata": {
    "scrolled": true
   },
   "outputs": [
    {
     "name": "stdout",
     "output_type": "stream",
     "text": [
      "Parameter 'max_depth' is 4 for the optimal model.\n"
     ]
    }
   ],
   "source": [
    "# 基于训练数据，获得最优模型\n",
    "optimal_reg = fit_model(X_train, y_train)\n",
    "\n",
    "# 输出最优模型的 'max_depth' 参数\n",
    "print \"Parameter 'max_depth' is {} for the optimal model.\".format(optimal_reg.get_params()['max_depth'])"
   ]
  },
  {
   "cell_type": "markdown",
   "metadata": {},
   "source": [
    "### 问题 9 - 回答：\n",
    "- 最优模型的最大深度为4，与前面的预测相同。"
   ]
  },
  {
   "cell_type": "markdown",
   "metadata": {},
   "source": [
    "## 第六步. 做出预测\n",
    "当我们用数据训练出一个模型，它现在就可用于对新的数据进行预测。在决策树回归函数中，模型已经学会对新输入的数据*提问*，并返回对**目标变量**的预测值。你可以用这个预测来获取数据未知目标变量的信息，这些数据必须是不包含在训练数据之内的。"
   ]
  },
  {
   "cell_type": "markdown",
   "metadata": {},
   "source": [
    "### 问题 10 - 预测销售价格\n",
    "想像你是一个在波士顿地区的房屋经纪人，并期待使用此模型以帮助你的客户评估他们想出售的房屋。你已经从你的三个客户收集到以下的资讯:\n",
    "\n",
    "| 特征 | 客戶 1 | 客戶 2 | 客戶 3 |\n",
    "| :---: | :---: | :---: | :---: |\n",
    "| 房屋内房间总数 | 5 间房间 | 4 间房间 | 8 间房间 |\n",
    "| 社区贫困指数（％被认为是贫困阶层） | 17% | 32% | 3% |\n",
    "| 邻近学校的学生-老师比例 | 15：1 | 22：1 | 12：1 |\n",
    "\n",
    "*你会建议每位客户的房屋销售的价格为多少？从房屋特征的数值判断，这样的价格合理吗？为什么？* \n",
    "\n",
    "**提示：**用你在**分析数据**部分计算出来的统计信息来帮助你证明你的答案。\n",
    "\n",
    "运行下列的代码区域，使用你优化的模型来为每位客户的房屋价值做出预测。"
   ]
  },
  {
   "cell_type": "code",
   "execution_count": 13,
   "metadata": {},
   "outputs": [
    {
     "name": "stdout",
     "output_type": "stream",
     "text": [
      "Predicted selling price for Client 1's home: $391,183.33\n",
      "Predicted selling price for Client 2's home: $189,123.53\n",
      "Predicted selling price for Client 3's home: $942,666.67\n"
     ]
    }
   ],
   "source": [
    "# 生成三个客户的数据\n",
    "client_data = [[5, 17, 15], # 客户 1\n",
    "               [4, 32, 22], # 客户 2\n",
    "               [8, 3, 12]]  # 客户 3\n",
    "\n",
    "# 进行预测\n",
    "predicted_price = optimal_reg.predict(client_data)\n",
    "for i, price in enumerate(predicted_price):\n",
    "    print \"Predicted selling price for Client {}'s home: ${:,.2f}\".format(i+1, price)"
   ]
  },
  {
   "cell_type": "markdown",
   "metadata": {},
   "source": [
    "### 问题 10 - 回答：\n",
    "- 建议售价如上所示。从房屋特征来看，客户2显然是处于收入最低的社区，房间小，教育资源匮乏，房价最低是期待中的，客户1其次，客户3最高。但具体的数值则需要由模型给出预测。"
   ]
  },
  {
   "cell_type": "markdown",
   "metadata": {},
   "source": [
    "### 编程练习 5\n",
    "你刚刚预测了三个客户的房子的售价。在这个练习中，你将用你的最优模型在整个测试数据上进行预测, 并计算相对于目标变量的决定系数 R<sup>2</sup>的值**。"
   ]
  },
  {
   "cell_type": "code",
   "execution_count": 14,
   "metadata": {},
   "outputs": [
    {
     "name": "stdout",
     "output_type": "stream",
     "text": [
      "Optimal model has R^2 score 0.77 on test data\n"
     ]
    }
   ],
   "source": [
    "#TODO 5\n",
    "\n",
    "# 提示：你可能需要用到 X_test, y_test, optimal_reg, performance_metric\n",
    "# 提示：你可能需要参考问题10的代码进行预测\n",
    "# 提示：你可能需要参考问题3的代码来计算R^2的值\n",
    "y_pred = optimal_reg.predict(X_test)\n",
    "r2 = performance_metric(y_test, y_pred)\n",
    "\n",
    "print \"Optimal model has R^2 score {:,.2f} on test data\".format(r2)"
   ]
  },
  {
   "cell_type": "markdown",
   "metadata": {},
   "source": [
    "### 问题11 - 分析决定系数\n",
    "\n",
    "你刚刚计算了最优模型在测试集上的决定系数，你会如何评价这个结果？"
   ]
  },
  {
   "cell_type": "markdown",
   "metadata": {},
   "source": [
    "### 问题11 - 回答\n",
    "- 0.77 这个得分在目前的条件下已经很不错了。数据本身也仅有489条很少，而且features也仅有3个，在这样的条件下来说这个结果相当不错。这里我们只用grid search优化了max_depth一个参数，也许还可以通过调优更多的参数获得一些有限的提高。"
   ]
  },
  {
   "cell_type": "markdown",
   "metadata": {},
   "source": [
    "### 模型健壮性\n",
    "\n",
    "一个最优的模型不一定是一个健壮模型。有的时候模型会过于复杂或者过于简单，以致于难以泛化新增添的数据；有的时候模型采用的学习算法并不适用于特定的数据结构；有的时候样本本身可能有太多噪点或样本过少，使得模型无法准确地预测目标变量。这些情况下我们会说模型是欠拟合的。\n",
    "\n",
    "### 问题 12 - 模型健壮性\n",
    "\n",
    "模型是否足够健壮来保证预测的一致性？\n",
    "\n",
    "**提示**: 执行下方区域中的代码，采用不同的训练和测试集执行 `fit_model` 函数10次。注意观察对一个特定的客户来说，预测是如何随训练数据的变化而变化的。"
   ]
  },
  {
   "cell_type": "code",
   "execution_count": 15,
   "metadata": {},
   "outputs": [
    {
     "name": "stdout",
     "output_type": "stream",
     "text": [
      "Trial 1: $391,183.33\n",
      "Trial 2: $411,417.39\n",
      "Trial 3: $415,800.00\n",
      "Trial 4: $428,316.00\n",
      "Trial 5: $418,377.27\n",
      "Trial 6: $411,931.58\n",
      "Trial 7: $399,663.16\n",
      "Trial 8: $407,232.00\n",
      "Trial 9: $402,531.82\n",
      "Trial 10: $379,125.00\n",
      "\n",
      "Range in prices: $49,191.00\n"
     ]
    }
   ],
   "source": [
    "# 请先注释掉 fit_model 函数里的所有 print 语句\n",
    "vs.PredictTrials(features, prices, fit_model, client_data)"
   ]
  },
  {
   "cell_type": "markdown",
   "metadata": {},
   "source": [
    "### 问题 12 - 回答：\n",
    "- 预测的浮动为平均值的约12%，还是比较稳定的。"
   ]
  },
  {
   "cell_type": "markdown",
   "metadata": {},
   "source": [
    "### 问题 13 - 实用性探讨\n",
    "*简单地讨论一下你建构的模型能否在现实世界中使用？* \n",
    "\n",
    "提示：回答以下几个问题，并给出相应结论的理由：\n",
    "- *1978年所采集的数据，在已考虑通货膨胀的前提下，在今天是否仍然适用？*\n",
    "- *数据中呈现的特征是否足够描述一个房屋？*\n",
    "- *在波士顿这样的大都市采集的数据，能否应用在其它乡镇地区？*\n",
    "- *你觉得仅仅凭房屋所在社区的环境来判断房屋价值合理吗？*"
   ]
  },
  {
   "cell_type": "markdown",
   "metadata": {},
   "source": [
    "### 问题 13 - 回答：\n",
    "- 1978年的数据在仅仅考虑通胀的情况下在今天仍然很难适用。这或许更多是个经济学的话题……但是导致房价变化的因素实在太多了，把久远的数据简单的引用到现在直觉上是很不可靠的。\n",
    "- 该模型仅仅考虑了房间数，社区贫困人数比，教育资源三个维度，对于全面评估和描述一个房屋显然是远远不够的。我们可以轻易构想出很多其他的特征：房屋修建时间，朝向，采光，是否临街，房屋具体的布局，装修，是否有游泳池，是否有花园，露台……\n",
    "- 在大都市采集的数据不能应用于其他乡镇地区。通常训练和测试集应该来自同一数据源\n",
    "- 如第二点所属，在同一社区内的房屋价格也是差别很大的，需要更多的细节特征来帮助预测。仅仅凭房屋所在社区环境来判断房屋价值不够合理。"
   ]
  },
  {
   "cell_type": "markdown",
   "metadata": {},
   "source": [
    "## 可选问题 - 预测北京房价\n",
    "\n",
    "（本题结果不影响项目是否通过）通过上面的实践，相信你对机器学习的一些常用概念有了很好的领悟和掌握。但利用70年代的波士顿房价数据进行建模的确对我们来说意义不是太大。现在你可以把你上面所学应用到北京房价数据集中 `bj_housing.csv`。\n",
    "\n",
    "免责声明：考虑到北京房价受到宏观经济、政策调整等众多因素的直接影响，预测结果仅供参考。\n",
    "\n",
    "这个数据集的特征有：\n",
    "- Area：房屋面积，平方米\n",
    "- Room：房间数，间\n",
    "- Living: 厅数，间\n",
    "- School: 是否为学区房，0或1\n",
    "- Year: 房屋建造时间，年\n",
    "- Floor: 房屋所处楼层，层\n",
    "\n",
    "目标变量：\n",
    "- Value: 房屋人民币售价，万\n",
    "\n",
    "你可以参考上面学到的内容，拿这个数据集来练习数据分割与重排、定义衡量标准、训练模型、评价模型表现、使用网格搜索配合交叉验证对参数进行调优并选出最佳参数，比较两者的差别，最终得出最佳模型对验证集的预测分数。"
   ]
  },
  {
   "cell_type": "code",
   "execution_count": 37,
   "metadata": {},
   "outputs": [
    {
     "name": "stdout",
     "output_type": "stream",
     "text": [
      "BJ housing dataset has 9999 data points with 7 variables each.\n",
      "Initial model has R^2 score 0.63 on test data\n",
      "Optimal model is: {'presort': False, 'splitter': 'random', 'min_impurity_decrease': 0.0, 'max_leaf_nodes': None, 'min_samples_leaf': 1, 'min_samples_split': 3, 'min_weight_fraction_leaf': 0.0, 'criterion': 'mse', 'random_state': None, 'min_impurity_split': None, 'max_features': None, 'max_depth': 10}\n",
      "Optimal model has R^2 score 0.61 on test data\n"
     ]
    }
   ],
   "source": [
    "# TODO 6\n",
    "\n",
    "# 你的代码\n",
    "bj_data = pd.read_csv('bj_housing.csv')\n",
    "bj_prices = bj_data['Value']\n",
    "bj_features = bj_data.drop('Value', axis = 1)\n",
    "    \n",
    "print \"BJ housing dataset has {} data points with {} variables each.\".format(*bj_data.shape)\n",
    "\n",
    "X_train, X_test, y_train, y_test = train_test_split(bj_features, bj_prices, test_size = 0.2)\n",
    "\n",
    "regressor = DecisionTreeRegressor(random_state = 0)\n",
    "regressor.fit(X_train, y_train)\n",
    "\n",
    "#model = fit_model(X_train, y_train)\n",
    "#print \"Parameter 'max_depth' is {} for the optimal model.\".format(model.get_params()['max_depth'])\n",
    "\n",
    "y_pred = regressor.predict(X_test)\n",
    "r2 = performance_metric(y_test, y_pred)\n",
    "\n",
    "print \"Initial model has R^2 score {:,.2f} on test data\".format(r2)\n",
    "\n",
    "def fit_model_bj(X, y):\n",
    "    \"\"\" 基于输入数据 [X,y]，利于网格搜索找到最优的决策树模型\"\"\"\n",
    "    \n",
    "    cross_validator = KFold(n_splits = 2, shuffle = True)\n",
    "    \n",
    "    new_regressor = DecisionTreeRegressor()\n",
    "\n",
    "    params = {'splitter' : ['best', 'random'],\n",
    "              'max_depth' : range(1, 11),\n",
    "              'min_samples_split' : [3, 4, 5, 6, 7]}\n",
    "\n",
    "    scoring_fnc = make_scorer(performance_metric)\n",
    "\n",
    "    grid = GridSearchCV(estimator = new_regressor, param_grid = params, \n",
    "                        scoring = scoring_fnc, cv = cross_validator)\n",
    "\n",
    "    # 基于输入数据 [X,y]，进行网格搜索\n",
    "    grid = grid.fit(X, y)\n",
    "\n",
    "    #print pd.DataFrame(grid.cv_results_)\n",
    "    \n",
    "    # 返回网格搜索后的最优模型\n",
    "    #return grid.best_estimator_\n",
    "    return grid.best_estimator_, grid\n",
    "\n",
    "new_model, grid = fit_model_bj(X_train, y_train)\n",
    "print  \"Optimal model is: {}\".format(new_model.get_params())\n",
    "\n",
    "y_pred = new_model.predict(X_test)\n",
    "r2 = performance_metric(y_test, y_pred)\n",
    "print \"Optimal model has R^2 score {:,.2f} on test data\".format(r2)"
   ]
  },
  {
   "cell_type": "code",
   "execution_count": 36,
   "metadata": {},
   "outputs": [
    {
     "name": "stdout",
     "output_type": "stream",
     "text": [
      "0.565362172852\n",
      "{'std_train_score': array([ 0.01888801,  0.05394667,  0.01888801,  0.05947663,  0.01888801,\n",
      "        0.07923144,  0.01888801,  0.07236911,  0.01888801,  0.02319215,\n",
      "        0.0333187 ,  0.13008569,  0.0333187 ,  0.01701838,  0.0333187 ,\n",
      "        0.00032756,  0.0333187 ,  0.04001046,  0.0333187 ,  0.03234513,\n",
      "        0.05404654,  0.03710107,  0.05404654,  0.09720166,  0.05404654,\n",
      "        0.09890595,  0.05404654,  0.10224883,  0.05404654,  0.10964936,\n",
      "        0.03579295,  0.15746978,  0.03579295,  0.01751576,  0.03579295,\n",
      "        0.03055232,  0.03248711,  0.00737142,  0.03248711,  0.07507365,\n",
      "        0.02044687,  0.02713861,  0.02044687,  0.03793873,  0.0204681 ,\n",
      "        0.04368122,  0.01716226,  0.06698491,  0.01716226,  0.05351207,\n",
      "        0.01775757,  0.07158263,  0.02400008,  0.06537686,  0.02451414,\n",
      "        0.0511832 ,  0.0212083 ,  0.0371558 ,  0.02200259,  0.05318286,\n",
      "        0.0191131 ,  0.08155538,  0.0250258 ,  0.04376411,  0.0260836 ,\n",
      "        0.05825387,  0.02426749,  0.03247935,  0.02504692,  0.06155268,\n",
      "        0.02114294,  0.03943776,  0.02710907,  0.06004211,  0.02818575,\n",
      "        0.05641038,  0.02624908,  0.05213424,  0.02460985,  0.02713645,\n",
      "        0.01772937,  0.04659168,  0.02401166,  0.03688861,  0.02443345,\n",
      "        0.01925459,  0.02334186,  0.0754541 ,  0.02087535,  0.07198727,\n",
      "        0.01245767,  0.04827441,  0.01995923,  0.02586452,  0.02080627,\n",
      "        0.05685749,  0.02026381,  0.03547273,  0.01914898,  0.03273604]), 'rank_test_score': array([ 85,  96,  85,  98,  85, 100,  85,  99,  85,  92,  45,  91,  45,\n",
      "        76,  45,  97,  45,  95,  45,  94,  16,  80,  51,  84,  51,  82,\n",
      "        51,  90,  16,  83,  11,  93,  11,  69,  14,  81,  40,  79,  40,\n",
      "        67,   3,  73,   1,  74,  25,  60,  27,  42,   2,  58,   5,  62,\n",
      "        26,  50,  31,  34,   4,  23,  30,  66,   7,  75,   8,  29,   6,\n",
      "        71,  10,  65,   9,  38,  37,  44,  15,  77,  55,  72,  54,  70,\n",
      "        35,  39,  13,  33,  18,  78,  20,  59,  22,  68,  43,  56,  57,\n",
      "        36,  64,  63,  61,  21,  24,  32,  19,  28]), 'param_max_depth': masked_array(data = [1 1 1 1 1 1 1 1 1 1 2 2 2 2 2 2 2 2 2 2 3 3 3 3 3 3 3 3 3 3 4 4 4 4 4 4 4\n",
      " 4 4 4 5 5 5 5 5 5 5 5 5 5 6 6 6 6 6 6 6 6 6 6 7 7 7 7 7 7 7 7 7 7 8 8 8 8\n",
      " 8 8 8 8 8 8 9 9 9 9 9 9 9 9 9 9 10 10 10 10 10 10 10 10 10 10],\n",
      "             mask = [False False False False False False False False False False False False\n",
      " False False False False False False False False False False False False\n",
      " False False False False False False False False False False False False\n",
      " False False False False False False False False False False False False\n",
      " False False False False False False False False False False False False\n",
      " False False False False False False False False False False False False\n",
      " False False False False False False False False False False False False\n",
      " False False False False False False False False False False False False\n",
      " False False False False],\n",
      "       fill_value = ?)\n",
      ", 'split1_train_score': array([ 0.32665916,  0.07210107,  0.32665916,  0.29645679,  0.32665916,\n",
      "        0.01904066,  0.32665916,  0.06809343,  0.32665916,  0.25149571,\n",
      "        0.51141111,  0.1845399 ,  0.51141111,  0.46157229,  0.51141111,\n",
      "        0.21833445,  0.51141111,  0.236077  ,  0.51141111,  0.27599367,\n",
      "        0.5629368 ,  0.44357563,  0.5629368 ,  0.40842056,  0.5629368 ,\n",
      "        0.39235162,  0.5629368 ,  0.30229337,  0.5629368 ,  0.36006015,\n",
      "        0.64264787,  0.29657866,  0.64264787,  0.53442348,  0.64264787,\n",
      "        0.48769565,  0.63779646,  0.48454703,  0.63779646,  0.50271568,\n",
      "        0.6994221 ,  0.55640447,  0.6994221 ,  0.47830225,  0.69937963,\n",
      "        0.54664317,  0.69452822,  0.55866624,  0.69452822,  0.54188667,\n",
      "        0.74272752,  0.53850315,  0.73024251,  0.59831532,  0.72820743,\n",
      "        0.61011163,  0.72335602,  0.63028067,  0.72176744,  0.55693304,\n",
      "        0.77066471,  0.61786656,  0.75766833,  0.63659022,  0.75454576,\n",
      "        0.62695155,  0.74671491,  0.66915911,  0.74480571,  0.5960613 ,\n",
      "        0.79768419,  0.69163308,  0.78407726,  0.6583677 ,  0.7805281 ,\n",
      "        0.65451866,  0.77233189,  0.66317697,  0.77028301,  0.66838485,\n",
      "        0.83345922,  0.73040176,  0.81912346,  0.70868339,  0.81476076,\n",
      "        0.69761894,  0.80450771,  0.63158185,  0.8006599 ,  0.63309692,\n",
      "        0.86888419,  0.7186266 ,  0.85177916,  0.74326457,  0.84551688,\n",
      "        0.71648081,  0.83310686,  0.73647418,  0.82586797,  0.71805448]), 'std_score_time': array([  0.00000000e+00,   0.00000000e+00,   0.00000000e+00,\n",
      "         0.00000000e+00,   0.00000000e+00,   0.00000000e+00,\n",
      "         8.00001621e-03,   0.00000000e+00,   0.00000000e+00,\n",
      "         0.00000000e+00,   0.00000000e+00,   0.00000000e+00,\n",
      "         0.00000000e+00,   0.00000000e+00,   0.00000000e+00,\n",
      "         9.99927521e-04,   0.00000000e+00,   1.19209290e-07,\n",
      "         0.00000000e+00,   1.19209290e-07,   0.00000000e+00,\n",
      "         0.00000000e+00,   0.00000000e+00,   0.00000000e+00,\n",
      "         0.00000000e+00,   0.00000000e+00,   0.00000000e+00,\n",
      "         0.00000000e+00,   0.00000000e+00,   0.00000000e+00,\n",
      "         0.00000000e+00,   0.00000000e+00,   0.00000000e+00,\n",
      "         0.00000000e+00,   8.00001621e-03,   0.00000000e+00,\n",
      "         0.00000000e+00,   0.00000000e+00,   0.00000000e+00,\n",
      "         0.00000000e+00,   0.00000000e+00,   0.00000000e+00,\n",
      "         0.00000000e+00,   0.00000000e+00,   0.00000000e+00,\n",
      "         0.00000000e+00,   0.00000000e+00,   0.00000000e+00,\n",
      "         0.00000000e+00,   0.00000000e+00,   0.00000000e+00,\n",
      "         0.00000000e+00,   0.00000000e+00,   0.00000000e+00,\n",
      "         0.00000000e+00,   0.00000000e+00,   7.49993324e-03,\n",
      "         0.00000000e+00,   8.00001621e-03,   0.00000000e+00,\n",
      "         8.00001621e-03,   0.00000000e+00,   0.00000000e+00,\n",
      "         0.00000000e+00,   0.00000000e+00,   0.00000000e+00,\n",
      "         0.00000000e+00,   0.00000000e+00,   0.00000000e+00,\n",
      "         0.00000000e+00,   0.00000000e+00,   0.00000000e+00,\n",
      "         0.00000000e+00,   0.00000000e+00,   0.00000000e+00,\n",
      "         0.00000000e+00,   0.00000000e+00,   0.00000000e+00,\n",
      "         0.00000000e+00,   0.00000000e+00,   0.00000000e+00,\n",
      "         7.50005245e-03,   0.00000000e+00,   0.00000000e+00,\n",
      "         0.00000000e+00,   0.00000000e+00,   0.00000000e+00,\n",
      "         0.00000000e+00,   0.00000000e+00,   0.00000000e+00,\n",
      "         0.00000000e+00,   0.00000000e+00,   0.00000000e+00,\n",
      "         0.00000000e+00,   0.00000000e+00,   0.00000000e+00,\n",
      "         7.50005245e-03,   0.00000000e+00,   0.00000000e+00,\n",
      "         0.00000000e+00]), 'mean_score_time': array([ 0.        ,  0.        ,  0.        ,  0.        ,  0.        ,\n",
      "        0.        ,  0.00800002,  0.        ,  0.        ,  0.        ,\n",
      "        0.        ,  0.        ,  0.        ,  0.        ,  0.        ,\n",
      "        0.00099993,  0.        ,  0.00100005,  0.00099993,  0.00100005,\n",
      "        0.        ,  0.        ,  0.        ,  0.        ,  0.        ,\n",
      "        0.        ,  0.        ,  0.        ,  0.        ,  0.        ,\n",
      "        0.        ,  0.        ,  0.        ,  0.        ,  0.00800002,\n",
      "        0.        ,  0.        ,  0.        ,  0.        ,  0.        ,\n",
      "        0.        ,  0.        ,  0.        ,  0.        ,  0.        ,\n",
      "        0.        ,  0.        ,  0.        ,  0.        ,  0.        ,\n",
      "        0.        ,  0.        ,  0.        ,  0.        ,  0.        ,\n",
      "        0.        ,  0.00749993,  0.        ,  0.00800002,  0.        ,\n",
      "        0.00800002,  0.        ,  0.        ,  0.        ,  0.        ,\n",
      "        0.        ,  0.        ,  0.        ,  0.        ,  0.        ,\n",
      "        0.        ,  0.        ,  0.        ,  0.        ,  0.        ,\n",
      "        0.        ,  0.        ,  0.        ,  0.        ,  0.        ,\n",
      "        0.        ,  0.00750005,  0.        ,  0.        ,  0.        ,\n",
      "        0.        ,  0.        ,  0.        ,  0.        ,  0.        ,\n",
      "        0.        ,  0.        ,  0.        ,  0.        ,  0.        ,\n",
      "        0.        ,  0.00750005,  0.        ,  0.        ,  0.        ]), 'mean_fit_time': array([ 0.        ,  0.        ,  0.        ,  0.        ,  0.00749993,\n",
      "        0.        ,  0.        ,  0.        ,  0.        ,  0.00750005,\n",
      "        0.        ,  0.0079999 ,  0.00800002,  0.        ,  0.00750005,\n",
      "        0.00800002,  0.00400007,  0.0029999 ,  0.00300002,  0.00199997,\n",
      "        0.00349998,  0.        ,  0.        ,  0.00750005,  0.        ,\n",
      "        0.        ,  0.        ,  0.00750005,  0.00800002,  0.        ,\n",
      "        0.        ,  0.00800002,  0.        ,  0.00750005,  0.        ,\n",
      "        0.        ,  0.0079999 ,  0.        ,  0.00800002,  0.        ,\n",
      "        0.        ,  0.        ,  0.00800002,  0.00750005,  0.00800002,\n",
      "        0.0079999 ,  0.        ,  0.00800002,  0.00749993,  0.        ,\n",
      "        0.00800002,  0.        ,  0.00750005,  0.        ,  0.0079999 ,\n",
      "        0.        ,  0.        ,  0.        ,  0.00800002,  0.        ,\n",
      "        0.00750005,  0.        ,  0.00750005,  0.        ,  0.00800002,\n",
      "        0.        ,  0.00800002,  0.00750005,  0.00800002,  0.0079999 ,\n",
      "        0.        ,  0.        ,  0.00800002,  0.        ,  0.01550007,\n",
      "        0.        ,  0.0079999 ,  0.00750005,  0.        ,  0.00800002,\n",
      "        0.01549995,  0.        ,  0.00800002,  0.        ,  0.00750005,\n",
      "        0.        ,  0.01549995,  0.00800002,  0.        ,  0.00800002,\n",
      "        0.01549995,  0.00800002,  0.        ,  0.00749993,  0.01550007,\n",
      "        0.        ,  0.0079999 ,  0.        ,  0.00800002,  0.00749993]), 'split0_train_score': array([ 0.28888314,  0.17999442,  0.28888314,  0.17750353,  0.28888314,\n",
      "        0.17750353,  0.28888314,  0.21283164,  0.28888314,  0.20511141,\n",
      "        0.57804852,  0.44471128,  0.57804852,  0.49560904,  0.57804852,\n",
      "        0.21767934,  0.57804852,  0.31609793,  0.57804852,  0.34068393,\n",
      "        0.67102988,  0.51777776,  0.67102988,  0.60282388,  0.67102988,\n",
      "        0.59016352,  0.67102988,  0.50679104,  0.67102988,  0.57935887,\n",
      "        0.71423376,  0.61151821,  0.71423376,  0.569455  ,  0.71423376,\n",
      "        0.54880028,  0.70277068,  0.49928988,  0.70277068,  0.65286299,\n",
      "        0.74031583,  0.61068168,  0.74031583,  0.55417971,  0.74031583,\n",
      "        0.63400562,  0.72885275,  0.69263607,  0.72885275,  0.6489108 ,\n",
      "        0.77824267,  0.68166841,  0.77824267,  0.72906905,  0.7772357 ,\n",
      "        0.71247803,  0.76577262,  0.70459227,  0.76577262,  0.66329877,\n",
      "        0.80889091,  0.78097732,  0.80771994,  0.72411843,  0.80671297,\n",
      "        0.74345929,  0.79524988,  0.73411781,  0.79489955,  0.71916667,\n",
      "        0.83997007,  0.7705086 ,  0.8382954 ,  0.77845192,  0.8368996 ,\n",
      "        0.76733941,  0.82483005,  0.76744544,  0.81950271,  0.72265775,\n",
      "        0.86891796,  0.82358511,  0.86714678,  0.7824606 ,  0.86362765,\n",
      "        0.73612812,  0.85119143,  0.78249005,  0.84241059,  0.77707147,\n",
      "        0.89379953,  0.81517543,  0.89169762,  0.79499362,  0.88712941,\n",
      "        0.83019578,  0.87363448,  0.80741964,  0.86416592,  0.78352656]), 'param_min_samples_split': masked_array(data = [3 3 4 4 5 5 6 6 7 7 3 3 4 4 5 5 6 6 7 7 3 3 4 4 5 5 6 6 7 7 3 3 4 4 5 5 6\n",
      " 6 7 7 3 3 4 4 5 5 6 6 7 7 3 3 4 4 5 5 6 6 7 7 3 3 4 4 5 5 6 6 7 7 3 3 4 4\n",
      " 5 5 6 6 7 7 3 3 4 4 5 5 6 6 7 7 3 3 4 4 5 5 6 6 7 7],\n",
      "             mask = [False False False False False False False False False False False False\n",
      " False False False False False False False False False False False False\n",
      " False False False False False False False False False False False False\n",
      " False False False False False False False False False False False False\n",
      " False False False False False False False False False False False False\n",
      " False False False False False False False False False False False False\n",
      " False False False False False False False False False False False False\n",
      " False False False False False False False False False False False False\n",
      " False False False False],\n",
      "       fill_value = ?)\n",
      ", 'std_test_score': array([ 0.03442983,  0.08287037,  0.03442983,  0.19194885,  0.03442983,\n",
      "        0.1615439 ,  0.03442983,  0.01911589,  0.03442983,  0.06610644,\n",
      "        0.02142522,  0.00795107,  0.02142522,  0.089806  ,  0.02142522,\n",
      "        0.20334759,  0.02142522,  0.10286101,  0.02142522,  0.09132097,\n",
      "        0.01419721,  0.10309586,  0.07656302,  0.07200406,  0.07656302,\n",
      "        0.08375566,  0.07656302,  0.04222401,  0.01419721,  0.03308798,\n",
      "        0.00361483,  0.11189069,  0.00361483,  0.10512816,  0.00936218,\n",
      "        0.15357834,  0.06669429,  0.12987513,  0.06669429,  0.05827146,\n",
      "        0.02966602,  0.1403327 ,  0.02391866,  0.07016682,  0.08894713,\n",
      "        0.10081737,  0.08699813,  0.0851789 ,  0.02463231,  0.04596095,\n",
      "        0.03520445,  0.09327901,  0.09652517,  0.11902375,  0.09363642,\n",
      "        0.11678655,  0.02863536,  0.09148662,  0.0926759 ,  0.03568547,\n",
      "        0.05316149,  0.08957617,  0.03452637,  0.08733324,  0.04202327,\n",
      "        0.1174902 ,  0.03806443,  0.06323176,  0.04035317,  0.07115374,\n",
      "        0.14175501,  0.13947834,  0.06048184,  0.19100429,  0.12823376,\n",
      "        0.17045198,  0.12363819,  0.11361512,  0.10883395,  0.07870544,\n",
      "        0.07810263,  0.14061995,  0.06551013,  0.23541584,  0.06310414,\n",
      "        0.13412985,  0.05780842,  0.12669842,  0.11036099,  0.11003184,\n",
      "        0.13930926,  0.08764748,  0.11521182,  0.14530424,  0.1183082 ,\n",
      "        0.09312614,  0.05394333,  0.11618901,  0.04691358,  0.10006177]), 'mean_train_score': array([ 0.30777115,  0.12604774,  0.30777115,  0.23698016,  0.30777115,\n",
      "        0.09827209,  0.30777115,  0.14046254,  0.30777115,  0.22830356,\n",
      "        0.54472982,  0.31462559,  0.54472982,  0.47859067,  0.54472982,\n",
      "        0.2180069 ,  0.54472982,  0.27608747,  0.54472982,  0.3083388 ,\n",
      "        0.61698334,  0.4806767 ,  0.61698334,  0.50562222,  0.61698334,\n",
      "        0.49125757,  0.61698334,  0.4045422 ,  0.61698334,  0.46970951,\n",
      "        0.67844081,  0.45404844,  0.67844081,  0.55193924,  0.67844081,\n",
      "        0.51824796,  0.67028357,  0.49191846,  0.67028357,  0.57778933,\n",
      "        0.71986896,  0.58354308,  0.71986896,  0.51624098,  0.71984773,\n",
      "        0.5903244 ,  0.71169049,  0.62565116,  0.71169049,  0.59539874,\n",
      "        0.7604851 ,  0.61008578,  0.75424259,  0.66369218,  0.75272157,\n",
      "        0.66129483,  0.74456432,  0.66743647,  0.74377003,  0.61011591,\n",
      "        0.78977781,  0.69942194,  0.78269413,  0.68035433,  0.78062937,\n",
      "        0.68520542,  0.7709824 ,  0.70163846,  0.76985263,  0.65761398,\n",
      "        0.81882713,  0.73107084,  0.81118633,  0.71840981,  0.80871385,\n",
      "        0.71092903,  0.79858097,  0.7153112 ,  0.79489286,  0.6955213 ,\n",
      "        0.85118859,  0.77699343,  0.84313512,  0.745572  ,  0.8391942 ,\n",
      "        0.71687353,  0.82784957,  0.70703595,  0.82153524,  0.7050842 ,\n",
      "        0.88134186,  0.76690102,  0.87173839,  0.7691291 ,  0.86632314,\n",
      "        0.77333829,  0.85337067,  0.77194691,  0.84501694,  0.75079052]), 'split0_test_score': array([ 0.21405975,  0.22414594,  0.21405975, -0.12055726,  0.21405975,\n",
      "       -0.29505504,  0.21405975,  0.0377128 ,  0.21405975,  0.12666203,\n",
      "        0.43903799,  0.19366069,  0.43903799,  0.26651891,  0.43903799,\n",
      "       -0.09373118,  0.43903799,  0.0499683 ,  0.43903799,  0.06321004,\n",
      "        0.50792076,  0.22827318,  0.38318913,  0.23528596,  0.38318913,\n",
      "        0.23772843,  0.38318913,  0.17838746,  0.50792076,  0.28258874,\n",
      "        0.52984299,  0.04756755,  0.52984299,  0.31652221,  0.51834828,\n",
      "        0.17742272,  0.3996488 ,  0.21743702,  0.3996488 ,  0.36834211,\n",
      "        0.52995179,  0.26785289,  0.5414465 ,  0.33498075,  0.41138956,\n",
      "        0.35077264,  0.41125231,  0.38100046,  0.53598394,  0.40734173,\n",
      "        0.523109  ,  0.34950064,  0.40317427,  0.34076496,  0.40385097,\n",
      "        0.36238859,  0.52981785,  0.41038982,  0.40508622,  0.39284482,\n",
      "        0.4992687 ,  0.29306997,  0.51292506,  0.41066285,  0.51154764,\n",
      "        0.29425697,  0.5081392 ,  0.371876  ,  0.50696676,  0.39695352,\n",
      "        0.32868653,  0.32369812,  0.46482681,  0.15754159,  0.33083407,\n",
      "        0.24059926,  0.33576764,  0.30212572,  0.36917441,  0.38808904,\n",
      "        0.4552987 ,  0.34131288,  0.45540861,  0.11279844,  0.4546342 ,\n",
      "        0.31900656,  0.45519968,  0.29775522,  0.35548206,  0.34835883,\n",
      "        0.31720438,  0.38334169,  0.3263202 ,  0.29711329,  0.32491501,\n",
      "        0.42406805,  0.44745861,  0.36646015,  0.47166698,  0.39804504]), 'mean_test_score': array([ 0.24848527,  0.14128593,  0.24848527,  0.0713676 ,  0.24848527,\n",
      "       -0.13353133,  0.24848527,  0.0568263 ,  0.24848527,  0.19276021,\n",
      "        0.46046052,  0.20161077,  0.46046052,  0.35631368,  0.46046052,\n",
      "        0.10959099,  0.46046052,  0.15281645,  0.46046052,  0.1545196 ,\n",
      "        0.5221162 ,  0.33135616,  0.45974259,  0.30728101,  0.45974259,\n",
      "        0.32147363,  0.45974259,  0.22060619,  0.5221162 ,  0.31567259,\n",
      "        0.53345737,  0.15944425,  0.53345737,  0.42163723,  0.52770929,\n",
      "        0.33098186,  0.46633476,  0.34729591,  0.46633476,  0.42660628,\n",
      "        0.5596141 ,  0.40816804,  0.56536217,  0.4051388 ,  0.50032557,\n",
      "        0.45157741,  0.49823956,  0.46616871,  0.56061318,  0.45329693,\n",
      "        0.55830905,  0.44276799,  0.49968737,  0.45977383,  0.49747569,\n",
      "        0.47916054,  0.55844962,  0.50186501,  0.49775054,  0.42852583,\n",
      "        0.55242355,  0.38263493,  0.54744712,  0.49798517,  0.55356565,\n",
      "        0.41173248,  0.54619887,  0.43509985,  0.54731489,  0.46809836,\n",
      "        0.47042381,  0.46315902,  0.52530109,  0.348522  ,  0.4590518 ,\n",
      "        0.41102993,  0.45939038,  0.41572663,  0.47799476,  0.46678465,\n",
      "        0.53339157,  0.48191525,  0.52091055,  0.34818484,  0.51773045,\n",
      "        0.45311964,  0.51300087,  0.4244378 ,  0.46582926,  0.45837691,\n",
      "        0.45649623,  0.47097821,  0.44151761,  0.44239937,  0.44320841,\n",
      "        0.51718254,  0.5013952 ,  0.48263463,  0.5185747 ,  0.4980943 ]), 'param_splitter': masked_array(data = ['best' 'random' 'best' 'random' 'best' 'random' 'best' 'random' 'best'\n",
      " 'random' 'best' 'random' 'best' 'random' 'best' 'random' 'best' 'random'\n",
      " 'best' 'random' 'best' 'random' 'best' 'random' 'best' 'random' 'best'\n",
      " 'random' 'best' 'random' 'best' 'random' 'best' 'random' 'best' 'random'\n",
      " 'best' 'random' 'best' 'random' 'best' 'random' 'best' 'random' 'best'\n",
      " 'random' 'best' 'random' 'best' 'random' 'best' 'random' 'best' 'random'\n",
      " 'best' 'random' 'best' 'random' 'best' 'random' 'best' 'random' 'best'\n",
      " 'random' 'best' 'random' 'best' 'random' 'best' 'random' 'best' 'random'\n",
      " 'best' 'random' 'best' 'random' 'best' 'random' 'best' 'random' 'best'\n",
      " 'random' 'best' 'random' 'best' 'random' 'best' 'random' 'best' 'random'\n",
      " 'best' 'random' 'best' 'random' 'best' 'random' 'best' 'random' 'best'\n",
      " 'random'],\n",
      "             mask = [False False False False False False False False False False False False\n",
      " False False False False False False False False False False False False\n",
      " False False False False False False False False False False False False\n",
      " False False False False False False False False False False False False\n",
      " False False False False False False False False False False False False\n",
      " False False False False False False False False False False False False\n",
      " False False False False False False False False False False False False\n",
      " False False False False False False False False False False False False\n",
      " False False False False],\n",
      "       fill_value = ?)\n",
      ", 'params': [{'min_samples_split': 3, 'splitter': 'best', 'max_depth': 1}, {'min_samples_split': 3, 'splitter': 'random', 'max_depth': 1}, {'min_samples_split': 4, 'splitter': 'best', 'max_depth': 1}, {'min_samples_split': 4, 'splitter': 'random', 'max_depth': 1}, {'min_samples_split': 5, 'splitter': 'best', 'max_depth': 1}, {'min_samples_split': 5, 'splitter': 'random', 'max_depth': 1}, {'min_samples_split': 6, 'splitter': 'best', 'max_depth': 1}, {'min_samples_split': 6, 'splitter': 'random', 'max_depth': 1}, {'min_samples_split': 7, 'splitter': 'best', 'max_depth': 1}, {'min_samples_split': 7, 'splitter': 'random', 'max_depth': 1}, {'min_samples_split': 3, 'splitter': 'best', 'max_depth': 2}, {'min_samples_split': 3, 'splitter': 'random', 'max_depth': 2}, {'min_samples_split': 4, 'splitter': 'best', 'max_depth': 2}, {'min_samples_split': 4, 'splitter': 'random', 'max_depth': 2}, {'min_samples_split': 5, 'splitter': 'best', 'max_depth': 2}, {'min_samples_split': 5, 'splitter': 'random', 'max_depth': 2}, {'min_samples_split': 6, 'splitter': 'best', 'max_depth': 2}, {'min_samples_split': 6, 'splitter': 'random', 'max_depth': 2}, {'min_samples_split': 7, 'splitter': 'best', 'max_depth': 2}, {'min_samples_split': 7, 'splitter': 'random', 'max_depth': 2}, {'min_samples_split': 3, 'splitter': 'best', 'max_depth': 3}, {'min_samples_split': 3, 'splitter': 'random', 'max_depth': 3}, {'min_samples_split': 4, 'splitter': 'best', 'max_depth': 3}, {'min_samples_split': 4, 'splitter': 'random', 'max_depth': 3}, {'min_samples_split': 5, 'splitter': 'best', 'max_depth': 3}, {'min_samples_split': 5, 'splitter': 'random', 'max_depth': 3}, {'min_samples_split': 6, 'splitter': 'best', 'max_depth': 3}, {'min_samples_split': 6, 'splitter': 'random', 'max_depth': 3}, {'min_samples_split': 7, 'splitter': 'best', 'max_depth': 3}, {'min_samples_split': 7, 'splitter': 'random', 'max_depth': 3}, {'min_samples_split': 3, 'splitter': 'best', 'max_depth': 4}, {'min_samples_split': 3, 'splitter': 'random', 'max_depth': 4}, {'min_samples_split': 4, 'splitter': 'best', 'max_depth': 4}, {'min_samples_split': 4, 'splitter': 'random', 'max_depth': 4}, {'min_samples_split': 5, 'splitter': 'best', 'max_depth': 4}, {'min_samples_split': 5, 'splitter': 'random', 'max_depth': 4}, {'min_samples_split': 6, 'splitter': 'best', 'max_depth': 4}, {'min_samples_split': 6, 'splitter': 'random', 'max_depth': 4}, {'min_samples_split': 7, 'splitter': 'best', 'max_depth': 4}, {'min_samples_split': 7, 'splitter': 'random', 'max_depth': 4}, {'min_samples_split': 3, 'splitter': 'best', 'max_depth': 5}, {'min_samples_split': 3, 'splitter': 'random', 'max_depth': 5}, {'min_samples_split': 4, 'splitter': 'best', 'max_depth': 5}, {'min_samples_split': 4, 'splitter': 'random', 'max_depth': 5}, {'min_samples_split': 5, 'splitter': 'best', 'max_depth': 5}, {'min_samples_split': 5, 'splitter': 'random', 'max_depth': 5}, {'min_samples_split': 6, 'splitter': 'best', 'max_depth': 5}, {'min_samples_split': 6, 'splitter': 'random', 'max_depth': 5}, {'min_samples_split': 7, 'splitter': 'best', 'max_depth': 5}, {'min_samples_split': 7, 'splitter': 'random', 'max_depth': 5}, {'min_samples_split': 3, 'splitter': 'best', 'max_depth': 6}, {'min_samples_split': 3, 'splitter': 'random', 'max_depth': 6}, {'min_samples_split': 4, 'splitter': 'best', 'max_depth': 6}, {'min_samples_split': 4, 'splitter': 'random', 'max_depth': 6}, {'min_samples_split': 5, 'splitter': 'best', 'max_depth': 6}, {'min_samples_split': 5, 'splitter': 'random', 'max_depth': 6}, {'min_samples_split': 6, 'splitter': 'best', 'max_depth': 6}, {'min_samples_split': 6, 'splitter': 'random', 'max_depth': 6}, {'min_samples_split': 7, 'splitter': 'best', 'max_depth': 6}, {'min_samples_split': 7, 'splitter': 'random', 'max_depth': 6}, {'min_samples_split': 3, 'splitter': 'best', 'max_depth': 7}, {'min_samples_split': 3, 'splitter': 'random', 'max_depth': 7}, {'min_samples_split': 4, 'splitter': 'best', 'max_depth': 7}, {'min_samples_split': 4, 'splitter': 'random', 'max_depth': 7}, {'min_samples_split': 5, 'splitter': 'best', 'max_depth': 7}, {'min_samples_split': 5, 'splitter': 'random', 'max_depth': 7}, {'min_samples_split': 6, 'splitter': 'best', 'max_depth': 7}, {'min_samples_split': 6, 'splitter': 'random', 'max_depth': 7}, {'min_samples_split': 7, 'splitter': 'best', 'max_depth': 7}, {'min_samples_split': 7, 'splitter': 'random', 'max_depth': 7}, {'min_samples_split': 3, 'splitter': 'best', 'max_depth': 8}, {'min_samples_split': 3, 'splitter': 'random', 'max_depth': 8}, {'min_samples_split': 4, 'splitter': 'best', 'max_depth': 8}, {'min_samples_split': 4, 'splitter': 'random', 'max_depth': 8}, {'min_samples_split': 5, 'splitter': 'best', 'max_depth': 8}, {'min_samples_split': 5, 'splitter': 'random', 'max_depth': 8}, {'min_samples_split': 6, 'splitter': 'best', 'max_depth': 8}, {'min_samples_split': 6, 'splitter': 'random', 'max_depth': 8}, {'min_samples_split': 7, 'splitter': 'best', 'max_depth': 8}, {'min_samples_split': 7, 'splitter': 'random', 'max_depth': 8}, {'min_samples_split': 3, 'splitter': 'best', 'max_depth': 9}, {'min_samples_split': 3, 'splitter': 'random', 'max_depth': 9}, {'min_samples_split': 4, 'splitter': 'best', 'max_depth': 9}, {'min_samples_split': 4, 'splitter': 'random', 'max_depth': 9}, {'min_samples_split': 5, 'splitter': 'best', 'max_depth': 9}, {'min_samples_split': 5, 'splitter': 'random', 'max_depth': 9}, {'min_samples_split': 6, 'splitter': 'best', 'max_depth': 9}, {'min_samples_split': 6, 'splitter': 'random', 'max_depth': 9}, {'min_samples_split': 7, 'splitter': 'best', 'max_depth': 9}, {'min_samples_split': 7, 'splitter': 'random', 'max_depth': 9}, {'min_samples_split': 3, 'splitter': 'best', 'max_depth': 10}, {'min_samples_split': 3, 'splitter': 'random', 'max_depth': 10}, {'min_samples_split': 4, 'splitter': 'best', 'max_depth': 10}, {'min_samples_split': 4, 'splitter': 'random', 'max_depth': 10}, {'min_samples_split': 5, 'splitter': 'best', 'max_depth': 10}, {'min_samples_split': 5, 'splitter': 'random', 'max_depth': 10}, {'min_samples_split': 6, 'splitter': 'best', 'max_depth': 10}, {'min_samples_split': 6, 'splitter': 'random', 'max_depth': 10}, {'min_samples_split': 7, 'splitter': 'best', 'max_depth': 10}, {'min_samples_split': 7, 'splitter': 'random', 'max_depth': 10}], 'std_fit_time': array([  0.00000000e+00,   0.00000000e+00,   0.00000000e+00,\n",
      "         0.00000000e+00,   7.49993324e-03,   0.00000000e+00,\n",
      "         0.00000000e+00,   0.00000000e+00,   0.00000000e+00,\n",
      "         7.50005245e-03,   0.00000000e+00,   7.99989700e-03,\n",
      "         8.00001621e-03,   0.00000000e+00,   7.50005245e-03,\n",
      "         8.00001621e-03,   1.19209290e-07,   1.19209290e-07,\n",
      "         0.00000000e+00,   1.19209290e-07,   4.99963760e-04,\n",
      "         0.00000000e+00,   0.00000000e+00,   7.50005245e-03,\n",
      "         0.00000000e+00,   0.00000000e+00,   0.00000000e+00,\n",
      "         7.50005245e-03,   8.00001621e-03,   0.00000000e+00,\n",
      "         0.00000000e+00,   8.00001621e-03,   0.00000000e+00,\n",
      "         7.50005245e-03,   0.00000000e+00,   0.00000000e+00,\n",
      "         7.99989700e-03,   0.00000000e+00,   8.00001621e-03,\n",
      "         0.00000000e+00,   0.00000000e+00,   0.00000000e+00,\n",
      "         8.00001621e-03,   7.50005245e-03,   8.00001621e-03,\n",
      "         7.99989700e-03,   0.00000000e+00,   8.00001621e-03,\n",
      "         7.49993324e-03,   0.00000000e+00,   8.00001621e-03,\n",
      "         0.00000000e+00,   7.50005245e-03,   0.00000000e+00,\n",
      "         7.99989700e-03,   0.00000000e+00,   0.00000000e+00,\n",
      "         0.00000000e+00,   8.00001621e-03,   0.00000000e+00,\n",
      "         7.50005245e-03,   0.00000000e+00,   7.50005245e-03,\n",
      "         0.00000000e+00,   8.00001621e-03,   0.00000000e+00,\n",
      "         8.00001621e-03,   7.50005245e-03,   8.00001621e-03,\n",
      "         7.99989700e-03,   0.00000000e+00,   0.00000000e+00,\n",
      "         8.00001621e-03,   0.00000000e+00,   4.99963760e-04,\n",
      "         0.00000000e+00,   7.99989700e-03,   7.50005245e-03,\n",
      "         0.00000000e+00,   8.00001621e-03,   5.00082970e-04,\n",
      "         0.00000000e+00,   8.00001621e-03,   0.00000000e+00,\n",
      "         7.50005245e-03,   0.00000000e+00,   5.00082970e-04,\n",
      "         8.00001621e-03,   0.00000000e+00,   8.00001621e-03,\n",
      "         4.99844551e-04,   8.00001621e-03,   0.00000000e+00,\n",
      "         7.49993324e-03,   4.99963760e-04,   0.00000000e+00,\n",
      "         7.99989700e-03,   0.00000000e+00,   8.00001621e-03,\n",
      "         7.49993324e-03]), 'split1_test_score': array([ 0.2829194 ,  0.0584052 ,  0.2829194 ,  0.26334044,  0.2829194 ,\n",
      "        0.02803277,  0.2829194 ,  0.07594458,  0.2829194 ,  0.25887492,\n",
      "        0.48188842,  0.20956283,  0.48188842,  0.44613091,  0.48188842,\n",
      "        0.31296401,  0.48188842,  0.25569031,  0.48188842,  0.24585199,\n",
      "        0.53631518,  0.43446491,  0.53631518,  0.37929407,  0.53631518,\n",
      "        0.40523976,  0.53631518,  0.26283548,  0.53631518,  0.34876471,\n",
      "        0.53707265,  0.27134892,  0.53707265,  0.52677854,  0.53707265,\n",
      "        0.48457939,  0.53303739,  0.47718727,  0.53303739,  0.48488502,\n",
      "        0.58928382,  0.54851828,  0.58928382,  0.47531439,  0.58928382,\n",
      "        0.55240739,  0.58524857,  0.55135826,  0.58524857,  0.49926362,\n",
      "        0.5935179 ,  0.53605866,  0.59622461,  0.57881246,  0.59112382,\n",
      "        0.59596169,  0.58708856,  0.59336307,  0.59043802,  0.46421577,\n",
      "        0.60559168,  0.4722223 ,  0.58197781,  0.58532932,  0.59559417,\n",
      "        0.52923736,  0.58426806,  0.49833951,  0.58767311,  0.539261  ,\n",
      "        0.61219654,  0.6026548 ,  0.58579049,  0.53955017,  0.58730159,\n",
      "        0.58150322,  0.58304403,  0.52935595,  0.58684232,  0.54549993,\n",
      "        0.61150397,  0.62255279,  0.58642887,  0.58363011,  0.58084247,\n",
      "        0.58726625,  0.57081651,  0.55115206,  0.57620404,  0.56842251,\n",
      "        0.59582291,  0.55863664,  0.55674383,  0.58772178,  0.5615314 ,\n",
      "        0.61032032,  0.55534528,  0.59883817,  0.56549415,  0.59816859])}\n"
     ]
    }
   ],
   "source": [
    "print grid.best_score_\n",
    "print grid.cv_results_"
   ]
  },
  {
   "cell_type": "markdown",
   "metadata": {},
   "source": [
    "### 问题14 - 北京房价预测\n",
    "你成功的用新的数据集构建了模型了吗？他能对测试数据进行验证吗？它的表现是否符合你的预期？交叉验证是否有助于提升你模型的表现？\n",
    "\n",
    "**提示：**如果你是从零开始构建机器学习的代码会让你一时觉得无从下手。这时不要着急，你要做的只是查看之前写的代码，把每一行都看明白，然后逐步构建你的模型。当中遇到什么问题也可以在我们论坛寻找答案。也许你会发现你所构建的模型的表现并没有达到你的预期，这说明机器学习并非是一项简单的任务，构建一个表现良好的模型需要长时间的研究和测试。这也是我们接下来的课程中会逐渐学到的。"
   ]
  },
  {
   "cell_type": "markdown",
   "metadata": {},
   "source": [
    "### 问题14 - 回答\n",
    "- 构建了模型，并且对测试数据进行了简单的验证。当进行数据拆分不指定random_state时（采用随机拆分），每次运行的结果起伏很大，从结果来看交叉验证和GridSearch在当前模型和数据下并不能稳定的提升模型的表现。\n",
    "- 这次的数据更多也更新，但是从数据上看仍然还有不少因素未引入，另外单个决策树本身也不是一个很好的预测模型，通常在实际工作中还需要结合多颗树进行ensemble，期待后面更多的教程和项目。"
   ]
  },
  {
   "cell_type": "code",
   "execution_count": null,
   "metadata": {
    "collapsed": true
   },
   "outputs": [],
   "source": []
  }
 ],
 "metadata": {
  "kernelspec": {
   "display_name": "Python 2",
   "language": "python",
   "name": "python2"
  },
  "language_info": {
   "codemirror_mode": {
    "name": "ipython",
    "version": 2
   },
   "file_extension": ".py",
   "mimetype": "text/x-python",
   "name": "python",
   "nbconvert_exporter": "python",
   "pygments_lexer": "ipython2",
   "version": "2.7.13"
  }
 },
 "nbformat": 4,
 "nbformat_minor": 1
}
