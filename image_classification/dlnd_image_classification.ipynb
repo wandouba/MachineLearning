{
 "cells": [
  {
   "cell_type": "markdown",
   "metadata": {
    "collapsed": true
   },
   "source": [
    "# 图像分类\n",
    "\n",
    "在此项目中，你将对 [CIFAR-10 数据集](https://www.cs.toronto.edu/~kriz/cifar.html) 中的图片进行分类。该数据集包含飞机、猫狗和其他物体。你需要预处理这些图片，然后用所有样本训练一个卷积神经网络。图片需要标准化（normalized），标签需要采用 one-hot 编码。你需要应用所学的知识构建卷积的、最大池化（max pooling）、丢弃（dropout）和完全连接（fully connected）的层。最后，你需要在样本图片上看到神经网络的预测结果。\n",
    "\n",
    "\n",
    "## 获取数据\n",
    "\n",
    "请运行以下单元，以下载 [CIFAR-10 数据集（Python版）](https://www.cs.toronto.edu/~kriz/cifar-10-python.tar.gz)。\n"
   ]
  },
  {
   "cell_type": "code",
   "execution_count": 1,
   "metadata": {},
   "outputs": [
    {
     "name": "stdout",
     "output_type": "stream",
     "text": [
      "All files found!\n"
     ]
    }
   ],
   "source": [
    "\"\"\"\n",
    "DON'T MODIFY ANYTHING IN THIS CELL THAT IS BELOW THIS LINE\n",
    "\"\"\"\n",
    "from urllib.request import urlretrieve\n",
    "from os.path import isfile, isdir\n",
    "from tqdm import tqdm\n",
    "import problem_unittests as tests\n",
    "import tarfile\n",
    "\n",
    "cifar10_dataset_folder_path = 'cifar-10-batches-py'\n",
    "\n",
    "# Use Floyd's cifar-10 dataset if present\n",
    "floyd_cifar10_location = '/input/cifar-10/python.tar.gz'\n",
    "if isfile(floyd_cifar10_location):\n",
    "    tar_gz_path = floyd_cifar10_location\n",
    "else:\n",
    "    tar_gz_path = 'cifar-10-python.tar.gz'\n",
    "\n",
    "class DLProgress(tqdm):\n",
    "    last_block = 0\n",
    "\n",
    "    def hook(self, block_num=1, block_size=1, total_size=None):\n",
    "        self.total = total_size\n",
    "        self.update((block_num - self.last_block) * block_size)\n",
    "        self.last_block = block_num\n",
    "\n",
    "if not isfile(tar_gz_path):\n",
    "    with DLProgress(unit='B', unit_scale=True, miniters=1, desc='CIFAR-10 Dataset') as pbar:\n",
    "        urlretrieve(\n",
    "            'https://www.cs.toronto.edu/~kriz/cifar-10-python.tar.gz',\n",
    "            tar_gz_path,\n",
    "            pbar.hook)\n",
    "\n",
    "if not isdir(cifar10_dataset_folder_path):\n",
    "    with tarfile.open(tar_gz_path) as tar:\n",
    "        tar.extractall()\n",
    "        tar.close()\n",
    "\n",
    "\n",
    "tests.test_folder_path(cifar10_dataset_folder_path)"
   ]
  },
  {
   "cell_type": "markdown",
   "metadata": {},
   "source": [
    "## 探索数据\n",
    "\n",
    "该数据集分成了几部分／批次（batches），以免你的机器在计算时内存不足。CIFAR-10 数据集包含 5 个部分，名称分别为 `data_batch_1`、`data_batch_2`，以此类推。每个部分都包含以下某个类别的标签和图片：\n",
    "\n",
    "* 飞机\n",
    "* 汽车\n",
    "* 鸟类\n",
    "* 猫\n",
    "* 鹿\n",
    "* 狗\n",
    "* 青蛙\n",
    "* 马\n",
    "* 船只\n",
    "* 卡车\n",
    "\n",
    "了解数据集也是对数据进行预测的必经步骤。你可以通过更改 `batch_id` 和 `sample_id` 探索下面的代码单元。`batch_id` 是数据集一个部分的 ID（1 到 5）。`sample_id` 是该部分中图片和标签对（label pair）的 ID。\n",
    "\n",
    "问问你自己：“可能的标签有哪些？”、“图片数据的值范围是多少？”、“标签是按顺序排列，还是随机排列的？”。思考类似的问题，有助于你预处理数据，并使预测结果更准确。\n"
   ]
  },
  {
   "cell_type": "code",
   "execution_count": 2,
   "metadata": {},
   "outputs": [
    {
     "name": "stdout",
     "output_type": "stream",
     "text": [
      "\n",
      "Stats of batch 3:\n",
      "Samples: 10000\n",
      "Label Counts: {0: 994, 1: 1042, 2: 965, 3: 997, 4: 990, 5: 1029, 6: 978, 7: 1015, 8: 961, 9: 1029}\n",
      "First 20 Labels: [8, 5, 0, 6, 9, 2, 8, 3, 6, 2, 7, 4, 6, 9, 0, 0, 7, 3, 7, 2]\n",
      "\n",
      "Example of Image 8888:\n",
      "Image - Min Value: 0 Max Value: 255\n",
      "Image - Shape: (32, 32, 3)\n",
      "Label - Label Id: 9 Name: truck\n"
     ]
    },
    {
     "data": {
      "image/png": "[encoded data removed]",
      "text/plain": [
       "<matplotlib.figure.Figure at 0x7fc141c4b550>"
      ]
     },
     "metadata": {
      "image/png": {
       "height": 250,
       "width": 253
      }
     },
     "output_type": "display_data"
    }
   ],
   "source": [
    "%matplotlib inline\n",
    "%config InlineBackend.figure_format = 'retina'\n",
    "\n",
    "import helper\n",
    "import numpy as np\n",
    "\n",
    "# Explore the dataset\n",
    "batch_id = 3\n",
    "sample_id = 8888\n",
    "helper.display_stats(cifar10_dataset_folder_path, batch_id, sample_id)"
   ]
  },
  {
   "cell_type": "markdown",
   "metadata": {},
   "source": [
    "## 实现预处理函数\n",
    "\n",
    "### 标准化\n",
    "\n",
    "在下面的单元中，实现 `normalize` 函数，传入图片数据 `x`，并返回标准化 Numpy 数组。值应该在 0 到 1 的范围内（含 0 和 1）。返回对象应该和 `x` 的形状一样。\n"
   ]
  },
  {
   "cell_type": "code",
   "execution_count": 3,
   "metadata": {},
   "outputs": [
    {
     "name": "stdout",
     "output_type": "stream",
     "text": [
      "Tests Passed\n"
     ]
    }
   ],
   "source": [
    "def normalize(x):\n",
    "    \"\"\"\n",
    "    Normalize a list of sample image data in the range of 0 to 1\n",
    "    : x: List of image data.  The image shape is (32, 32, 3)\n",
    "    : return: Numpy array of normalize data\n",
    "    \"\"\"\n",
    "    # TODO: Implement Function\n",
    "    return np.divide(x, 255)\n",
    "\n",
    "\n",
    "\"\"\"\n",
    "DON'T MODIFY ANYTHING IN THIS CELL THAT IS BELOW THIS LINE\n",
    "\"\"\"\n",
    "tests.test_normalize(normalize)"
   ]
  },
  {
   "cell_type": "markdown",
   "metadata": {},
   "source": [
    "### One-hot 编码\n",
    "\n",
    "和之前的代码单元一样，你将为预处理实现一个函数。这次，你将实现 `one_hot_encode` 函数。输入，也就是 `x`，是一个标签列表。实现该函数，以返回为 one_hot 编码的 Numpy 数组的标签列表。标签的可能值为 0 到 9。每次调用 `one_hot_encode` 时，对于每个值，one_hot 编码函数应该返回相同的编码。确保将编码映射保存到该函数外面。\n",
    "\n",
    "提示：不要重复发明轮子。\n"
   ]
  },
  {
   "cell_type": "code",
   "execution_count": 4,
   "metadata": {},
   "outputs": [
    {
     "name": "stdout",
     "output_type": "stream",
     "text": [
      "Tests Passed\n"
     ]
    }
   ],
   "source": [
    "from sklearn.preprocessing import OneHotEncoder\n",
    "\n",
    "def one_hot_encode(x):\n",
    "    \"\"\"\n",
    "    One hot encode a list of sample labels. Return a one-hot encoded vector for each label.\n",
    "    : x: List of sample Labels\n",
    "    : return: Numpy array of one-hot encoded labels\n",
    "    \"\"\"\n",
    "    # TODO: Implement Function\n",
    "    t = np.array(x, ndmin = 2).T\n",
    "    onehotencoder = OneHotEncoder(n_values = 10)\n",
    "    return onehotencoder.fit_transform(t).toarray()\n",
    "\n",
    "\n",
    "\"\"\"\n",
    "DON'T MODIFY ANYTHING IN THIS CELL THAT IS BELOW THIS LINE\n",
    "\"\"\"\n",
    "tests.test_one_hot_encode(one_hot_encode)"
   ]
  },
  {
   "cell_type": "markdown",
   "metadata": {},
   "source": [
    "### 随机化数据\n",
    "\n",
    "之前探索数据时，你已经了解到，样本的顺序是随机的。再随机化一次也不会有什么关系，但是对于这个数据集没有必要。\n"
   ]
  },
  {
   "cell_type": "markdown",
   "metadata": {},
   "source": [
    "## 预处理所有数据并保存\n",
    "\n",
    "运行下方的代码单元，将预处理所有 CIFAR-10 数据，并保存到文件中。下面的代码还使用了 10% 的训练数据，用来验证。\n"
   ]
  },
  {
   "cell_type": "code",
   "execution_count": 5,
   "metadata": {},
   "outputs": [],
   "source": [
    "\"\"\"\n",
    "DON'T MODIFY ANYTHING IN THIS CELL\n",
    "\"\"\"\n",
    "# Preprocess Training, Validation, and Testing Data\n",
    "helper.preprocess_and_save_data(cifar10_dataset_folder_path, normalize, one_hot_encode)"
   ]
  },
  {
   "cell_type": "markdown",
   "metadata": {},
   "source": [
    "# 检查点\n",
    "\n",
    "这是你的第一个检查点。如果你什么时候决定再回到该记事本，或需要重新启动该记事本，你可以从这里开始。预处理的数据已保存到本地。\n"
   ]
  },
  {
   "cell_type": "code",
   "execution_count": 6,
   "metadata": {},
   "outputs": [],
   "source": [
    "\"\"\"\n",
    "DON'T MODIFY ANYTHING IN THIS CELL\n",
    "\"\"\"\n",
    "import pickle\n",
    "import problem_unittests as tests\n",
    "import helper\n",
    "\n",
    "# Load the Preprocessed Validation data\n",
    "valid_features, valid_labels = pickle.load(open('preprocess_validation.p', mode='rb'))"
   ]
  },
  {
   "cell_type": "markdown",
   "metadata": {},
   "source": [
    "## 构建网络\n",
    "\n",
    "对于该神经网络，你需要将每层都构建为一个函数。你看到的大部分代码都位于函数外面。要更全面地测试你的代码，我们需要你将每层放入一个函数中。这样使我们能够提供更好的反馈，并使用我们的统一测试检测简单的错误，然后再提交项目。\n",
    "\n",
    ">**注意**：如果你觉得每周很难抽出足够的时间学习这门课程，我们为此项目提供了一个小捷径。对于接下来的几个问题，你可以使用 [TensorFlow Layers](https://www.tensorflow.org/api_docs/python/tf/layers) 或 [TensorFlow Layers (contrib)](https://www.tensorflow.org/api_guides/python/contrib.layers) 程序包中的类来构建每个层级，但是“卷积和最大池化层级”部分的层级除外。TF Layers 和 Keras 及 TFLearn 层级类似，因此很容易学会。\n",
    "\n",
    ">但是，如果你想充分利用这门课程，请尝试自己解决所有问题，不使用 TF Layers 程序包中的任何类。你依然可以使用其他程序包中的类，这些类和你在 TF Layers 中的类名称是一样的！例如，你可以使用 TF Neural Network 版本的 `conv2d` 类 [tf.nn.conv2d](https://www.tensorflow.org/api_docs/python/tf/nn/conv2d)，而不是 TF Layers 版本的 `conv2d` 类 [tf.layers.conv2d](https://www.tensorflow.org/api_docs/python/tf/layers/conv2d)。\n",
    "\n",
    "我们开始吧！\n",
    "\n",
    "\n",
    "### 输入\n",
    "\n",
    "神经网络需要读取图片数据、one-hot 编码标签和丢弃保留概率（dropout keep probability）。请实现以下函数：\n",
    "\n",
    "* 实现 `neural_net_image_input`\n",
    " * 返回 [TF Placeholder](https://www.tensorflow.org/api_docs/python/tf/placeholder)\n",
    " * 使用 `image_shape` 设置形状，部分大小设为 `None`\n",
    " * 使用 [TF Placeholder](https://www.tensorflow.org/api_docs/python/tf/placeholder) 中的 TensorFlow `name` 参数对 TensorFlow 占位符 \"x\" 命名\n",
    "* 实现 `neural_net_label_input`\n",
    " * 返回 [TF Placeholder](https://www.tensorflow.org/api_docs/python/tf/placeholder)\n",
    " * 使用 `n_classes` 设置形状，部分大小设为 `None`\n",
    " * 使用 [TF Placeholder](https://www.tensorflow.org/api_docs/python/tf/placeholder) 中的 TensorFlow `name` 参数对 TensorFlow 占位符 \"y\" 命名\n",
    "* 实现 `neural_net_keep_prob_input`\n",
    " * 返回 [TF Placeholder](https://www.tensorflow.org/api_docs/python/tf/placeholder)，用于丢弃保留概率\n",
    " * 使用 [TF Placeholder](https://www.tensorflow.org/api_docs/python/tf/placeholder) 中的 TensorFlow `name` 参数对 TensorFlow 占位符 \"keep_prob\" 命名\n",
    "\n",
    "这些名称将在项目结束时，用于加载保存的模型。\n",
    "\n",
    "注意：TensorFlow 中的 `None` 表示形状可以是动态大小。"
   ]
  },
  {
   "cell_type": "code",
   "execution_count": 7,
   "metadata": {},
   "outputs": [
    {
     "name": "stdout",
     "output_type": "stream",
     "text": [
      "Image Input Tests Passed.\n",
      "Label Input Tests Passed.\n",
      "Keep Prob Tests Passed.\n"
     ]
    }
   ],
   "source": [
    "import tensorflow as tf\n",
    "\n",
    "def neural_net_image_input(image_shape):\n",
    "    \"\"\"\n",
    "    Return a Tensor for a batch of image input\n",
    "    : image_shape: Shape of the images\n",
    "    : return: Tensor for image input.\n",
    "    \"\"\"\n",
    "    # TODO: Implement Function\n",
    "    return tf.placeholder(tf.float32, [None, image_shape[0], image_shape[1], image_shape[2]], name = 'x')\n",
    "\n",
    "\n",
    "def neural_net_label_input(n_classes):\n",
    "    \"\"\"\n",
    "    Return a Tensor for a batch of label input\n",
    "    : n_classes: Number of classes\n",
    "    : return: Tensor for label input.\n",
    "    \"\"\"\n",
    "    # TODO: Implement Function\n",
    "    return tf.placeholder(tf.float32, [None, n_classes], name = 'y')\n",
    "\n",
    "\n",
    "def neural_net_keep_prob_input():\n",
    "    \"\"\"\n",
    "    Return a Tensor for keep probability\n",
    "    : return: Tensor for keep probability.\n",
    "    \"\"\"\n",
    "    # TODO: Implement Function\n",
    "    return tf.placeholder(tf.float32, name = 'keep_prob')\n",
    "\n",
    "\n",
    "\"\"\"\n",
    "DON'T MODIFY ANYTHING IN THIS CELL THAT IS BELOW THIS LINE\n",
    "\"\"\"\n",
    "tf.reset_default_graph()\n",
    "tests.test_nn_image_inputs(neural_net_image_input)\n",
    "tests.test_nn_label_inputs(neural_net_label_input)\n",
    "tests.test_nn_keep_prob_inputs(neural_net_keep_prob_input)"
   ]
  },
  {
   "cell_type": "markdown",
   "metadata": {},
   "source": [
    "### 卷积和最大池化层\n",
    "\n",
    "卷积层级适合处理图片。对于此代码单元，你应该实现函数 `conv2d_maxpool` 以便应用卷积然后进行最大池化：\n",
    "\n",
    "* 使用 `conv_ksize`、`conv_num_outputs` 和 `x_tensor` 的形状创建权重（weight）和偏置（bias）。\n",
    "* 使用权重和 `conv_strides` 对 `x_tensor` 应用卷积。\n",
    " * 建议使用我们建议的间距（padding），当然也可以使用任何其他间距。\n",
    "* 添加偏置\n",
    "* 向卷积中添加非线性激活（nonlinear activation）\n",
    "* 使用 `pool_ksize` 和 `pool_strides` 应用最大池化\n",
    " * 建议使用我们建议的间距（padding），当然也可以使用任何其他间距。\n",
    "\n",
    "**注意**：对于**此层**，**请勿使用** [TensorFlow Layers](https://www.tensorflow.org/api_docs/python/tf/layers) 或 [TensorFlow Layers (contrib)](https://www.tensorflow.org/api_guides/python/contrib.layers)，但是仍然可以使用 TensorFlow 的 [Neural Network](https://www.tensorflow.org/api_docs/python/tf/nn) 包。对于所有**其他层**，你依然可以使用快捷方法。\n"
   ]
  },
  {
   "cell_type": "code",
   "execution_count": 23,
   "metadata": {},
   "outputs": [
    {
     "name": "stdout",
     "output_type": "stream",
     "text": [
      "Tests Passed\n"
     ]
    }
   ],
   "source": [
    "def conv2d_maxpool(x_tensor, conv_num_outputs, conv_ksize, conv_strides, pool_ksize, pool_strides):\n",
    "    \"\"\"\n",
    "    Apply convolution then max pooling to x_tensor\n",
    "    :param x_tensor: TensorFlow Tensor\n",
    "    :param conv_num_outputs: Number of outputs for the convolutional layer\n",
    "    :param conv_ksize: kernal size 2-D Tuple for the convolutional layer\n",
    "    :param conv_strides: Stride 2-D Tuple for convolution\n",
    "    :param pool_ksize: kernal size 2-D Tuple for pool\n",
    "    :param pool_strides: Stride 2-D Tuple for pool\n",
    "    : return: A tensor that represents convolution and max pooling of x_tensor\n",
    "    \"\"\"\n",
    "    # TODO: Implement Function\n",
    "    tensor_shape = x_tensor.get_shape().as_list()\n",
    "    weight = tf.Variable(tf.truncated_normal(\n",
    "                [conv_ksize[0], conv_ksize[1], tensor_shape[3], conv_num_outputs], stddev=0.1))\n",
    "    conv_layer = tf.nn.conv2d(x_tensor, weight, strides = [1, conv_strides[0], conv_strides[1], 1], padding = 'SAME')\n",
    "    \n",
    "    bias = tf.Variable(tf.zeros(conv_num_outputs))\n",
    "    conv_layer = tf.nn.bias_add(conv_layer, bias)\n",
    "    #conv_layer = conv_layer + bias\n",
    "    \n",
    "    conv_layer = tf.nn.relu(conv_layer)\n",
    "    \n",
    "    conv_layer = tf.nn.max_pool(\n",
    "                    conv_layer,\n",
    "                    ksize = [1, pool_ksize[0], pool_ksize[1], 1],\n",
    "                    strides = [1, pool_strides[0], pool_strides[1], 1],\n",
    "                    padding = 'SAME')\n",
    "    return conv_layer\n",
    "\n",
    "\n",
    "\"\"\"\n",
    "DON'T MODIFY ANYTHING IN THIS CELL THAT IS BELOW THIS LINE\n",
    "\"\"\"\n",
    "tests.test_con_pool(conv2d_maxpool)"
   ]
  },
  {
   "cell_type": "markdown",
   "metadata": {},
   "source": [
    "### 扁平化层\n",
    "\n",
    "实现 `flatten` 函数，将 `x_tensor` 的维度从四维张量（4-D tensor）变成二维张量。输出应该是形状（*部分大小（Batch Size）*，*扁平化图片大小（Flattened Image Size）*）。快捷方法：对于此层，你可以使用 [TensorFlow Layers](https://www.tensorflow.org/api_docs/python/tf/layers) 或 [TensorFlow Layers (contrib)](https://www.tensorflow.org/api_guides/python/contrib.layers) 包中的类。如果你想要更大挑战，可以仅使用其他 TensorFlow 程序包。\n"
   ]
  },
  {
   "cell_type": "code",
   "execution_count": 9,
   "metadata": {},
   "outputs": [
    {
     "name": "stdout",
     "output_type": "stream",
     "text": [
      "Tests Passed\n"
     ]
    }
   ],
   "source": [
    "def flatten(x_tensor):\n",
    "    \"\"\"\n",
    "    Flatten x_tensor to (Batch Size, Flattened Image Size)\n",
    "    : x_tensor: A tensor of size (Batch Size, ...), where ... are the image dimensions.\n",
    "    : return: A tensor of size (Batch Size, Flattened Image Size).\n",
    "    \"\"\"\n",
    "    # TODO: Implement Function\n",
    "    shape = x_tensor.get_shape().as_list()\n",
    "    flattened_size = np.prod(shape[1:])\n",
    "    return tf.reshape(x_tensor, [-1, flattened_size])\n",
    "\n",
    "\n",
    "\"\"\"\n",
    "DON'T MODIFY ANYTHING IN THIS CELL THAT IS BELOW THIS LINE\n",
    "\"\"\"\n",
    "tests.test_flatten(flatten)"
   ]
  },
  {
   "cell_type": "markdown",
   "metadata": {},
   "source": [
    "### 全连接层\n",
    "\n",
    "实现 `fully_conn` 函数，以向 `x_tensor` 应用完全连接的层级，形状为（*部分大小（Batch Size）*，*num_outputs*）。快捷方法：对于此层，你可以使用 [TensorFlow Layers](https://www.tensorflow.org/api_docs/python/tf/layers) 或 [TensorFlow Layers (contrib)](https://www.tensorflow.org/api_guides/python/contrib.layers) 包中的类。如果你想要更大挑战，可以仅使用其他 TensorFlow 程序包。"
   ]
  },
  {
   "cell_type": "code",
   "execution_count": 24,
   "metadata": {},
   "outputs": [
    {
     "name": "stdout",
     "output_type": "stream",
     "text": [
      "Tests Passed\n"
     ]
    }
   ],
   "source": [
    "from tensorflow.contrib.layers import fully_connected\n",
    "\n",
    "def fully_conn(x_tensor, num_outputs):\n",
    "    \"\"\"\n",
    "    Apply a fully connected layer to x_tensor using weight and bias\n",
    "    : x_tensor: A 2-D tensor where the first dimension is batch size.\n",
    "    : num_outputs: The number of output that the new tensor should be.\n",
    "    : return: A 2-D tensor where the second dimension is num_outputs.\n",
    "    \"\"\"\n",
    "    # TODO: Implement Function\n",
    "    weight = tf.Variable(tf.truncated_normal([x_tensor.get_shape().as_list()[1], num_outputs], stddev=0.1))\n",
    "    bias = tf.Variable(tf.zeros(num_outputs))\n",
    "    return tf.nn.relu(tf.matmul(x_tensor, weight) + bias)\n",
    "    #return fully_connected(inputs = x_tensor, num_outputs = num_outputs)\n",
    "    \n",
    "\"\"\"\n",
    "DON'T MODIFY ANYTHING IN THIS CELL THAT IS BELOW THIS LINE\n",
    "\"\"\"\n",
    "tests.test_fully_conn(fully_conn)"
   ]
  },
  {
   "cell_type": "markdown",
   "metadata": {},
   "source": [
    "### 输出层\n",
    "\n",
    "实现 `output` 函数，向 x_tensor 应用完全连接的层级，形状为（*部分大小（Batch Size）*，*num_outputs*）。快捷方法：对于此层，你可以使用 [TensorFlow Layers](https://www.tensorflow.org/api_docs/python/tf/layers) 或 [TensorFlow Layers (contrib)](https://www.tensorflow.org/api_guides/python/contrib.layers) 包中的类。如果你想要更大挑战，可以仅使用其他 TensorFlow 程序包。\n",
    "\n",
    "**注意**：该层级不应应用 Activation、softmax 或交叉熵（cross entropy）。"
   ]
  },
  {
   "cell_type": "code",
   "execution_count": 11,
   "metadata": {},
   "outputs": [
    {
     "name": "stdout",
     "output_type": "stream",
     "text": [
      "Tests Passed\n"
     ]
    }
   ],
   "source": [
    "def output(x_tensor, num_outputs):\n",
    "    \"\"\"\n",
    "    Apply a output layer to x_tensor using weight and bias\n",
    "    : x_tensor: A 2-D tensor where the first dimension is batch size.\n",
    "    : num_outputs: The number of output that the new tensor should be.\n",
    "    : return: A 2-D tensor where the second dimension is num_outputs.\n",
    "    \"\"\"\n",
    "    # TODO: Implement Function\n",
    "    weight = tf.Variable(tf.truncated_normal([x_tensor.get_shape().as_list()[1], num_outputs]))\n",
    "    bias = tf.Variable(tf.zeros(num_outputs))\n",
    "    return tf.matmul(x_tensor, weight) + bias\n",
    "    #return tf.nn.softmax(tf.matmul(x_tensor, weight) + bias)\n",
    "    #return fully_connected(inputs = x_tensor, num_outputs = num_outputs, activation_fn = None)\n",
    "\n",
    "\"\"\"\n",
    "DON'T MODIFY ANYTHING IN THIS CELL THAT IS BELOW THIS LINE\n",
    "\"\"\"\n",
    "tests.test_output(output)"
   ]
  },
  {
   "cell_type": "markdown",
   "metadata": {},
   "source": [
    "### 创建卷积模型\n",
    "\n",
    "实现函数 `conv_net`， 创建卷积神经网络模型。该函数传入一批图片 `x`，并输出对数（logits）。使用你在上方创建的层创建此模型：\n",
    "\n",
    "* 应用 1、2 或 3 个卷积和最大池化层（Convolution and Max Pool layers）\n",
    "* 应用一个扁平层（Flatten Layer）\n",
    "* 应用 1、2 或 3 个完全连接层（Fully Connected Layers）\n",
    "* 应用一个输出层（Output Layer）\n",
    "* 返回输出\n",
    "* 使用 `keep_prob` 向模型中的一个或多个层应用 [TensorFlow 的 Dropout](https://www.tensorflow.org/api_docs/python/tf/nn/dropout)"
   ]
  },
  {
   "cell_type": "code",
   "execution_count": 30,
   "metadata": {},
   "outputs": [
    {
     "name": "stdout",
     "output_type": "stream",
     "text": [
      "Neural Network Built!\n"
     ]
    }
   ],
   "source": [
    "def conv_net(x, keep_prob):\n",
    "    \"\"\"\n",
    "    Create a convolutional neural network model\n",
    "    : x: Placeholder tensor that holds image data.\n",
    "    : keep_prob: Placeholder tensor that hold dropout keep probability.\n",
    "    : return: Tensor that represents logits\n",
    "    \"\"\"\n",
    "    # TODO: Apply 1, 2, or 3 Convolution and Max Pool layers\n",
    "    #    Play around with different number of outputs, kernel size and stride\n",
    "    # Function Definition from Above:\n",
    "    #    conv2d_maxpool(x_tensor, conv_num_outputs, conv_ksize, conv_strides, pool_ksize, pool_strides)\n",
    "    conv_layer = conv2d_maxpool(\n",
    "                    x_tensor = x,\n",
    "                    conv_num_outputs = 32,\n",
    "                    conv_ksize = [5, 5],\n",
    "                    conv_strides = [1, 1],\n",
    "                    pool_ksize = [2, 2],\n",
    "                    pool_strides = [2, 2])\n",
    "    conv_layer = conv2d_maxpool(\n",
    "                    x_tensor = conv_layer,\n",
    "                    conv_num_outputs = 64,\n",
    "                    conv_ksize = [3, 3],\n",
    "                    conv_strides = [2, 2],\n",
    "                    pool_ksize = [2, 2],\n",
    "                    pool_strides = [2, 2])\n",
    "\n",
    "    # TODO: Apply a Flatten Layer\n",
    "    # Function Definition from Above:\n",
    "    #   flatten(x_tensor)\n",
    "    flattened_x = flatten(conv_layer)\n",
    "\n",
    "    # TODO: Apply 1, 2, or 3 Fully Connected Layers\n",
    "    #    Play around with different number of outputs\n",
    "    # Function Definition from Above:\n",
    "    #   fully_conn(x_tensor, num_outputs)\n",
    "    hidden_layer = fully_conn(flattened_x, 128)\n",
    "    hidden_layer = tf.nn.dropout(hidden_layer, keep_prob)\n",
    "    hidden_layer = fully_conn(hidden_layer, 64)\n",
    "    #hidden_layer = tf.nn.dropout(hidden_layer, keep_prob)\n",
    "    #hidden_layer = fully_conn(hidden_layer, 32)\n",
    "    \n",
    "    # TODO: Apply an Output Layer\n",
    "    #    Set this to the number of classes\n",
    "    # Function Definition from Above:\n",
    "    #   output(x_tensor, num_outputs)\n",
    "    output_label = output(hidden_layer, 10)\n",
    "    \n",
    "    # TODO: return output\n",
    "    return output_label\n",
    "\n",
    "\"\"\"\n",
    "DON'T MODIFY ANYTHING IN THIS CELL THAT IS BELOW THIS LINE\n",
    "\"\"\"\n",
    "\n",
    "##############################\n",
    "## Build the Neural Network ##\n",
    "##############################\n",
    "\n",
    "# Remove previous weights, bias, inputs, etc..\n",
    "tf.reset_default_graph()\n",
    "\n",
    "# Inputs\n",
    "x = neural_net_image_input((32, 32, 3))\n",
    "y = neural_net_label_input(10)\n",
    "keep_prob = neural_net_keep_prob_input()\n",
    "\n",
    "# Model\n",
    "logits = conv_net(x, keep_prob)\n",
    "\n",
    "# Name logits Tensor, so that is can be loaded from disk after training\n",
    "logits = tf.identity(logits, name='logits')\n",
    "\n",
    "# Loss and Optimizer\n",
    "cost = tf.reduce_mean(tf.nn.softmax_cross_entropy_with_logits(logits=logits, labels=y))\n",
    "optimizer = tf.train.AdamOptimizer().minimize(cost)\n",
    "\n",
    "# Accuracy\n",
    "correct_pred = tf.equal(tf.argmax(logits, 1), tf.argmax(y, 1))\n",
    "accuracy = tf.reduce_mean(tf.cast(correct_pred, tf.float32), name='accuracy')\n",
    "\n",
    "tests.test_conv_net(conv_net)"
   ]
  },
  {
   "cell_type": "markdown",
   "metadata": {},
   "source": [
    "## 训练神经网络\n",
    "\n",
    "### 单次优化\n",
    "\n",
    "实现函数 `train_neural_network` 以进行单次优化（single optimization）。该优化应该使用 `optimizer` 优化 `session`，其中 `feed_dict` 具有以下参数：\n",
    "\n",
    "* `x` 表示图片输入\n",
    "* `y` 表示标签\n",
    "* `keep_prob` 表示丢弃的保留率\n",
    "\n",
    "每个部分都会调用该函数，所以 `tf.global_variables_initializer()` 已经被调用。\n",
    "\n",
    "注意：不需要返回任何内容。该函数只是用来优化神经网络。\n"
   ]
  },
  {
   "cell_type": "code",
   "execution_count": 13,
   "metadata": {},
   "outputs": [
    {
     "name": "stdout",
     "output_type": "stream",
     "text": [
      "Tests Passed\n"
     ]
    }
   ],
   "source": [
    "def train_neural_network(session, optimizer, keep_probability, feature_batch, label_batch):\n",
    "    \"\"\"\n",
    "    Optimize the session on a batch of images and labels\n",
    "    : session: Current TensorFlow session\n",
    "    : optimizer: TensorFlow optimizer function\n",
    "    : keep_probability: keep probability\n",
    "    : feature_batch: Batch of Numpy image data\n",
    "    : label_batch: Batch of Numpy label data\n",
    "    \"\"\"\n",
    "    # TODO: Implement Function\n",
    "    session.run(optimizer, feed_dict = {x: feature_batch, y: label_batch, keep_prob: keep_probability})\n",
    "\n",
    "\"\"\"\n",
    "DON'T MODIFY ANYTHING IN THIS CELL THAT IS BELOW THIS LINE\n",
    "\"\"\"\n",
    "tests.test_train_nn(train_neural_network)"
   ]
  },
  {
   "cell_type": "markdown",
   "metadata": {},
   "source": [
    "### 显示数据\n",
    "\n",
    "实现函数 `print_stats` 以输出损失和验证准确率。使用全局变量 `valid_features` 和 `valid_labels` 计算验证准确率。使用保留率 `1.0` 计算损失和验证准确率（loss and validation accuracy）。\n"
   ]
  },
  {
   "cell_type": "code",
   "execution_count": 34,
   "metadata": {},
   "outputs": [],
   "source": [
    "def print_stats(session, feature_batch, label_batch, cost, accuracy):\n",
    "    \"\"\"\n",
    "    Print information about loss and validation accuracy\n",
    "    : session: Current TensorFlow session\n",
    "    : feature_batch: Batch of Numpy image data\n",
    "    : label_batch: Batch of Numpy label data\n",
    "    : cost: TensorFlow cost function\n",
    "    : accuracy: TensorFlow accuracy function\n",
    "    \"\"\"\n",
    "    # TODO: Implement Function\n",
    "    cost_value = session.run(cost, feed_dict = {x: feature_batch, y: label_batch, keep_prob: 1.0})\n",
    "    accuracy_value = session.run(accuracy, feed_dict = {x: valid_features, y: valid_labels, keep_prob: 1.0})\n",
    "    print(\"Cost: {:.4f}, Accuracy: {:.4f}\".format(cost_value, accuracy_value))"
   ]
  },
  {
   "cell_type": "markdown",
   "metadata": {},
   "source": [
    "### 超参数\n",
    "\n",
    "调试以下超参数：\n",
    "* 设置 `epochs` 表示神经网络停止学习或开始过拟合的迭代次数\n",
    "* 设置 `batch_size`，表示机器内存允许的部分最大体积。大部分人设为以下常见内存大小：\n",
    "\n",
    " * 64\n",
    " * 128\n",
    " * 256\n",
    " * ...\n",
    "* 设置 `keep_probability` 表示使用丢弃时保留节点的概率"
   ]
  },
  {
   "cell_type": "code",
   "execution_count": 36,
   "metadata": {},
   "outputs": [],
   "source": [
    "# TODO: Tune Parameters\n",
    "epochs = 60\n",
    "batch_size = 256\n",
    "keep_probability = 0.5"
   ]
  },
  {
   "cell_type": "markdown",
   "metadata": {},
   "source": [
    "### 在单个 CIFAR-10 部分上训练\n",
    "\n",
    "我们先用单个部分，而不是用所有的 CIFAR-10 批次训练神经网络。这样可以节省时间，并对模型进行迭代，以提高准确率。最终验证准确率达到 50% 或以上之后，在下一部分对所有数据运行模型。\n"
   ]
  },
  {
   "cell_type": "code",
   "execution_count": 35,
   "metadata": {
    "scrolled": true
   },
   "outputs": [
    {
     "name": "stdout",
     "output_type": "stream",
     "text": [
      "Checking the Training on a Single Batch...\n",
      "Epoch  1, CIFAR-10 Batch 1:  Cost: 2.1851, Accuracy: 0.2024\n",
      "Epoch  2, CIFAR-10 Batch 1:  Cost: 1.9965, Accuracy: 0.2898\n",
      "Epoch  3, CIFAR-10 Batch 1:  Cost: 1.8648, Accuracy: 0.3542\n",
      "Epoch  4, CIFAR-10 Batch 1:  Cost: 1.7501, Accuracy: 0.3790\n",
      "Epoch  5, CIFAR-10 Batch 1:  Cost: 1.6593, Accuracy: 0.3872\n",
      "Epoch  6, CIFAR-10 Batch 1:  Cost: 1.5553, Accuracy: 0.4278\n",
      "Epoch  7, CIFAR-10 Batch 1:  Cost: 1.4337, Accuracy: 0.4490\n",
      "Epoch  8, CIFAR-10 Batch 1:  Cost: 1.3673, Accuracy: 0.4576\n",
      "Epoch  9, CIFAR-10 Batch 1:  Cost: 1.2153, Accuracy: 0.4544\n",
      "Epoch 10, CIFAR-10 Batch 1:  Cost: 1.1650, Accuracy: 0.4822\n",
      "Epoch 11, CIFAR-10 Batch 1:  Cost: 0.9893, Accuracy: 0.4938\n",
      "Epoch 12, CIFAR-10 Batch 1:  Cost: 0.9920, Accuracy: 0.4982\n",
      "Epoch 13, CIFAR-10 Batch 1:  Cost: 0.8391, Accuracy: 0.5048\n",
      "Epoch 14, CIFAR-10 Batch 1:  Cost: 0.7654, Accuracy: 0.5106\n",
      "Epoch 15, CIFAR-10 Batch 1:  Cost: 0.6757, Accuracy: 0.5170\n",
      "Epoch 16, CIFAR-10 Batch 1:  Cost: 0.6012, Accuracy: 0.5260\n",
      "Epoch 17, CIFAR-10 Batch 1:  Cost: 0.5537, Accuracy: 0.5256\n",
      "Epoch 18, CIFAR-10 Batch 1:  Cost: 0.5219, Accuracy: 0.5298\n",
      "Epoch 19, CIFAR-10 Batch 1:  Cost: 0.4696, Accuracy: 0.5386\n",
      "Epoch 20, CIFAR-10 Batch 1:  Cost: 0.4260, Accuracy: 0.5408\n",
      "Epoch 21, CIFAR-10 Batch 1:  Cost: 0.3969, Accuracy: 0.5302\n",
      "Epoch 22, CIFAR-10 Batch 1:  Cost: 0.3654, Accuracy: 0.5298\n",
      "Epoch 23, CIFAR-10 Batch 1:  Cost: 0.3278, Accuracy: 0.5336\n",
      "Epoch 24, CIFAR-10 Batch 1:  Cost: 0.3072, Accuracy: 0.5172\n",
      "Epoch 25, CIFAR-10 Batch 1:  Cost: 0.2726, Accuracy: 0.5450\n",
      "Epoch 26, CIFAR-10 Batch 1:  Cost: 0.2628, Accuracy: 0.5336\n",
      "Epoch 27, CIFAR-10 Batch 1:  Cost: 0.2603, Accuracy: 0.5374\n",
      "Epoch 28, CIFAR-10 Batch 1:  Cost: 0.1944, Accuracy: 0.5514\n",
      "Epoch 29, CIFAR-10 Batch 1:  Cost: 0.1869, Accuracy: 0.5426\n",
      "Epoch 30, CIFAR-10 Batch 1:  Cost: 0.1650, Accuracy: 0.5460\n",
      "Epoch 31, CIFAR-10 Batch 1:  Cost: 0.1651, Accuracy: 0.5532\n",
      "Epoch 32, CIFAR-10 Batch 1:  Cost: 0.1250, Accuracy: 0.5660\n",
      "Epoch 33, CIFAR-10 Batch 1:  Cost: 0.1300, Accuracy: 0.5684\n",
      "Epoch 34, CIFAR-10 Batch 1:  Cost: 0.1315, Accuracy: 0.5492\n",
      "Epoch 35, CIFAR-10 Batch 1:  Cost: 0.1239, Accuracy: 0.5570\n",
      "Epoch 36, CIFAR-10 Batch 1:  Cost: 0.1187, Accuracy: 0.5408\n",
      "Epoch 37, CIFAR-10 Batch 1:  Cost: 0.0954, Accuracy: 0.5526\n",
      "Epoch 38, CIFAR-10 Batch 1:  Cost: 0.0881, Accuracy: 0.5586\n",
      "Epoch 39, CIFAR-10 Batch 1:  Cost: 0.0858, Accuracy: 0.5618\n",
      "Epoch 40, CIFAR-10 Batch 1:  Cost: 0.0572, Accuracy: 0.5572\n"
     ]
    }
   ],
   "source": [
    "\"\"\"\n",
    "DON'T MODIFY ANYTHING IN THIS CELL\n",
    "\"\"\"\n",
    "print('Checking the Training on a Single Batch...')\n",
    "with tf.Session() as sess:\n",
    "    # Initializing the variables\n",
    "    sess.run(tf.global_variables_initializer())\n",
    "    \n",
    "    # Training cycle\n",
    "    for epoch in range(epochs):\n",
    "        batch_i = 1\n",
    "        for batch_features, batch_labels in helper.load_preprocess_training_batch(batch_i, batch_size):\n",
    "            train_neural_network(sess, optimizer, keep_probability, batch_features, batch_labels)\n",
    "        print('Epoch {:>2}, CIFAR-10 Batch {}:  '.format(epoch + 1, batch_i), end='')\n",
    "        print_stats(sess, batch_features, batch_labels, cost, accuracy)"
   ]
  },
  {
   "cell_type": "markdown",
   "metadata": {},
   "source": [
    "### 完全训练模型\n",
    "\n",
    "现在，单个 CIFAR-10 部分的准确率已经不错了，试试所有五个部分吧。"
   ]
  },
  {
   "cell_type": "code",
   "execution_count": 37,
   "metadata": {},
   "outputs": [
    {
     "name": "stdout",
     "output_type": "stream",
     "text": [
      "Training...\n",
      "Epoch  1, CIFAR-10 Batch 1:  Cost: 2.2066, Accuracy: 0.2320\n",
      "Epoch  1, CIFAR-10 Batch 2:  Cost: 1.9708, Accuracy: 0.2926\n",
      "Epoch  1, CIFAR-10 Batch 3:  Cost: 1.6857, Accuracy: 0.3444\n",
      "Epoch  1, CIFAR-10 Batch 4:  Cost: 1.6889, Accuracy: 0.3708\n",
      "Epoch  1, CIFAR-10 Batch 5:  Cost: 1.6020, Accuracy: 0.4056\n",
      "Epoch  2, CIFAR-10 Batch 1:  Cost: 1.8291, Accuracy: 0.4082\n",
      "Epoch  2, CIFAR-10 Batch 2:  Cost: 1.6223, Accuracy: 0.4512\n",
      "Epoch  2, CIFAR-10 Batch 3:  Cost: 1.2696, Accuracy: 0.4398\n",
      "Epoch  2, CIFAR-10 Batch 4:  Cost: 1.3685, Accuracy: 0.4608\n",
      "Epoch  2, CIFAR-10 Batch 5:  Cost: 1.4204, Accuracy: 0.4836\n",
      "Epoch  3, CIFAR-10 Batch 1:  Cost: 1.5742, Accuracy: 0.4918\n",
      "Epoch  3, CIFAR-10 Batch 2:  Cost: 1.3243, Accuracy: 0.4938\n",
      "Epoch  3, CIFAR-10 Batch 3:  Cost: 1.0864, Accuracy: 0.5082\n",
      "Epoch  3, CIFAR-10 Batch 4:  Cost: 1.1801, Accuracy: 0.4862\n",
      "Epoch  3, CIFAR-10 Batch 5:  Cost: 1.2718, Accuracy: 0.5078\n",
      "Epoch  4, CIFAR-10 Batch 1:  Cost: 1.3141, Accuracy: 0.5152\n",
      "Epoch  4, CIFAR-10 Batch 2:  Cost: 1.1369, Accuracy: 0.5180\n",
      "Epoch  4, CIFAR-10 Batch 3:  Cost: 0.9514, Accuracy: 0.5220\n",
      "Epoch  4, CIFAR-10 Batch 4:  Cost: 1.0610, Accuracy: 0.5416\n",
      "Epoch  4, CIFAR-10 Batch 5:  Cost: 1.1254, Accuracy: 0.5368\n",
      "Epoch  5, CIFAR-10 Batch 1:  Cost: 1.1610, Accuracy: 0.5570\n",
      "Epoch  5, CIFAR-10 Batch 2:  Cost: 1.0453, Accuracy: 0.5108\n",
      "Epoch  5, CIFAR-10 Batch 3:  Cost: 0.8712, Accuracy: 0.5586\n",
      "Epoch  5, CIFAR-10 Batch 4:  Cost: 0.9579, Accuracy: 0.5622\n",
      "Epoch  5, CIFAR-10 Batch 5:  Cost: 0.9656, Accuracy: 0.5510\n",
      "Epoch  6, CIFAR-10 Batch 1:  Cost: 0.9751, Accuracy: 0.5784\n",
      "Epoch  6, CIFAR-10 Batch 2:  Cost: 0.9120, Accuracy: 0.5502\n",
      "Epoch  6, CIFAR-10 Batch 3:  Cost: 0.7769, Accuracy: 0.5770\n",
      "Epoch  6, CIFAR-10 Batch 4:  Cost: 0.8315, Accuracy: 0.5814\n",
      "Epoch  6, CIFAR-10 Batch 5:  Cost: 0.9180, Accuracy: 0.5776\n",
      "Epoch  7, CIFAR-10 Batch 1:  Cost: 0.8752, Accuracy: 0.5904\n",
      "Epoch  7, CIFAR-10 Batch 2:  Cost: 0.8354, Accuracy: 0.5802\n",
      "Epoch  7, CIFAR-10 Batch 3:  Cost: 0.6708, Accuracy: 0.5878\n",
      "Epoch  7, CIFAR-10 Batch 4:  Cost: 0.7344, Accuracy: 0.6056\n",
      "Epoch  7, CIFAR-10 Batch 5:  Cost: 0.7470, Accuracy: 0.5842\n",
      "Epoch  8, CIFAR-10 Batch 1:  Cost: 0.7343, Accuracy: 0.5978\n",
      "Epoch  8, CIFAR-10 Batch 2:  Cost: 0.8295, Accuracy: 0.5844\n",
      "Epoch  8, CIFAR-10 Batch 3:  Cost: 0.6981, Accuracy: 0.5972\n",
      "Epoch  8, CIFAR-10 Batch 4:  Cost: 0.7236, Accuracy: 0.6024\n",
      "Epoch  8, CIFAR-10 Batch 5:  Cost: 0.7151, Accuracy: 0.5938\n",
      "Epoch  9, CIFAR-10 Batch 1:  Cost: 0.7666, Accuracy: 0.6102\n",
      "Epoch  9, CIFAR-10 Batch 2:  Cost: 0.7998, Accuracy: 0.5950\n",
      "Epoch  9, CIFAR-10 Batch 3:  Cost: 0.5898, Accuracy: 0.6122\n",
      "Epoch  9, CIFAR-10 Batch 4:  Cost: 0.5932, Accuracy: 0.6182\n",
      "Epoch  9, CIFAR-10 Batch 5:  Cost: 0.6390, Accuracy: 0.5974\n",
      "Epoch 10, CIFAR-10 Batch 1:  Cost: 0.6493, Accuracy: 0.6308\n",
      "Epoch 10, CIFAR-10 Batch 2:  Cost: 0.6681, Accuracy: 0.6162\n",
      "Epoch 10, CIFAR-10 Batch 3:  Cost: 0.5467, Accuracy: 0.6110\n",
      "Epoch 10, CIFAR-10 Batch 4:  Cost: 0.5645, Accuracy: 0.6358\n",
      "Epoch 10, CIFAR-10 Batch 5:  Cost: 0.5696, Accuracy: 0.6142\n",
      "Epoch 11, CIFAR-10 Batch 1:  Cost: 0.6020, Accuracy: 0.6224\n",
      "Epoch 11, CIFAR-10 Batch 2:  Cost: 0.6015, Accuracy: 0.6280\n",
      "Epoch 11, CIFAR-10 Batch 3:  Cost: 0.4862, Accuracy: 0.6226\n",
      "Epoch 11, CIFAR-10 Batch 4:  Cost: 0.5256, Accuracy: 0.6428\n",
      "Epoch 11, CIFAR-10 Batch 5:  Cost: 0.5448, Accuracy: 0.6338\n",
      "Epoch 12, CIFAR-10 Batch 1:  Cost: 0.5518, Accuracy: 0.6410\n",
      "Epoch 12, CIFAR-10 Batch 2:  Cost: 0.5890, Accuracy: 0.6350\n",
      "Epoch 12, CIFAR-10 Batch 3:  Cost: 0.4703, Accuracy: 0.6398\n",
      "Epoch 12, CIFAR-10 Batch 4:  Cost: 0.4660, Accuracy: 0.6394\n",
      "Epoch 12, CIFAR-10 Batch 5:  Cost: 0.4894, Accuracy: 0.6364\n",
      "Epoch 13, CIFAR-10 Batch 1:  Cost: 0.5149, Accuracy: 0.6542\n",
      "Epoch 13, CIFAR-10 Batch 2:  Cost: 0.5338, Accuracy: 0.6372\n",
      "Epoch 13, CIFAR-10 Batch 3:  Cost: 0.4023, Accuracy: 0.6314\n",
      "Epoch 13, CIFAR-10 Batch 4:  Cost: 0.4585, Accuracy: 0.6512\n",
      "Epoch 13, CIFAR-10 Batch 5:  Cost: 0.4378, Accuracy: 0.6426\n",
      "Epoch 14, CIFAR-10 Batch 1:  Cost: 0.4494, Accuracy: 0.6550\n",
      "Epoch 14, CIFAR-10 Batch 2:  Cost: 0.5118, Accuracy: 0.6408\n",
      "Epoch 14, CIFAR-10 Batch 3:  Cost: 0.3533, Accuracy: 0.6334\n",
      "Epoch 14, CIFAR-10 Batch 4:  Cost: 0.4124, Accuracy: 0.6492\n",
      "Epoch 14, CIFAR-10 Batch 5:  Cost: 0.4280, Accuracy: 0.6488\n",
      "Epoch 15, CIFAR-10 Batch 1:  Cost: 0.3869, Accuracy: 0.6562\n",
      "Epoch 15, CIFAR-10 Batch 2:  Cost: 0.4031, Accuracy: 0.6544\n",
      "Epoch 15, CIFAR-10 Batch 3:  Cost: 0.3145, Accuracy: 0.6624\n",
      "Epoch 15, CIFAR-10 Batch 4:  Cost: 0.4451, Accuracy: 0.6424\n",
      "Epoch 15, CIFAR-10 Batch 5:  Cost: 0.4033, Accuracy: 0.6640\n",
      "Epoch 16, CIFAR-10 Batch 1:  Cost: 0.4083, Accuracy: 0.6564\n",
      "Epoch 16, CIFAR-10 Batch 2:  Cost: 0.3899, Accuracy: 0.6374\n",
      "Epoch 16, CIFAR-10 Batch 3:  Cost: 0.2955, Accuracy: 0.6630\n",
      "Epoch 16, CIFAR-10 Batch 4:  Cost: 0.3557, Accuracy: 0.6756\n",
      "Epoch 16, CIFAR-10 Batch 5:  Cost: 0.3953, Accuracy: 0.6710\n",
      "Epoch 17, CIFAR-10 Batch 1:  Cost: 0.4221, Accuracy: 0.6660\n",
      "Epoch 17, CIFAR-10 Batch 2:  Cost: 0.3412, Accuracy: 0.6574\n",
      "Epoch 17, CIFAR-10 Batch 3:  Cost: 0.2587, Accuracy: 0.6650\n",
      "Epoch 17, CIFAR-10 Batch 4:  Cost: 0.3440, Accuracy: 0.6678\n",
      "Epoch 17, CIFAR-10 Batch 5:  Cost: 0.3413, Accuracy: 0.6634\n",
      "Epoch 18, CIFAR-10 Batch 1:  Cost: 0.3791, Accuracy: 0.6680\n",
      "Epoch 18, CIFAR-10 Batch 2:  Cost: 0.2993, Accuracy: 0.6578\n",
      "Epoch 18, CIFAR-10 Batch 3:  Cost: 0.2332, Accuracy: 0.6688\n",
      "Epoch 18, CIFAR-10 Batch 4:  Cost: 0.3034, Accuracy: 0.6736\n",
      "Epoch 18, CIFAR-10 Batch 5:  Cost: 0.3304, Accuracy: 0.6702\n",
      "Epoch 19, CIFAR-10 Batch 1:  Cost: 0.3499, Accuracy: 0.6468\n",
      "Epoch 19, CIFAR-10 Batch 2:  Cost: 0.2902, Accuracy: 0.6768\n",
      "Epoch 19, CIFAR-10 Batch 3:  Cost: 0.2382, Accuracy: 0.6616\n",
      "Epoch 19, CIFAR-10 Batch 4:  Cost: 0.2678, Accuracy: 0.6776\n",
      "Epoch 19, CIFAR-10 Batch 5:  Cost: 0.3041, Accuracy: 0.6692\n",
      "Epoch 20, CIFAR-10 Batch 1:  Cost: 0.3399, Accuracy: 0.6680\n",
      "Epoch 20, CIFAR-10 Batch 2:  Cost: 0.2996, Accuracy: 0.6690\n",
      "Epoch 20, CIFAR-10 Batch 3:  Cost: 0.2457, Accuracy: 0.6670\n",
      "Epoch 20, CIFAR-10 Batch 4:  Cost: 0.2631, Accuracy: 0.6760\n",
      "Epoch 20, CIFAR-10 Batch 5:  Cost: 0.2593, Accuracy: 0.6712\n",
      "Epoch 21, CIFAR-10 Batch 1:  Cost: 0.3084, Accuracy: 0.6666\n",
      "Epoch 21, CIFAR-10 Batch 2:  Cost: 0.2506, Accuracy: 0.6780\n",
      "Epoch 21, CIFAR-10 Batch 3:  Cost: 0.2035, Accuracy: 0.6710\n",
      "Epoch 21, CIFAR-10 Batch 4:  Cost: 0.3302, Accuracy: 0.6570\n",
      "Epoch 21, CIFAR-10 Batch 5:  Cost: 0.2312, Accuracy: 0.6752\n",
      "Epoch 22, CIFAR-10 Batch 1:  Cost: 0.3010, Accuracy: 0.6716\n",
      "Epoch 22, CIFAR-10 Batch 2:  Cost: 0.2192, Accuracy: 0.6730\n",
      "Epoch 22, CIFAR-10 Batch 3:  Cost: 0.2145, Accuracy: 0.6546\n",
      "Epoch 22, CIFAR-10 Batch 4:  Cost: 0.2739, Accuracy: 0.6716\n",
      "Epoch 22, CIFAR-10 Batch 5:  Cost: 0.2206, Accuracy: 0.6712\n",
      "Epoch 23, CIFAR-10 Batch 1:  Cost: 0.2993, Accuracy: 0.6720\n",
      "Epoch 23, CIFAR-10 Batch 2:  Cost: 0.2393, Accuracy: 0.6818\n",
      "Epoch 23, CIFAR-10 Batch 3:  Cost: 0.1866, Accuracy: 0.6786\n",
      "Epoch 23, CIFAR-10 Batch 4:  Cost: 0.2319, Accuracy: 0.6854\n",
      "Epoch 23, CIFAR-10 Batch 5:  Cost: 0.2344, Accuracy: 0.6648\n",
      "Epoch 24, CIFAR-10 Batch 1:  Cost: 0.2723, Accuracy: 0.6802\n",
      "Epoch 24, CIFAR-10 Batch 2:  Cost: 0.2772, Accuracy: 0.6698\n",
      "Epoch 24, CIFAR-10 Batch 3:  Cost: 0.1852, Accuracy: 0.6668\n",
      "Epoch 24, CIFAR-10 Batch 4:  Cost: 0.2186, Accuracy: 0.6856\n",
      "Epoch 24, CIFAR-10 Batch 5:  Cost: 0.2166, Accuracy: 0.6770\n",
      "Epoch 25, CIFAR-10 Batch 1:  Cost: 0.2312, Accuracy: 0.6824\n",
      "Epoch 25, CIFAR-10 Batch 2:  Cost: 0.2241, Accuracy: 0.6722\n",
      "Epoch 25, CIFAR-10 Batch 3:  Cost: 0.1539, Accuracy: 0.6790\n",
      "Epoch 25, CIFAR-10 Batch 4:  Cost: 0.1936, Accuracy: 0.6870\n",
      "Epoch 25, CIFAR-10 Batch 5:  Cost: 0.2078, Accuracy: 0.6790\n",
      "Epoch 26, CIFAR-10 Batch 1:  Cost: 0.2209, Accuracy: 0.6814\n",
      "Epoch 26, CIFAR-10 Batch 2:  Cost: 0.2089, Accuracy: 0.6764\n",
      "Epoch 26, CIFAR-10 Batch 3:  Cost: 0.1518, Accuracy: 0.6688\n",
      "Epoch 26, CIFAR-10 Batch 4:  Cost: 0.1855, Accuracy: 0.6820\n",
      "Epoch 26, CIFAR-10 Batch 5:  Cost: 0.1574, Accuracy: 0.6790\n",
      "Epoch 27, CIFAR-10 Batch 1:  Cost: 0.1843, Accuracy: 0.6826\n",
      "Epoch 27, CIFAR-10 Batch 2:  Cost: 0.1840, Accuracy: 0.6744\n",
      "Epoch 27, CIFAR-10 Batch 3:  Cost: 0.1482, Accuracy: 0.6804\n",
      "Epoch 27, CIFAR-10 Batch 4:  Cost: 0.1799, Accuracy: 0.6860\n",
      "Epoch 27, CIFAR-10 Batch 5:  Cost: 0.1658, Accuracy: 0.6858\n",
      "Epoch 28, CIFAR-10 Batch 1:  Cost: 0.1771, Accuracy: 0.6926\n"
     ]
    },
    {
     "name": "stdout",
     "output_type": "stream",
     "text": [
      "Epoch 28, CIFAR-10 Batch 2:  Cost: 0.1573, Accuracy: 0.6816\n",
      "Epoch 28, CIFAR-10 Batch 3:  Cost: 0.1242, Accuracy: 0.6826\n",
      "Epoch 28, CIFAR-10 Batch 4:  Cost: 0.1756, Accuracy: 0.6644\n",
      "Epoch 28, CIFAR-10 Batch 5:  Cost: 0.1634, Accuracy: 0.6790\n",
      "Epoch 29, CIFAR-10 Batch 1:  Cost: 0.1831, Accuracy: 0.6966\n",
      "Epoch 29, CIFAR-10 Batch 2:  Cost: 0.1739, Accuracy: 0.6822\n",
      "Epoch 29, CIFAR-10 Batch 3:  Cost: 0.1287, Accuracy: 0.6792\n",
      "Epoch 29, CIFAR-10 Batch 4:  Cost: 0.1764, Accuracy: 0.6766\n",
      "Epoch 29, CIFAR-10 Batch 5:  Cost: 0.1504, Accuracy: 0.6952\n",
      "Epoch 30, CIFAR-10 Batch 1:  Cost: 0.1857, Accuracy: 0.6956\n",
      "Epoch 30, CIFAR-10 Batch 2:  Cost: 0.1516, Accuracy: 0.6618\n",
      "Epoch 30, CIFAR-10 Batch 3:  Cost: 0.1000, Accuracy: 0.6782\n",
      "Epoch 30, CIFAR-10 Batch 4:  Cost: 0.1591, Accuracy: 0.6882\n",
      "Epoch 30, CIFAR-10 Batch 5:  Cost: 0.1359, Accuracy: 0.6912\n",
      "Epoch 31, CIFAR-10 Batch 1:  Cost: 0.2004, Accuracy: 0.6808\n",
      "Epoch 31, CIFAR-10 Batch 2:  Cost: 0.1464, Accuracy: 0.6696\n",
      "Epoch 31, CIFAR-10 Batch 3:  Cost: 0.1067, Accuracy: 0.6806\n",
      "Epoch 31, CIFAR-10 Batch 4:  Cost: 0.1453, Accuracy: 0.6774\n",
      "Epoch 31, CIFAR-10 Batch 5:  Cost: 0.1512, Accuracy: 0.6816\n",
      "Epoch 32, CIFAR-10 Batch 1:  Cost: 0.2102, Accuracy: 0.6786\n",
      "Epoch 32, CIFAR-10 Batch 2:  Cost: 0.1253, Accuracy: 0.6614\n",
      "Epoch 32, CIFAR-10 Batch 3:  Cost: 0.1028, Accuracy: 0.6898\n",
      "Epoch 32, CIFAR-10 Batch 4:  Cost: 0.2213, Accuracy: 0.6544\n",
      "Epoch 32, CIFAR-10 Batch 5:  Cost: 0.1300, Accuracy: 0.6776\n",
      "Epoch 33, CIFAR-10 Batch 1:  Cost: 0.1791, Accuracy: 0.6838\n",
      "Epoch 33, CIFAR-10 Batch 2:  Cost: 0.1228, Accuracy: 0.6542\n",
      "Epoch 33, CIFAR-10 Batch 3:  Cost: 0.0883, Accuracy: 0.6692\n",
      "Epoch 33, CIFAR-10 Batch 4:  Cost: 0.1571, Accuracy: 0.6772\n",
      "Epoch 33, CIFAR-10 Batch 5:  Cost: 0.1104, Accuracy: 0.6772\n",
      "Epoch 34, CIFAR-10 Batch 1:  Cost: 0.1616, Accuracy: 0.6912\n",
      "Epoch 34, CIFAR-10 Batch 2:  Cost: 0.1066, Accuracy: 0.6668\n",
      "Epoch 34, CIFAR-10 Batch 3:  Cost: 0.0850, Accuracy: 0.6826\n",
      "Epoch 34, CIFAR-10 Batch 4:  Cost: 0.1294, Accuracy: 0.6798\n",
      "Epoch 34, CIFAR-10 Batch 5:  Cost: 0.1095, Accuracy: 0.6788\n",
      "Epoch 35, CIFAR-10 Batch 1:  Cost: 0.1361, Accuracy: 0.6908\n",
      "Epoch 35, CIFAR-10 Batch 2:  Cost: 0.0958, Accuracy: 0.6682\n",
      "Epoch 35, CIFAR-10 Batch 3:  Cost: 0.0834, Accuracy: 0.6808\n",
      "Epoch 35, CIFAR-10 Batch 4:  Cost: 0.1100, Accuracy: 0.6860\n",
      "Epoch 35, CIFAR-10 Batch 5:  Cost: 0.1025, Accuracy: 0.6814\n",
      "Epoch 36, CIFAR-10 Batch 1:  Cost: 0.1281, Accuracy: 0.6872\n",
      "Epoch 36, CIFAR-10 Batch 2:  Cost: 0.0758, Accuracy: 0.6678\n",
      "Epoch 36, CIFAR-10 Batch 3:  Cost: 0.0716, Accuracy: 0.6858\n",
      "Epoch 36, CIFAR-10 Batch 4:  Cost: 0.1130, Accuracy: 0.6806\n",
      "Epoch 36, CIFAR-10 Batch 5:  Cost: 0.0884, Accuracy: 0.6854\n",
      "Epoch 37, CIFAR-10 Batch 1:  Cost: 0.1436, Accuracy: 0.6868\n",
      "Epoch 37, CIFAR-10 Batch 2:  Cost: 0.0836, Accuracy: 0.6642\n",
      "Epoch 37, CIFAR-10 Batch 3:  Cost: 0.0709, Accuracy: 0.6888\n",
      "Epoch 37, CIFAR-10 Batch 4:  Cost: 0.0960, Accuracy: 0.6732\n",
      "Epoch 37, CIFAR-10 Batch 5:  Cost: 0.0824, Accuracy: 0.6860\n",
      "Epoch 38, CIFAR-10 Batch 1:  Cost: 0.1218, Accuracy: 0.6876\n",
      "Epoch 38, CIFAR-10 Batch 2:  Cost: 0.0941, Accuracy: 0.6548\n",
      "Epoch 38, CIFAR-10 Batch 3:  Cost: 0.0519, Accuracy: 0.6806\n",
      "Epoch 38, CIFAR-10 Batch 4:  Cost: 0.1165, Accuracy: 0.6810\n",
      "Epoch 38, CIFAR-10 Batch 5:  Cost: 0.0914, Accuracy: 0.6822\n",
      "Epoch 39, CIFAR-10 Batch 1:  Cost: 0.1167, Accuracy: 0.6912\n",
      "Epoch 39, CIFAR-10 Batch 2:  Cost: 0.0990, Accuracy: 0.6552\n",
      "Epoch 39, CIFAR-10 Batch 3:  Cost: 0.0645, Accuracy: 0.6838\n",
      "Epoch 39, CIFAR-10 Batch 4:  Cost: 0.1039, Accuracy: 0.6718\n",
      "Epoch 39, CIFAR-10 Batch 5:  Cost: 0.0843, Accuracy: 0.6894\n",
      "Epoch 40, CIFAR-10 Batch 1:  Cost: 0.1181, Accuracy: 0.6910\n",
      "Epoch 40, CIFAR-10 Batch 2:  Cost: 0.0752, Accuracy: 0.6738\n",
      "Epoch 40, CIFAR-10 Batch 3:  Cost: 0.0635, Accuracy: 0.6782\n",
      "Epoch 40, CIFAR-10 Batch 4:  Cost: 0.0760, Accuracy: 0.6826\n",
      "Epoch 40, CIFAR-10 Batch 5:  Cost: 0.0742, Accuracy: 0.6874\n",
      "Epoch 41, CIFAR-10 Batch 1:  Cost: 0.1200, Accuracy: 0.6940\n",
      "Epoch 41, CIFAR-10 Batch 2:  Cost: 0.0833, Accuracy: 0.6588\n",
      "Epoch 41, CIFAR-10 Batch 3:  Cost: 0.0503, Accuracy: 0.6866\n",
      "Epoch 41, CIFAR-10 Batch 4:  Cost: 0.0959, Accuracy: 0.6728\n",
      "Epoch 41, CIFAR-10 Batch 5:  Cost: 0.0818, Accuracy: 0.6880\n",
      "Epoch 42, CIFAR-10 Batch 1:  Cost: 0.1114, Accuracy: 0.6910\n",
      "Epoch 42, CIFAR-10 Batch 2:  Cost: 0.0573, Accuracy: 0.6732\n",
      "Epoch 42, CIFAR-10 Batch 3:  Cost: 0.0759, Accuracy: 0.6842\n",
      "Epoch 42, CIFAR-10 Batch 4:  Cost: 0.0873, Accuracy: 0.6700\n",
      "Epoch 42, CIFAR-10 Batch 5:  Cost: 0.0855, Accuracy: 0.6824\n",
      "Epoch 43, CIFAR-10 Batch 1:  Cost: 0.1194, Accuracy: 0.6960\n",
      "Epoch 43, CIFAR-10 Batch 2:  Cost: 0.0668, Accuracy: 0.6630\n",
      "Epoch 43, CIFAR-10 Batch 3:  Cost: 0.0573, Accuracy: 0.6792\n",
      "Epoch 43, CIFAR-10 Batch 4:  Cost: 0.0732, Accuracy: 0.6744\n",
      "Epoch 43, CIFAR-10 Batch 5:  Cost: 0.0972, Accuracy: 0.6930\n",
      "Epoch 44, CIFAR-10 Batch 1:  Cost: 0.1160, Accuracy: 0.6874\n",
      "Epoch 44, CIFAR-10 Batch 2:  Cost: 0.0529, Accuracy: 0.6754\n",
      "Epoch 44, CIFAR-10 Batch 3:  Cost: 0.0576, Accuracy: 0.6672\n",
      "Epoch 44, CIFAR-10 Batch 4:  Cost: 0.0762, Accuracy: 0.6670\n",
      "Epoch 44, CIFAR-10 Batch 5:  Cost: 0.0813, Accuracy: 0.6950\n",
      "Epoch 45, CIFAR-10 Batch 1:  Cost: 0.1081, Accuracy: 0.6860\n",
      "Epoch 45, CIFAR-10 Batch 2:  Cost: 0.0559, Accuracy: 0.6658\n",
      "Epoch 45, CIFAR-10 Batch 3:  Cost: 0.0803, Accuracy: 0.6712\n",
      "Epoch 45, CIFAR-10 Batch 4:  Cost: 0.0707, Accuracy: 0.6752\n",
      "Epoch 45, CIFAR-10 Batch 5:  Cost: 0.0745, Accuracy: 0.6840\n",
      "Epoch 46, CIFAR-10 Batch 1:  Cost: 0.1138, Accuracy: 0.6896\n",
      "Epoch 46, CIFAR-10 Batch 2:  Cost: 0.0487, Accuracy: 0.6624\n",
      "Epoch 46, CIFAR-10 Batch 3:  Cost: 0.0476, Accuracy: 0.6806\n",
      "Epoch 46, CIFAR-10 Batch 4:  Cost: 0.0696, Accuracy: 0.6698\n",
      "Epoch 46, CIFAR-10 Batch 5:  Cost: 0.0638, Accuracy: 0.6866\n",
      "Epoch 47, CIFAR-10 Batch 1:  Cost: 0.0877, Accuracy: 0.6874\n",
      "Epoch 47, CIFAR-10 Batch 2:  Cost: 0.0539, Accuracy: 0.6802\n",
      "Epoch 47, CIFAR-10 Batch 3:  Cost: 0.0530, Accuracy: 0.6808\n",
      "Epoch 47, CIFAR-10 Batch 4:  Cost: 0.0686, Accuracy: 0.6670\n",
      "Epoch 47, CIFAR-10 Batch 5:  Cost: 0.0547, Accuracy: 0.6844\n",
      "Epoch 48, CIFAR-10 Batch 1:  Cost: 0.0965, Accuracy: 0.6922\n",
      "Epoch 48, CIFAR-10 Batch 2:  Cost: 0.0678, Accuracy: 0.6534\n",
      "Epoch 48, CIFAR-10 Batch 3:  Cost: 0.0567, Accuracy: 0.6812\n",
      "Epoch 48, CIFAR-10 Batch 4:  Cost: 0.0786, Accuracy: 0.6698\n",
      "Epoch 48, CIFAR-10 Batch 5:  Cost: 0.0611, Accuracy: 0.6958\n",
      "Epoch 49, CIFAR-10 Batch 1:  Cost: 0.1031, Accuracy: 0.6888\n",
      "Epoch 49, CIFAR-10 Batch 2:  Cost: 0.0553, Accuracy: 0.6640\n",
      "Epoch 49, CIFAR-10 Batch 3:  Cost: 0.0570, Accuracy: 0.6934\n",
      "Epoch 49, CIFAR-10 Batch 4:  Cost: 0.0493, Accuracy: 0.6738\n",
      "Epoch 49, CIFAR-10 Batch 5:  Cost: 0.0600, Accuracy: 0.6884\n",
      "Epoch 50, CIFAR-10 Batch 1:  Cost: 0.1133, Accuracy: 0.6768\n",
      "Epoch 50, CIFAR-10 Batch 2:  Cost: 0.0432, Accuracy: 0.6854\n",
      "Epoch 50, CIFAR-10 Batch 3:  Cost: 0.0746, Accuracy: 0.6878\n",
      "Epoch 50, CIFAR-10 Batch 4:  Cost: 0.0606, Accuracy: 0.6844\n",
      "Epoch 50, CIFAR-10 Batch 5:  Cost: 0.0532, Accuracy: 0.6840\n",
      "Epoch 51, CIFAR-10 Batch 1:  Cost: 0.0960, Accuracy: 0.6888\n",
      "Epoch 51, CIFAR-10 Batch 2:  Cost: 0.0493, Accuracy: 0.6790\n",
      "Epoch 51, CIFAR-10 Batch 3:  Cost: 0.0398, Accuracy: 0.6844\n",
      "Epoch 51, CIFAR-10 Batch 4:  Cost: 0.0346, Accuracy: 0.6810\n",
      "Epoch 51, CIFAR-10 Batch 5:  Cost: 0.0466, Accuracy: 0.6828\n",
      "Epoch 52, CIFAR-10 Batch 1:  Cost: 0.0904, Accuracy: 0.6676\n",
      "Epoch 52, CIFAR-10 Batch 2:  Cost: 0.0376, Accuracy: 0.6874\n",
      "Epoch 52, CIFAR-10 Batch 3:  Cost: 0.0446, Accuracy: 0.6670\n",
      "Epoch 52, CIFAR-10 Batch 4:  Cost: 0.0549, Accuracy: 0.6834\n",
      "Epoch 52, CIFAR-10 Batch 5:  Cost: 0.0529, Accuracy: 0.6870\n",
      "Epoch 53, CIFAR-10 Batch 1:  Cost: 0.0881, Accuracy: 0.6748\n",
      "Epoch 53, CIFAR-10 Batch 2:  Cost: 0.0346, Accuracy: 0.6670\n",
      "Epoch 53, CIFAR-10 Batch 3:  Cost: 0.0503, Accuracy: 0.6878\n",
      "Epoch 53, CIFAR-10 Batch 4:  Cost: 0.0393, Accuracy: 0.6836\n",
      "Epoch 53, CIFAR-10 Batch 5:  Cost: 0.0476, Accuracy: 0.6762\n",
      "Epoch 54, CIFAR-10 Batch 1:  Cost: 0.0887, Accuracy: 0.6662\n",
      "Epoch 54, CIFAR-10 Batch 2:  Cost: 0.0434, Accuracy: 0.6780\n",
      "Epoch 54, CIFAR-10 Batch 3:  Cost: 0.0454, Accuracy: 0.6910\n",
      "Epoch 54, CIFAR-10 Batch 4:  Cost: 0.0388, Accuracy: 0.6858\n",
      "Epoch 54, CIFAR-10 Batch 5:  Cost: 0.0489, Accuracy: 0.6890\n",
      "Epoch 55, CIFAR-10 Batch 1:  Cost: 0.1263, Accuracy: 0.6664\n",
      "Epoch 55, CIFAR-10 Batch 2:  Cost: 0.0368, Accuracy: 0.6742\n",
      "Epoch 55, CIFAR-10 Batch 3:  Cost: 0.0437, Accuracy: 0.6888\n"
     ]
    },
    {
     "name": "stdout",
     "output_type": "stream",
     "text": [
      "Epoch 55, CIFAR-10 Batch 4:  Cost: 0.0437, Accuracy: 0.6924\n",
      "Epoch 55, CIFAR-10 Batch 5:  Cost: 0.0444, Accuracy: 0.6908\n",
      "Epoch 56, CIFAR-10 Batch 1:  Cost: 0.0803, Accuracy: 0.6634\n",
      "Epoch 56, CIFAR-10 Batch 2:  Cost: 0.0379, Accuracy: 0.6746\n",
      "Epoch 56, CIFAR-10 Batch 3:  Cost: 0.0407, Accuracy: 0.6960\n",
      "Epoch 56, CIFAR-10 Batch 4:  Cost: 0.0434, Accuracy: 0.6774\n",
      "Epoch 56, CIFAR-10 Batch 5:  Cost: 0.0419, Accuracy: 0.6912\n",
      "Epoch 57, CIFAR-10 Batch 1:  Cost: 0.0654, Accuracy: 0.6694\n",
      "Epoch 57, CIFAR-10 Batch 2:  Cost: 0.0272, Accuracy: 0.6768\n",
      "Epoch 57, CIFAR-10 Batch 3:  Cost: 0.0267, Accuracy: 0.6940\n",
      "Epoch 57, CIFAR-10 Batch 4:  Cost: 0.0379, Accuracy: 0.6814\n",
      "Epoch 57, CIFAR-10 Batch 5:  Cost: 0.0458, Accuracy: 0.6840\n",
      "Epoch 58, CIFAR-10 Batch 1:  Cost: 0.0657, Accuracy: 0.6650\n",
      "Epoch 58, CIFAR-10 Batch 2:  Cost: 0.0229, Accuracy: 0.6862\n",
      "Epoch 58, CIFAR-10 Batch 3:  Cost: 0.0398, Accuracy: 0.6924\n",
      "Epoch 58, CIFAR-10 Batch 4:  Cost: 0.0421, Accuracy: 0.6888\n",
      "Epoch 58, CIFAR-10 Batch 5:  Cost: 0.0362, Accuracy: 0.6922\n",
      "Epoch 59, CIFAR-10 Batch 1:  Cost: 0.0951, Accuracy: 0.6640\n",
      "Epoch 59, CIFAR-10 Batch 2:  Cost: 0.0567, Accuracy: 0.6910\n",
      "Epoch 59, CIFAR-10 Batch 3:  Cost: 0.0365, Accuracy: 0.6860\n",
      "Epoch 59, CIFAR-10 Batch 4:  Cost: 0.0478, Accuracy: 0.6822\n",
      "Epoch 59, CIFAR-10 Batch 5:  Cost: 0.0520, Accuracy: 0.6916\n",
      "Epoch 60, CIFAR-10 Batch 1:  Cost: 0.0729, Accuracy: 0.6664\n",
      "Epoch 60, CIFAR-10 Batch 2:  Cost: 0.0344, Accuracy: 0.6860\n",
      "Epoch 60, CIFAR-10 Batch 3:  Cost: 0.0417, Accuracy: 0.6814\n",
      "Epoch 60, CIFAR-10 Batch 4:  Cost: 0.0381, Accuracy: 0.6876\n",
      "Epoch 60, CIFAR-10 Batch 5:  Cost: 0.0373, Accuracy: 0.6906\n"
     ]
    }
   ],
   "source": [
    "\"\"\"\n",
    "DON'T MODIFY ANYTHING IN THIS CELL\n",
    "\"\"\"\n",
    "save_model_path = './image_classification'\n",
    "\n",
    "print('Training...')\n",
    "with tf.Session() as sess:\n",
    "    # Initializing the variables\n",
    "    sess.run(tf.global_variables_initializer())\n",
    "    \n",
    "    # Training cycle\n",
    "    for epoch in range(epochs):\n",
    "        # Loop over all batches\n",
    "        n_batches = 5\n",
    "        for batch_i in range(1, n_batches + 1):\n",
    "            for batch_features, batch_labels in helper.load_preprocess_training_batch(batch_i, batch_size):\n",
    "                train_neural_network(sess, optimizer, keep_probability, batch_features, batch_labels)\n",
    "            print('Epoch {:>2}, CIFAR-10 Batch {}:  '.format(epoch + 1, batch_i), end='')\n",
    "            print_stats(sess, batch_features, batch_labels, cost, accuracy)\n",
    "            \n",
    "    # Save Model\n",
    "    saver = tf.train.Saver()\n",
    "    save_path = saver.save(sess, save_model_path)"
   ]
  },
  {
   "cell_type": "markdown",
   "metadata": {},
   "source": [
    "# 检查点\n",
    "\n",
    "模型已保存到本地。\n",
    "\n",
    "## 测试模型\n",
    "\n",
    "利用测试数据集测试你的模型。这将是最终的准确率。你的准确率应该高于 50%。如果没达到，请继续调整模型结构和参数。"
   ]
  },
  {
   "cell_type": "code",
   "execution_count": 38,
   "metadata": {},
   "outputs": [
    {
     "name": "stdout",
     "output_type": "stream",
     "text": [
      "INFO:tensorflow:Restoring parameters from ./image_classification\n",
      "Testing Accuracy: 0.6822265625\n",
      "\n"
     ]
    },
    {
     "data": {
      "image/png": "[encoded data removed]",
      "text/plain": [
       "<matplotlib.figure.Figure at 0x7fc070d2ddd8>"
      ]
     },
     "metadata": {
      "image/png": {
       "height": 319,
       "width": 355
      }
     },
     "output_type": "display_data"
    }
   ],
   "source": [
    "\"\"\"\n",
    "DON'T MODIFY ANYTHING IN THIS CELL\n",
    "\"\"\"\n",
    "%matplotlib inline\n",
    "%config InlineBackend.figure_format = 'retina'\n",
    "\n",
    "import tensorflow as tf\n",
    "import pickle\n",
    "import helper\n",
    "import random\n",
    "\n",
    "# Set batch size if not already set\n",
    "try:\n",
    "    if batch_size:\n",
    "        pass\n",
    "except NameError:\n",
    "    batch_size = 64\n",
    "\n",
    "save_model_path = './image_classification'\n",
    "n_samples = 4\n",
    "top_n_predictions = 3\n",
    "\n",
    "def test_model():\n",
    "    \"\"\"\n",
    "    Test the saved model against the test dataset\n",
    "    \"\"\"\n",
    "\n",
    "    test_features, test_labels = pickle.load(open('preprocess_test.p', mode='rb'))\n",
    "    loaded_graph = tf.Graph()\n",
    "\n",
    "    with tf.Session(graph=loaded_graph) as sess:\n",
    "        # Load model\n",
    "        loader = tf.train.import_meta_graph(save_model_path + '.meta')\n",
    "        loader.restore(sess, save_model_path)\n",
    "\n",
    "        # Get Tensors from loaded model\n",
    "        loaded_x = loaded_graph.get_tensor_by_name('x:0')\n",
    "        loaded_y = loaded_graph.get_tensor_by_name('y:0')\n",
    "        loaded_keep_prob = loaded_graph.get_tensor_by_name('keep_prob:0')\n",
    "        loaded_logits = loaded_graph.get_tensor_by_name('logits:0')\n",
    "        loaded_acc = loaded_graph.get_tensor_by_name('accuracy:0')\n",
    "        \n",
    "        # Get accuracy in batches for memory limitations\n",
    "        test_batch_acc_total = 0\n",
    "        test_batch_count = 0\n",
    "        \n",
    "        for test_feature_batch, test_label_batch in helper.batch_features_labels(test_features, test_labels, batch_size):\n",
    "            test_batch_acc_total += sess.run(\n",
    "                loaded_acc,\n",
    "                feed_dict={loaded_x: test_feature_batch, loaded_y: test_label_batch, loaded_keep_prob: 1.0})\n",
    "            test_batch_count += 1\n",
    "\n",
    "        print('Testing Accuracy: {}\\n'.format(test_batch_acc_total/test_batch_count))\n",
    "\n",
    "        # Print Random Samples\n",
    "        random_test_features, random_test_labels = tuple(zip(*random.sample(list(zip(test_features, test_labels)), n_samples)))\n",
    "        random_test_predictions = sess.run(\n",
    "            tf.nn.top_k(tf.nn.softmax(loaded_logits), top_n_predictions),\n",
    "            feed_dict={loaded_x: random_test_features, loaded_y: random_test_labels, loaded_keep_prob: 1.0})\n",
    "        helper.display_image_predictions(random_test_features, random_test_labels, random_test_predictions)\n",
    "\n",
    "\n",
    "test_model()"
   ]
  },
  {
   "cell_type": "markdown",
   "metadata": {},
   "source": [
    "## 为何准确率只有50-80%？\n",
    "\n",
    "你可能想问，为何准确率不能更高了？首先，对于简单的 CNN 网络来说，50% 已经不低了。纯粹猜测的准确率为10%。但是，你可能注意到有人的准确率[远远超过 80%](http://rodrigob.github.io/are_we_there_yet/build/classification_datasets_results.html#43494641522d3130)。这是因为我们还没有介绍所有的神经网络知识。我们还需要掌握一些其他技巧。\n",
    "\n",
    "## 提交项目\n",
    "\n",
    "提交项目时，确保先运行所有单元，然后再保存记事本。将 notebook 文件另存为“dlnd_image_classification.ipynb”，再在目录 \"File\" -> \"Download as\" 另存为 HTML 格式。请在提交的项目中包含 “helper.py” 和 “problem_unittests.py” 文件。\n"
   ]
  }
 ],
 "metadata": {
  "kernelspec": {
   "display_name": "Python 3",
   "language": "python",
   "name": "python3"
  },
  "language_info": {
   "codemirror_mode": {
    "name": "ipython",
    "version": 3
   },
   "file_extension": ".py",
   "mimetype": "text/x-python",
   "name": "python",
   "nbconvert_exporter": "python",
   "pygments_lexer": "ipython3",
   "version": "3.5.2"
  }
 },
 "nbformat": 4,
 "nbformat_minor": 1
}
